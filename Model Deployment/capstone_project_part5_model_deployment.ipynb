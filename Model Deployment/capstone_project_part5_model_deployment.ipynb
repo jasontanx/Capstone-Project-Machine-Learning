{
  "nbformat": 4,
  "nbformat_minor": 0,
  "metadata": {
    "colab": {
      "provenance": []
    },
    "kernelspec": {
      "name": "python3",
      "display_name": "Python 3"
    },
    "language_info": {
      "name": "python"
    }
  },
  "cells": [
    {
      "cell_type": "markdown",
      "source": [
        "Capstone - Part 5\n",
        "\n",
        "Topic: Model Deployment\n",
        "\n",
        "Created By: Jason"
      ],
      "metadata": {
        "id": "TI2z0qqkFBxB"
      }
    },
    {
      "cell_type": "code",
      "execution_count": 1,
      "metadata": {
        "colab": {
          "base_uri": "https://localhost:8080/"
        },
        "id": "WrxHr_yVE-0G",
        "outputId": "e8067928-f6e5-435c-c297-cdd83e76186c"
      },
      "outputs": [
        {
          "output_type": "stream",
          "name": "stdout",
          "text": [
            "Mounted at /drive\n"
          ]
        }
      ],
      "source": [
        "#Mounting our Drive to Google Colab\n",
        "from google.colab import drive\n",
        "drive.mount('/drive')"
      ]
    },
    {
      "cell_type": "code",
      "source": [
        "!pip install -q streamlit #restart runtime needed if unable to install"
      ],
      "metadata": {
        "colab": {
          "base_uri": "https://localhost:8080/"
        },
        "id": "tY7L3QEYIofH",
        "outputId": "a4ceb4d6-47b4-4861-ddad-a808d9b24e27"
      },
      "execution_count": 2,
      "outputs": [
        {
          "output_type": "stream",
          "name": "stdout",
          "text": [
            "\u001b[2K     \u001b[90m━━━━━━━━━━━━━━━━━━━━━━━━━━━━━━━━━━━━━━━━\u001b[0m \u001b[32m9.3/9.3 MB\u001b[0m \u001b[31m46.5 MB/s\u001b[0m eta \u001b[36m0:00:00\u001b[0m\n",
            "\u001b[2K     \u001b[90m━━━━━━━━━━━━━━━━━━━━━━━━━━━━━━━━━━━━━━\u001b[0m \u001b[32m164.8/164.8 KB\u001b[0m \u001b[31m16.4 MB/s\u001b[0m eta \u001b[36m0:00:00\u001b[0m\n",
            "\u001b[?25h  Preparing metadata (setup.py) ... \u001b[?25l\u001b[?25hdone\n",
            "\u001b[2K     \u001b[90m━━━━━━━━━━━━━━━━━━━━━━━━━━━━━━━━━━━━━━\u001b[0m \u001b[32m239.0/239.0 KB\u001b[0m \u001b[31m25.1 MB/s\u001b[0m eta \u001b[36m0:00:00\u001b[0m\n",
            "\u001b[2K     \u001b[90m━━━━━━━━━━━━━━━━━━━━━━━━━━━━━━━━━━━━━━━━\u001b[0m \u001b[32m4.7/4.7 MB\u001b[0m \u001b[31m83.8 MB/s\u001b[0m eta \u001b[36m0:00:00\u001b[0m\n",
            "\u001b[2K     \u001b[90m━━━━━━━━━━━━━━━━━━━━━━━━━━━━━━━━━━━━━━\u001b[0m \u001b[32m184.0/184.0 KB\u001b[0m \u001b[31m17.5 MB/s\u001b[0m eta \u001b[36m0:00:00\u001b[0m\n",
            "\u001b[2K     \u001b[90m━━━━━━━━━━━━━━━━━━━━━━━━━━━━━━━━━━━━━━━━\u001b[0m \u001b[32m79.0/79.0 KB\u001b[0m \u001b[31m8.2 MB/s\u001b[0m eta \u001b[36m0:00:00\u001b[0m\n",
            "\u001b[2K     \u001b[90m━━━━━━━━━━━━━━━━━━━━━━━━━━━━━━━━━━━━━━━━\u001b[0m \u001b[32m62.7/62.7 KB\u001b[0m \u001b[31m6.5 MB/s\u001b[0m eta \u001b[36m0:00:00\u001b[0m\n",
            "\u001b[2K     \u001b[90m━━━━━━━━━━━━━━━━━━━━━━━━━━━━━━━━━━━━━━━━\u001b[0m \u001b[32m84.5/84.5 KB\u001b[0m \u001b[31m9.4 MB/s\u001b[0m eta \u001b[36m0:00:00\u001b[0m\n",
            "\u001b[2K     \u001b[90m━━━━━━━━━━━━━━━━━━━━━━━━━━━━━━━━━━━━━━━━\u001b[0m \u001b[32m1.1/1.1 MB\u001b[0m \u001b[31m49.1 MB/s\u001b[0m eta \u001b[36m0:00:00\u001b[0m\n",
            "\u001b[?25h  Building wheel for validators (setup.py) ... \u001b[?25l\u001b[?25hdone\n",
            "\u001b[31mERROR: pip's dependency resolver does not currently take into account all the packages that are installed. This behaviour is the source of the following dependency conflicts.\n",
            "ipython 7.9.0 requires jedi>=0.10, which is not installed.\u001b[0m\u001b[31m\n",
            "\u001b[0m"
          ]
        }
      ]
    },
    {
      "cell_type": "code",
      "source": [
        "! pip install pyngrok"
      ],
      "metadata": {
        "colab": {
          "base_uri": "https://localhost:8080/"
        },
        "id": "UbPljmJFIzi7",
        "outputId": "cb61e0c8-4bd1-40cd-ced7-e5b7ab56ec69"
      },
      "execution_count": 4,
      "outputs": [
        {
          "output_type": "stream",
          "name": "stdout",
          "text": [
            "Looking in indexes: https://pypi.org/simple, https://us-python.pkg.dev/colab-wheels/public/simple/\n",
            "Collecting pyngrok\n",
            "  Downloading pyngrok-5.2.1.tar.gz (761 kB)\n",
            "\u001b[2K     \u001b[90m━━━━━━━━━━━━━━━━━━━━━━━━━━━━━━━━━━━━━━\u001b[0m \u001b[32m761.3/761.3 KB\u001b[0m \u001b[31m11.3 MB/s\u001b[0m eta \u001b[36m0:00:00\u001b[0m\n",
            "\u001b[?25h  Preparing metadata (setup.py) ... \u001b[?25l\u001b[?25hdone\n",
            "Requirement already satisfied: PyYAML in /usr/local/lib/python3.8/dist-packages (from pyngrok) (6.0)\n",
            "Building wheels for collected packages: pyngrok\n",
            "  Building wheel for pyngrok (setup.py) ... \u001b[?25l\u001b[?25hdone\n",
            "  Created wheel for pyngrok: filename=pyngrok-5.2.1-py3-none-any.whl size=19792 sha256=b4a142c012bfc643c0ca31894017b5c5bd2bcb1586a2a46aaf4483e303eba4c3\n",
            "  Stored in directory: /root/.cache/pip/wheels/5d/f2/70/526da675d32f17577ec47ac4c663084efe39d47c826b6c3bb1\n",
            "Successfully built pyngrok\n",
            "Installing collected packages: pyngrok\n",
            "Successfully installed pyngrok-5.2.1\n"
          ]
        }
      ]
    },
    {
      "cell_type": "code",
      "source": [
        "# import all libraries invovled\n",
        "import streamlit as st # import streamlit for web development\n",
        "import pickle\n",
        "import numpy as np\n",
        "import pandas as pd\n",
        "from pyngrok import ngrok"
      ],
      "metadata": {
        "id": "-AjR-jYwF6Df"
      },
      "execution_count": 5,
      "outputs": []
    },
    {
      "cell_type": "markdown",
      "source": [
        "Model Building - Artificial Neural Network (ANN)"
      ],
      "metadata": {
        "id": "XfJUlZ_kKb5z"
      }
    },
    {
      "cell_type": "code",
      "source": [
        "#import data set\n",
        "path = '/drive/MyDrive/Colab Notebooks/data_tour_cluster.csv'\n",
        "data = pd.read_csv(path)"
      ],
      "metadata": {
        "id": "83d5RGDbJ5GR"
      },
      "execution_count": 6,
      "outputs": []
    },
    {
      "cell_type": "code",
      "source": [
        "# the variable 'cluster' type is classified as 'numeric' - hence, changes needed to change\n",
        "data_types_dict = {'Cluster': str} \n",
        "# change the data type \n",
        "data = data.astype(data_types_dict)"
      ],
      "metadata": {
        "id": "Vgcmj4ZwJ5iZ"
      },
      "execution_count": 7,
      "outputs": []
    },
    {
      "cell_type": "code",
      "source": [
        "# Remove irrelavant columns \n",
        "data = data.drop(['Unnamed: 0'], axis=1)\n",
        "data.dtypes"
      ],
      "metadata": {
        "colab": {
          "base_uri": "https://localhost:8080/"
        },
        "id": "_MpIA00UJ-dP",
        "outputId": "f1252dc8-0005-4c63-8dbb-b97a485ece0c"
      },
      "execution_count": 8,
      "outputs": [
        {
          "output_type": "execute_result",
          "data": {
            "text/plain": [
              "Cluster                    object\n",
              "gender                     object\n",
              "age                        object\n",
              "household_income           object\n",
              "education_level            object\n",
              "occupation                 object\n",
              "travel_purpose             object\n",
              "pref_transport_mode        object\n",
              "pref_length_stay           object\n",
              "travel_pay_willingness     object\n",
              "pref_poi                   object\n",
              "pref_group_size            object\n",
              "pref_travel_destination    object\n",
              "dtype: object"
            ]
          },
          "metadata": {},
          "execution_count": 8
        }
      ]
    },
    {
      "cell_type": "code",
      "source": [
        "# Label Encoding\n",
        "from sklearn.preprocessing import LabelEncoder\n",
        "# Label encode categorical variables\n",
        "# gender # age # household income # education level # occupation\n",
        "\n",
        "data_encoded = data.copy() # To serve as backup incase there is Pandas error\n",
        "data_encoded[['gender', 'age', 'household_income','education_level', 'occupation', 'pref_transport_mode', 'travel_pay_willingness', 'pref_group_size', 'travel_purpose','pref_length_stay','pref_poi','pref_travel_destination']] = data_encoded[['gender', 'age', 'household_income','education_level', 'occupation', 'pref_transport_mode', 'travel_pay_willingness', 'pref_group_size','travel_purpose','pref_length_stay','pref_poi','pref_travel_destination']].apply(LabelEncoder().fit_transform)"
      ],
      "metadata": {
        "id": "1KlHQ7pNKAC9"
      },
      "execution_count": 9,
      "outputs": []
    },
    {
      "cell_type": "code",
      "source": [
        "# drop pref group size and education level\n",
        "data_encoded = data_encoded.drop(['pref_group_size', 'education_level'], axis=1)"
      ],
      "metadata": {
        "id": "0P3LTkpsKEea"
      },
      "execution_count": 10,
      "outputs": []
    },
    {
      "cell_type": "code",
      "source": [
        "# Identify target variable \n",
        "Y = data_encoded[\"Cluster\"]\n",
        "X = data_encoded.drop(\"Cluster\", axis = 1)"
      ],
      "metadata": {
        "id": "htrfC5A1KGh9"
      },
      "execution_count": 11,
      "outputs": []
    },
    {
      "cell_type": "code",
      "source": [
        "# Data Partitioning (70% train & 30% test set)\n",
        "\n",
        "from sklearn.model_selection import train_test_split\n",
        "X_train, X_test, y_train, y_test = train_test_split(X, Y, test_size = 0.30, random_state = 42)\n",
        "print(X_train.shape, X_test.shape, y_train.shape, y_test.shape)  "
      ],
      "metadata": {
        "colab": {
          "base_uri": "https://localhost:8080/"
        },
        "id": "h15_ZznsKIOu",
        "outputId": "65b013a7-e3d5-42ef-85e7-7b9a46805eac"
      },
      "execution_count": 12,
      "outputs": [
        {
          "output_type": "stream",
          "name": "stdout",
          "text": [
            "(80, 10) (35, 10) (80,) (35,)\n"
          ]
        }
      ]
    },
    {
      "cell_type": "code",
      "source": [
        "# ANN model was invovled as it is selected as the final model to be deployed\n",
        "# Same architecture as developed previously (2 Hidden Layers, each with 100 neurons)\n",
        "from sklearn.neural_network import MLPClassifier \n",
        "nnmodel = MLPClassifier(hidden_layer_sizes = [100,100], alpha = 5.0, random_state = 42, solver = 'lbfgs')"
      ],
      "metadata": {
        "id": "uuMKbmHAKKNZ"
      },
      "execution_count": 13,
      "outputs": []
    },
    {
      "cell_type": "code",
      "source": [
        "nnmodel.fit(X_train, y_train) #train the ANN"
      ],
      "metadata": {
        "colab": {
          "base_uri": "https://localhost:8080/"
        },
        "id": "H5RuUR3MKL56",
        "outputId": "ba6efa1b-1e39-43bd-b579-6ac0d02eae58"
      },
      "execution_count": 14,
      "outputs": [
        {
          "output_type": "stream",
          "name": "stderr",
          "text": [
            "/usr/local/lib/python3.8/dist-packages/sklearn/neural_network/_multilayer_perceptron.py:549: ConvergenceWarning: lbfgs failed to converge (status=1):\n",
            "STOP: TOTAL NO. of ITERATIONS REACHED LIMIT.\n",
            "\n",
            "Increase the number of iterations (max_iter) or scale the data as shown in:\n",
            "    https://scikit-learn.org/stable/modules/preprocessing.html\n",
            "  self.n_iter_ = _check_optimize_result(\"lbfgs\", opt_res, self.max_iter)\n"
          ]
        },
        {
          "output_type": "execute_result",
          "data": {
            "text/plain": [
              "MLPClassifier(alpha=5.0, hidden_layer_sizes=[100, 100], random_state=42,\n",
              "              solver='lbfgs')"
            ]
          },
          "metadata": {},
          "execution_count": 14
        }
      ]
    },
    {
      "cell_type": "code",
      "source": [
        "y_pred = nnmodel.predict(X_test)\n",
        "y_pred"
      ],
      "metadata": {
        "colab": {
          "base_uri": "https://localhost:8080/"
        },
        "id": "V68u-11JKNpw",
        "outputId": "a5d2c867-fbf1-4e6a-9f0e-2d8a039153dc"
      },
      "execution_count": 15,
      "outputs": [
        {
          "output_type": "execute_result",
          "data": {
            "text/plain": [
              "array(['2', '2', '2', '1', '1', '1', '1', '2', '0', '2', '0', '1', '1',\n",
              "       '1', '2', '0', '1', '1', '0', '1', '0', '2', '2', '1', '0', '1',\n",
              "       '1', '2', '1', '0', '1', '0', '2', '2', '2'], dtype='<U1')"
            ]
          },
          "metadata": {},
          "execution_count": 15
        }
      ]
    },
    {
      "cell_type": "code",
      "source": [
        "# check updated data frame\n",
        "X_test.head()"
      ],
      "metadata": {
        "colab": {
          "base_uri": "https://localhost:8080/",
          "height": 206
        },
        "id": "tvItsg0tKPKv",
        "outputId": "5e07eef0-b98e-4c35-ff53-7dbe6bf0bb27"
      },
      "execution_count": 16,
      "outputs": [
        {
          "output_type": "execute_result",
          "data": {
            "text/plain": [
              "    gender  age  household_income  occupation  travel_purpose  \\\n",
              "81       1    0                 1           0               1   \n",
              "4        0    0                 0           0               1   \n",
              "40       1    1                 1           0               1   \n",
              "69       0    0                 0           1               1   \n",
              "10       1    0                 1           0               1   \n",
              "\n",
              "    pref_transport_mode  pref_length_stay  travel_pay_willingness  pref_poi  \\\n",
              "81                    1                 0                       0         0   \n",
              "4                     0                 0                       1         0   \n",
              "40                    1                 0                       1         0   \n",
              "69                    1                 1                       1         0   \n",
              "10                    0                 0                       0         0   \n",
              "\n",
              "    pref_travel_destination  \n",
              "81                        4  \n",
              "4                         1  \n",
              "40                        2  \n",
              "69                        2  \n",
              "10                        1  "
            ],
            "text/html": [
              "\n",
              "  <div id=\"df-e696d1e2-e71c-4ceb-bf27-6729b94b1d2d\">\n",
              "    <div class=\"colab-df-container\">\n",
              "      <div>\n",
              "<style scoped>\n",
              "    .dataframe tbody tr th:only-of-type {\n",
              "        vertical-align: middle;\n",
              "    }\n",
              "\n",
              "    .dataframe tbody tr th {\n",
              "        vertical-align: top;\n",
              "    }\n",
              "\n",
              "    .dataframe thead th {\n",
              "        text-align: right;\n",
              "    }\n",
              "</style>\n",
              "<table border=\"1\" class=\"dataframe\">\n",
              "  <thead>\n",
              "    <tr style=\"text-align: right;\">\n",
              "      <th></th>\n",
              "      <th>gender</th>\n",
              "      <th>age</th>\n",
              "      <th>household_income</th>\n",
              "      <th>occupation</th>\n",
              "      <th>travel_purpose</th>\n",
              "      <th>pref_transport_mode</th>\n",
              "      <th>pref_length_stay</th>\n",
              "      <th>travel_pay_willingness</th>\n",
              "      <th>pref_poi</th>\n",
              "      <th>pref_travel_destination</th>\n",
              "    </tr>\n",
              "  </thead>\n",
              "  <tbody>\n",
              "    <tr>\n",
              "      <th>81</th>\n",
              "      <td>1</td>\n",
              "      <td>0</td>\n",
              "      <td>1</td>\n",
              "      <td>0</td>\n",
              "      <td>1</td>\n",
              "      <td>1</td>\n",
              "      <td>0</td>\n",
              "      <td>0</td>\n",
              "      <td>0</td>\n",
              "      <td>4</td>\n",
              "    </tr>\n",
              "    <tr>\n",
              "      <th>4</th>\n",
              "      <td>0</td>\n",
              "      <td>0</td>\n",
              "      <td>0</td>\n",
              "      <td>0</td>\n",
              "      <td>1</td>\n",
              "      <td>0</td>\n",
              "      <td>0</td>\n",
              "      <td>1</td>\n",
              "      <td>0</td>\n",
              "      <td>1</td>\n",
              "    </tr>\n",
              "    <tr>\n",
              "      <th>40</th>\n",
              "      <td>1</td>\n",
              "      <td>1</td>\n",
              "      <td>1</td>\n",
              "      <td>0</td>\n",
              "      <td>1</td>\n",
              "      <td>1</td>\n",
              "      <td>0</td>\n",
              "      <td>1</td>\n",
              "      <td>0</td>\n",
              "      <td>2</td>\n",
              "    </tr>\n",
              "    <tr>\n",
              "      <th>69</th>\n",
              "      <td>0</td>\n",
              "      <td>0</td>\n",
              "      <td>0</td>\n",
              "      <td>1</td>\n",
              "      <td>1</td>\n",
              "      <td>1</td>\n",
              "      <td>1</td>\n",
              "      <td>1</td>\n",
              "      <td>0</td>\n",
              "      <td>2</td>\n",
              "    </tr>\n",
              "    <tr>\n",
              "      <th>10</th>\n",
              "      <td>1</td>\n",
              "      <td>0</td>\n",
              "      <td>1</td>\n",
              "      <td>0</td>\n",
              "      <td>1</td>\n",
              "      <td>0</td>\n",
              "      <td>0</td>\n",
              "      <td>0</td>\n",
              "      <td>0</td>\n",
              "      <td>1</td>\n",
              "    </tr>\n",
              "  </tbody>\n",
              "</table>\n",
              "</div>\n",
              "      <button class=\"colab-df-convert\" onclick=\"convertToInteractive('df-e696d1e2-e71c-4ceb-bf27-6729b94b1d2d')\"\n",
              "              title=\"Convert this dataframe to an interactive table.\"\n",
              "              style=\"display:none;\">\n",
              "        \n",
              "  <svg xmlns=\"http://www.w3.org/2000/svg\" height=\"24px\"viewBox=\"0 0 24 24\"\n",
              "       width=\"24px\">\n",
              "    <path d=\"M0 0h24v24H0V0z\" fill=\"none\"/>\n",
              "    <path d=\"M18.56 5.44l.94 2.06.94-2.06 2.06-.94-2.06-.94-.94-2.06-.94 2.06-2.06.94zm-11 1L8.5 8.5l.94-2.06 2.06-.94-2.06-.94L8.5 2.5l-.94 2.06-2.06.94zm10 10l.94 2.06.94-2.06 2.06-.94-2.06-.94-.94-2.06-.94 2.06-2.06.94z\"/><path d=\"M17.41 7.96l-1.37-1.37c-.4-.4-.92-.59-1.43-.59-.52 0-1.04.2-1.43.59L10.3 9.45l-7.72 7.72c-.78.78-.78 2.05 0 2.83L4 21.41c.39.39.9.59 1.41.59.51 0 1.02-.2 1.41-.59l7.78-7.78 2.81-2.81c.8-.78.8-2.07 0-2.86zM5.41 20L4 18.59l7.72-7.72 1.47 1.35L5.41 20z\"/>\n",
              "  </svg>\n",
              "      </button>\n",
              "      \n",
              "  <style>\n",
              "    .colab-df-container {\n",
              "      display:flex;\n",
              "      flex-wrap:wrap;\n",
              "      gap: 12px;\n",
              "    }\n",
              "\n",
              "    .colab-df-convert {\n",
              "      background-color: #E8F0FE;\n",
              "      border: none;\n",
              "      border-radius: 50%;\n",
              "      cursor: pointer;\n",
              "      display: none;\n",
              "      fill: #1967D2;\n",
              "      height: 32px;\n",
              "      padding: 0 0 0 0;\n",
              "      width: 32px;\n",
              "    }\n",
              "\n",
              "    .colab-df-convert:hover {\n",
              "      background-color: #E2EBFA;\n",
              "      box-shadow: 0px 1px 2px rgba(60, 64, 67, 0.3), 0px 1px 3px 1px rgba(60, 64, 67, 0.15);\n",
              "      fill: #174EA6;\n",
              "    }\n",
              "\n",
              "    [theme=dark] .colab-df-convert {\n",
              "      background-color: #3B4455;\n",
              "      fill: #D2E3FC;\n",
              "    }\n",
              "\n",
              "    [theme=dark] .colab-df-convert:hover {\n",
              "      background-color: #434B5C;\n",
              "      box-shadow: 0px 1px 3px 1px rgba(0, 0, 0, 0.15);\n",
              "      filter: drop-shadow(0px 1px 2px rgba(0, 0, 0, 0.3));\n",
              "      fill: #FFFFFF;\n",
              "    }\n",
              "  </style>\n",
              "\n",
              "      <script>\n",
              "        const buttonEl =\n",
              "          document.querySelector('#df-e696d1e2-e71c-4ceb-bf27-6729b94b1d2d button.colab-df-convert');\n",
              "        buttonEl.style.display =\n",
              "          google.colab.kernel.accessAllowed ? 'block' : 'none';\n",
              "\n",
              "        async function convertToInteractive(key) {\n",
              "          const element = document.querySelector('#df-e696d1e2-e71c-4ceb-bf27-6729b94b1d2d');\n",
              "          const dataTable =\n",
              "            await google.colab.kernel.invokeFunction('convertToInteractive',\n",
              "                                                     [key], {});\n",
              "          if (!dataTable) return;\n",
              "\n",
              "          const docLinkHtml = 'Like what you see? Visit the ' +\n",
              "            '<a target=\"_blank\" href=https://colab.research.google.com/notebooks/data_table.ipynb>data table notebook</a>'\n",
              "            + ' to learn more about interactive tables.';\n",
              "          element.innerHTML = '';\n",
              "          dataTable['output_type'] = 'display_data';\n",
              "          await google.colab.output.renderOutput(dataTable, element);\n",
              "          const docLink = document.createElement('div');\n",
              "          docLink.innerHTML = docLinkHtml;\n",
              "          element.appendChild(docLink);\n",
              "        }\n",
              "      </script>\n",
              "    </div>\n",
              "  </div>\n",
              "  "
            ]
          },
          "metadata": {},
          "execution_count": 16
        }
      ]
    },
    {
      "cell_type": "code",
      "source": [
        "# Save the developed model into a folder\n",
        "import pickle\n",
        "with open(\"NN_Model_pickle_2\", \"wb\") as n:\n",
        "    pickle.dump(nnmodel, n)"
      ],
      "metadata": {
        "id": "qnqe5pZVKQ5w"
      },
      "execution_count": null,
      "outputs": []
    },
    {
      "cell_type": "code",
      "source": [
        "NN_model_pickle_in = open(\"NN_Model_pickle_2\", \"rb\")\n",
        "NNmodel_deploy = pickle.load(NN_model_pickle_in)\n",
        "with open(\"NN_Model_pickle_2\", \"rb\") as n:\n",
        "    NNmodel_deploy = pickle.load(n)"
      ],
      "metadata": {
        "id": "fhvn6fgTKS2u"
      },
      "execution_count": null,
      "outputs": []
    },
    {
      "cell_type": "markdown",
      "source": [
        "Creation of the content and body of the web application ( for prediction )"
      ],
      "metadata": {
        "id": "W6aVFQmIKVEo"
      }
    },
    {
      "cell_type": "code",
      "source": [
        "%%writefile app.py\n",
        "import streamlit as st\n",
        "import pickle\n",
        "import numpy as np\n",
        "import pandas as pd\n",
        "\n",
        "NN_model_pickle_in = open(\"NN_Model_pickle_2\", \"rb\")\n",
        "NNmodel_deploy = pickle.load(NN_model_pickle_in)\n",
        "with open(\"NN_Model_pickle_2\", \"rb\") as n:\n",
        "    NNmodel_deploy = pickle.load(n)\n",
        "\n",
        "def main():\n",
        "  import numpy as np\n",
        "\n",
        "  # Give title\n",
        "  st.title('Travel Agency Operator Application')\n",
        "\n",
        "  # Provide Content\n",
        "  st.header('Web Application Detail')\n",
        "  st.write('This application is strictly for tourist agent only :rotating_light:')\n",
        "  st.write('The model implemented for classification is Artificial Neural Network')\n",
        "  st.write('Kindly fill in the tourist detail for each section to compute the predictions.')\n",
        "  st.write('The final result should show which cluster does this potential traveller falls under.')\n",
        "  st.write('Kindly suggest the appropriate tour package to respective customers.')\n",
        "\n",
        "  # Provide cluster details\n",
        "  st.header('Cluster Category')\n",
        "  st.write('At the current stage, there are only 3 clusters.')\n",
        "  st.write('Cluster 0: Economic Family Package')\n",
        "  st.write('Cluster 1: Holiday Adventure Package')\n",
        "  st.write('Cluster 2: Premium Holiday Package')\n",
        "\n",
        "  # Information to fill in\n",
        "  st.header('Potential Traveller Information')\n",
        "  st.write('Gender: Female = \"0\", Male = \"1\"')\n",
        "  st.write('Age: 18 - 25 years old = \"0\", 26 years and above = \"1\"')\n",
        "  st.write('Household Income: More than RM 4,851 = \"0\", Less than RM 4,850 = \"1\"')\n",
        "  st.write('Occupation: Employed = \"0\", Student = \"1\"')\n",
        "  st.write('Travel Purpose: Family Trip / Entertainment / Others = \"0\", Holiday & Leisure = \"1\"')\n",
        "  st.write('Preferred Mode of Transport: Non_Flight = \"0\", Flight = \"1\"')\n",
        "  st.write('Preferred Length Of Stay: Less than 3 days = \"0\", 3 Days = \"1\",4 days and above = \"2\"')\n",
        "  st.write('Amount Willing to Pay for Travel: Less than RM 300 = \"0\", More than RM 300 = \"1\"')\n",
        "  st.write('Preferred POI: Shopping Malls & Historical Site = \"0\", Beaches and waterfall = \"1\", Adventure and Activity = \"2\"')\n",
        "  st.write('Preferred Travel Destination: Central Region = \"0\", East Coast Region  = \"1\", East Malaysia = \"2\", Northern Region = \"3\", Southern Region = \"4\"')\n",
        "\n",
        "\n",
        "  # Receive inputs\n",
        "  gender = st.text_input('Gender')\n",
        "  age = st.text_input('Age')\n",
        "  household_income = st.text_input('Household Income')\n",
        "  occupation = st.text_input('Occupation')\n",
        "  travel_purpose = st.text_input('Travel Purpose')\n",
        "  pref_transport_mode = st.text_input('Preferred Mode of Transport')\n",
        "  pref_length_stay = st.text_input('Preferred Length Of Stay')\n",
        "  travel_pay_willingness = st.text_input('Amount Willing to Pay for Travel')\n",
        "  pref_poi = st.text_input('Preferred POI')\n",
        "  pref_travel_destination = st.text_input('Preferred Travel Destination')\n",
        "\n",
        "  input_data = (gender,age,household_income,occupation,travel_purpose,pref_transport_mode,pref_length_stay,travel_pay_willingness,pref_poi,pref_travel_destination)\n",
        "  input_data_as_numpy_array = np.asarray(input_data)\n",
        "  input_data_reshaped = input_data_as_numpy_array.reshape(1,-1) \n",
        "\n",
        "  # code for prediction\n",
        "  travel = ''\n",
        "\n",
        "  # create button for prediction\n",
        "\n",
        "  if st.button('Traveller Cluster Results'):\n",
        "    travel = NNmodel_deploy.predict(input_data_reshaped) \n",
        "\n",
        "    if (travel[0] == 0):\n",
        "        travel = 'This traveller is classified under cluster 0'\n",
        "    elif (travel[0] == 1):\n",
        "        travel = 'This traveller is classified under cluster 1'\n",
        "    else:\n",
        "        travel = 'This traveller is classified under cluster 2'\n",
        "\n",
        "    st.success(travel)\n",
        "\n",
        "if __name__ == '__main__':\n",
        "  main()"
      ],
      "metadata": {
        "id": "BFUw0HJ9KrGM"
      },
      "execution_count": null,
      "outputs": []
    },
    {
      "cell_type": "markdown",
      "source": [
        "Installation (and load) of PYNGROK to create the temporary web application"
      ],
      "metadata": {
        "id": "OtA8z-IiK4FH"
      }
    },
    {
      "cell_type": "code",
      "source": [
        "ngrok.set_auth_token(\"NGROK_AUTH_TOKEN\")\n",
        "# https://dashboard.ngrok.com/cloud-edge/endpoints"
      ],
      "metadata": {
        "id": "uzsgk3j6JuMf"
      },
      "execution_count": null,
      "outputs": []
    },
    {
      "cell_type": "code",
      "source": [
        "!nohup streamlit run app.py --server.port 80 & # to generate one external links\n",
        "url = ngrok.connect(port = '80')\n",
        "print(url)"
      ],
      "metadata": {
        "id": "ywqtznEJJuj9"
      },
      "execution_count": null,
      "outputs": []
    },
    {
      "cell_type": "code",
      "source": [
        "tunnels = ngrok.get_tunnels() # to generate multiple available external links\n",
        "tunnels"
      ],
      "metadata": {
        "id": "volnegqKJyCl"
      },
      "execution_count": null,
      "outputs": []
    }
  ]
}
