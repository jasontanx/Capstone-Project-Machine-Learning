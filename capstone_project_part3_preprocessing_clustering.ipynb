{
  "nbformat": 4,
  "nbformat_minor": 0,
  "metadata": {
    "colab": {
      "provenance": []
    },
    "kernelspec": {
      "name": "python3",
      "display_name": "Python 3"
    },
    "language_info": {
      "name": "python"
    }
  },
  "cells": [
    {
      "cell_type": "markdown",
      "source": [
        "Capstone - Part 3\n",
        "\n",
        "Topic: Data Pre-Processing & Clustering\n",
        "\n",
        "Created By: Jason"
      ],
      "metadata": {
        "id": "PJuHKdBzkhnj"
      }
    },
    {
      "cell_type": "code",
      "source": [
        "#Mounting our Drive to Google Colab\n",
        "from google.colab import drive\n",
        "drive.mount('/drive')"
      ],
      "metadata": {
        "colab": {
          "base_uri": "https://localhost:8080/"
        },
        "id": "Ez2b_GBVkKzU",
        "outputId": "2d6ac410-9f1b-4737-d688-1c44854ba7d6"
      },
      "execution_count": 1,
      "outputs": [
        {
          "output_type": "stream",
          "name": "stdout",
          "text": [
            "Mounted at /drive\n"
          ]
        }
      ]
    },
    {
      "cell_type": "code",
      "source": [
        "# Import necessary libraries\n",
        "\n",
        "import pandas as pd # data analysis\n",
        "import numpy as np # arrays\n",
        "\n",
        "import matplotlib.pyplot as plt # for visualisation\n",
        "import seaborn as sns # for visualisation"
      ],
      "metadata": {
        "id": "zRTY_KuIkiul"
      },
      "execution_count": 3,
      "outputs": []
    },
    {
      "cell_type": "code",
      "source": [
        "# load dataset\n",
        "path = '/drive/MyDrive/Colab Notebooks/CLEAN_2_Tour Agencies_v2.csv'\n",
        "data = pd.read_csv(path)"
      ],
      "metadata": {
        "id": "jh0O_cNDkrKZ"
      },
      "execution_count": 4,
      "outputs": []
    },
    {
      "cell_type": "code",
      "source": [
        "# Remove irrelavant columns \n",
        "# First 2 variables will not be useful for further analysis\n",
        "\n",
        "data = data.drop(['I have read and understood the above information. I understand that, because my answers will be fully anonymized, it will not be possible to withdraw them from the study once I have completed the survey. I agree to take part in this questionnaire survey a', \n",
        "                  'Are you currently residing in Malaysia?'], axis=1)"
      ],
      "metadata": {
        "id": "HsQJSeh7kxt2"
      },
      "execution_count": 5,
      "outputs": []
    },
    {
      "cell_type": "code",
      "source": [
        "data.columns "
      ],
      "metadata": {
        "colab": {
          "base_uri": "https://localhost:8080/"
        },
        "id": "ObB7MN3gk3p0",
        "outputId": "fc276f0e-b904-4d54-87a6-82586444cfc8"
      },
      "execution_count": 6,
      "outputs": [
        {
          "output_type": "execute_result",
          "data": {
            "text/plain": [
              "Index(['gender', 'age', 'household_income', 'marital_status', 'chidlren_no',\n",
              "       'education_level', 'occupation', 'trip_plan_likelihood',\n",
              "       'travel_purpose', 'source_travel_info', 'pref_socialmed_info',\n",
              "       'pref_transport_mode', 'pref_length_stay', 'travel_pay_willingness',\n",
              "       'pref_poi', 'pref_group_size', 'pref_travel_destination'],\n",
              "      dtype='object')"
            ]
          },
          "metadata": {},
          "execution_count": 6
        }
      ]
    },
    {
      "cell_type": "code",
      "source": [
        "data.shape"
      ],
      "metadata": {
        "colab": {
          "base_uri": "https://localhost:8080/"
        },
        "id": "ILgVY7wlk44q",
        "outputId": "6995f410-99a8-4320-82c2-f6cb013086bc"
      },
      "execution_count": 7,
      "outputs": [
        {
          "output_type": "execute_result",
          "data": {
            "text/plain": [
              "(115, 17)"
            ]
          },
          "metadata": {},
          "execution_count": 7
        }
      ]
    },
    {
      "cell_type": "markdown",
      "source": [
        "Section 1: Data Pre-Processing"
      ],
      "metadata": {
        "id": "LwpDbxWgwIpH"
      }
    },
    {
      "cell_type": "markdown",
      "source": [
        "Age Variable"
      ],
      "metadata": {
        "id": "Qavs3lYYttza"
      }
    },
    {
      "cell_type": "code",
      "source": [
        "# Age \n",
        "# Issues: Imbalance as majority of the observations are under the 18-25 group\n",
        "# Solution: Combine '26-34', '35-49', '50 and above' into a new '26 and above' group\n",
        "data['age'].describe()\n",
        "data['age'].value_counts()"
      ],
      "metadata": {
        "id": "xjje0mQKk7UB",
        "colab": {
          "base_uri": "https://localhost:8080/"
        },
        "outputId": "de1184dc-6f8e-494e-c91d-1b54270b6eb2"
      },
      "execution_count": 8,
      "outputs": [
        {
          "output_type": "execute_result",
          "data": {
            "text/plain": [
              "18 - 25 years old    88\n",
              "26 - 34 years old    23\n",
              "35 - 49 years old     3\n",
              "50 and above          1\n",
              "Name: age, dtype: int64"
            ]
          },
          "metadata": {},
          "execution_count": 8
        }
      ]
    },
    {
      "cell_type": "code",
      "source": [
        "# combine the other 2 variables\n",
        "data['age'] = data['age'].replace({'35 - 49 years old': '26 - 34 years old'})\n",
        "data['age'] = data['age'].replace({'50 and above': '26 - 34 years old'})\n",
        "data['age'].value_counts()"
      ],
      "metadata": {
        "colab": {
          "base_uri": "https://localhost:8080/"
        },
        "id": "e6J2ePC4twLO",
        "outputId": "a33ea4cb-5c3d-4e38-dad7-17e12401e955"
      },
      "execution_count": 9,
      "outputs": [
        {
          "output_type": "execute_result",
          "data": {
            "text/plain": [
              "18 - 25 years old    88\n",
              "26 - 34 years old    27\n",
              "Name: age, dtype: int64"
            ]
          },
          "metadata": {},
          "execution_count": 9
        }
      ]
    },
    {
      "cell_type": "code",
      "source": [
        "# rename the category level to a much more appropriate name\n",
        "data['age'] = data['age'].replace({'26 - 34 years old': '26 years and above'})\n",
        "data['age'].value_counts()"
      ],
      "metadata": {
        "colab": {
          "base_uri": "https://localhost:8080/"
        },
        "id": "XcehQ_M4tymd",
        "outputId": "0b237885-6c7f-44a3-b556-cb219864c1d2"
      },
      "execution_count": 10,
      "outputs": [
        {
          "output_type": "execute_result",
          "data": {
            "text/plain": [
              "18 - 25 years old     88\n",
              "26 years and above    27\n",
              "Name: age, dtype: int64"
            ]
          },
          "metadata": {},
          "execution_count": 10
        }
      ]
    },
    {
      "cell_type": "markdown",
      "source": [
        "Montlhy House Variable"
      ],
      "metadata": {
        "id": "D_nMjZtbt2Lz"
      }
    },
    {
      "cell_type": "code",
      "source": [
        "# Monthly Household Income\n",
        "data['household_income'].value_counts()"
      ],
      "metadata": {
        "colab": {
          "base_uri": "https://localhost:8080/"
        },
        "id": "CeIsTAOot0sO",
        "outputId": "d52e7686-0979-41f5-ed4f-1ab9bb80b088"
      },
      "execution_count": 11,
      "outputs": [
        {
          "output_type": "execute_result",
          "data": {
            "text/plain": [
              "Less than RM 4,850             57\n",
              "Between RM 4,851 - RM10,959    40\n",
              "More than 10,959               18\n",
              "Name: household_income, dtype: int64"
            ]
          },
          "metadata": {},
          "execution_count": 11
        }
      ]
    },
    {
      "cell_type": "code",
      "source": [
        "# As this dataset has not much observations, it is crucial to reduce the factor levels to improve model performance\n",
        "# Option 1 -> combine More than 10,959 with Between RM 4,851 - RM 10,959\n",
        "# Rename the new categorical level as 'More than 4,851'\n",
        "data['household_income'] = data['household_income'].replace({'Between RM 4,851 - RM10,959': 'More than RM 4,851'})\n",
        "data['household_income'] = data['household_income'].replace({'More than 10,959': 'More than RM 4,851'})\n",
        "data['household_income'].value_counts()"
      ],
      "metadata": {
        "colab": {
          "base_uri": "https://localhost:8080/"
        },
        "id": "1m1mkjfft5uN",
        "outputId": "3d41e24f-55e3-420d-ce07-8a491abfc76f"
      },
      "execution_count": 12,
      "outputs": [
        {
          "output_type": "execute_result",
          "data": {
            "text/plain": [
              "More than RM 4,851    58\n",
              "Less than RM 4,850    57\n",
              "Name: household_income, dtype: int64"
            ]
          },
          "metadata": {},
          "execution_count": 12
        }
      ]
    },
    {
      "cell_type": "markdown",
      "source": [
        "Marital Status Variable"
      ],
      "metadata": {
        "id": "lzyhQLWnt94M"
      }
    },
    {
      "cell_type": "code",
      "source": [
        "#drop variables - data for this variable is hugely imbalance\n",
        "data = data.drop(['marital_status'], axis = 1) \n",
        "# axis=0 refers to deletion of rows and axis=1 refers to deletion of columns"
      ],
      "metadata": {
        "id": "BHsTNk9Gt8yM"
      },
      "execution_count": 13,
      "outputs": []
    },
    {
      "cell_type": "markdown",
      "source": [
        "Number of Children Variable"
      ],
      "metadata": {
        "id": "63TzPrGouJXF"
      }
    },
    {
      "cell_type": "code",
      "source": [
        "#drop variables - data for this variable is hugely imbalance\n",
        "data = data.drop(['chidlren_no'], axis = 1) "
      ],
      "metadata": {
        "id": "FDOS7mkuuHfj"
      },
      "execution_count": 14,
      "outputs": []
    },
    {
      "cell_type": "markdown",
      "source": [
        "Education Variable"
      ],
      "metadata": {
        "id": "Btr-7nojuN6U"
      }
    },
    {
      "cell_type": "code",
      "source": [
        "# Education Level\n",
        "# combine the other 2 categories (High School & Foundation / Diploma into one)\n",
        "data['education_level'].value_counts()"
      ],
      "metadata": {
        "colab": {
          "base_uri": "https://localhost:8080/"
        },
        "id": "FSy43eKRuMH9",
        "outputId": "e198aeb8-826b-412d-c108-91fbf642eba2"
      },
      "execution_count": 15,
      "outputs": [
        {
          "output_type": "execute_result",
          "data": {
            "text/plain": [
              "Undergraduate / Bachelor's Degree    79\n",
              "Master's Degree                      25\n",
              "High School                           7\n",
              "Foundation / Diploma                  4\n",
              "Name: education_level, dtype: int64"
            ]
          },
          "metadata": {},
          "execution_count": 15
        }
      ]
    },
    {
      "cell_type": "code",
      "source": [
        "data['education_level'] = data['education_level'].replace({'High School': 'Foundation / Diploma / High School'})\n",
        "data['education_level'] = data['education_level'].replace({'Foundation / Diploma': 'Foundation / Diploma / High School'})\n",
        "data['education_level'].value_counts()"
      ],
      "metadata": {
        "colab": {
          "base_uri": "https://localhost:8080/"
        },
        "id": "pVVsE6_WuRW_",
        "outputId": "7a339872-ea0f-4840-995b-d7fbfb7b9ca5"
      },
      "execution_count": 16,
      "outputs": [
        {
          "output_type": "execute_result",
          "data": {
            "text/plain": [
              "Undergraduate / Bachelor's Degree     79\n",
              "Master's Degree                       25\n",
              "Foundation / Diploma / High School    11\n",
              "Name: education_level, dtype: int64"
            ]
          },
          "metadata": {},
          "execution_count": 16
        }
      ]
    },
    {
      "cell_type": "markdown",
      "source": [
        "Occupation Variable"
      ],
      "metadata": {
        "id": "e8IevAQTuTyW"
      }
    },
    {
      "cell_type": "code",
      "source": [
        "# Occupation\n",
        "# combine the other 1 category (Self-Employed) into (Employed) \n",
        "data['occupation'].value_counts()"
      ],
      "metadata": {
        "colab": {
          "base_uri": "https://localhost:8080/"
        },
        "id": "IcqQpdncuSPC",
        "outputId": "1f013432-86e2-42b2-e4a2-b302c4f38bb1"
      },
      "execution_count": 17,
      "outputs": [
        {
          "output_type": "execute_result",
          "data": {
            "text/plain": [
              "Student          69\n",
              "Employed         45\n",
              "Self-Employed     1\n",
              "Name: occupation, dtype: int64"
            ]
          },
          "metadata": {},
          "execution_count": 17
        }
      ]
    },
    {
      "cell_type": "code",
      "source": [
        "# combine the other 1 category (Self-Employed) into (Employed) \n",
        "data['occupation'] = data['occupation'].replace({'Self-Employed': 'Employed'})\n",
        "data['occupation'].value_counts()"
      ],
      "metadata": {
        "colab": {
          "base_uri": "https://localhost:8080/"
        },
        "id": "hcdjPT_ZuV5N",
        "outputId": "f54887ac-aa6a-492b-abf0-71183392ed46"
      },
      "execution_count": 18,
      "outputs": [
        {
          "output_type": "execute_result",
          "data": {
            "text/plain": [
              "Student     69\n",
              "Employed    46\n",
              "Name: occupation, dtype: int64"
            ]
          },
          "metadata": {},
          "execution_count": 18
        }
      ]
    },
    {
      "cell_type": "markdown",
      "source": [
        "Trip Plan Likelihood Variable"
      ],
      "metadata": {
        "id": "7IUnQi9puZcq"
      }
    },
    {
      "cell_type": "code",
      "source": [
        "# trip_plan_likelihood\n",
        "# can be removed as this variable is just to help us visualise the\n",
        "# likelihood of travellers planning to travel in the next 12 months\n",
        "#drop variables \n",
        "data = data.drop(['trip_plan_likelihood'], axis = 1)"
      ],
      "metadata": {
        "id": "u00gpk5duXo4"
      },
      "execution_count": 19,
      "outputs": []
    },
    {
      "cell_type": "markdown",
      "source": [
        "Travel Purpose Variable"
      ],
      "metadata": {
        "id": "q-1Rac6Lubvw"
      }
    },
    {
      "cell_type": "code",
      "source": [
        "# travel_purpose\n",
        "# combine the other 1 category (Self-Employed) into (Employed) \n",
        "data['travel_purpose'].value_counts()"
      ],
      "metadata": {
        "colab": {
          "base_uri": "https://localhost:8080/"
        },
        "id": "9cMDxqnZugbh",
        "outputId": "d354a715-10fc-4261-d48d-af5b2750db64"
      },
      "execution_count": 20,
      "outputs": [
        {
          "output_type": "execute_result",
          "data": {
            "text/plain": [
              "Holiday & Leisure          79\n",
              "Family Trip                23\n",
              "Entertainment               9\n",
              "Shopping                    2\n",
              "Corporate team building     1\n",
              "Fly car                     1\n",
              "Name: travel_purpose, dtype: int64"
            ]
          },
          "metadata": {},
          "execution_count": 20
        }
      ]
    },
    {
      "cell_type": "code",
      "source": [
        "# Issue: Imbalance data on a few categorical factor levels\n",
        "# combine 'Family trip', 'entertainment', 'shopping', 'corporate team building' and 'fly car' into one category level\n",
        "# new category level name -> 'Family Trip / Entertainment / Others'\n",
        "data['travel_purpose'] = data['travel_purpose'].replace({'Family Trip': 'Family Trip / Entertainment / Others'})\n",
        "data['travel_purpose'] = data['travel_purpose'].replace({'Entertainment': 'Family Trip / Entertainment / Others'})\n",
        "data['travel_purpose'] = data['travel_purpose'].replace({'Shopping': 'Family Trip / Entertainment / Others'})\n",
        "data['travel_purpose'] = data['travel_purpose'].replace({'Corporate team building': 'Family Trip / Entertainment / Others'})\n",
        "data['travel_purpose'] = data['travel_purpose'].replace({'Fly car': 'Family Trip / Entertainment / Others'})\n",
        "data['travel_purpose'].value_counts()"
      ],
      "metadata": {
        "colab": {
          "base_uri": "https://localhost:8080/"
        },
        "id": "Qj1JCP_Uui5l",
        "outputId": "479bb123-02f1-42fc-c739-4f531fef3f2c"
      },
      "execution_count": 21,
      "outputs": [
        {
          "output_type": "execute_result",
          "data": {
            "text/plain": [
              "Holiday & Leisure                       79\n",
              "Family Trip / Entertainment / Others    36\n",
              "Name: travel_purpose, dtype: int64"
            ]
          },
          "metadata": {},
          "execution_count": 21
        }
      ]
    },
    {
      "cell_type": "markdown",
      "source": [
        "Source Travel Info Variable"
      ],
      "metadata": {
        "id": "RE-5-tNQulGg"
      }
    },
    {
      "cell_type": "code",
      "source": [
        "# source_travel_info\n",
        "# can be removed as this variable is just to help us visualise the\n",
        "# source of travellers collecting travel related information and not directly related to group package\n",
        "#drop variables \n",
        "data = data.drop(['source_travel_info'], axis = 1) "
      ],
      "metadata": {
        "id": "wzsZ5JsRunhx"
      },
      "execution_count": 22,
      "outputs": []
    },
    {
      "cell_type": "markdown",
      "source": [
        "Preferred Social Medial Info Variable"
      ],
      "metadata": {
        "id": "fK_qu_AeurJc"
      }
    },
    {
      "cell_type": "code",
      "source": [
        "# Option 1 - Remove as this variable does not directly related to group package\n",
        "data = data.drop(['pref_socialmed_info'], axis = 1) "
      ],
      "metadata": {
        "id": "j8Vv27utuvc4"
      },
      "execution_count": 23,
      "outputs": []
    },
    {
      "cell_type": "markdown",
      "source": [
        "Preferred Mode of Transport Variable"
      ],
      "metadata": {
        "id": "9M8bMMMjuy1_"
      }
    },
    {
      "cell_type": "code",
      "source": [
        "#pref_transport_mode \n",
        "data['pref_transport_mode'].value_counts()"
      ],
      "metadata": {
        "colab": {
          "base_uri": "https://localhost:8080/"
        },
        "id": "j0rXElivu1l3",
        "outputId": "880686a6-19fa-4d9a-8e5b-5ee7a3fb5c73"
      },
      "execution_count": 24,
      "outputs": [
        {
          "output_type": "execute_result",
          "data": {
            "text/plain": [
              "Flight    78\n",
              "Bus       23\n",
              "Train     14\n",
              "Name: pref_transport_mode, dtype: int64"
            ]
          },
          "metadata": {},
          "execution_count": 24
        }
      ]
    },
    {
      "cell_type": "code",
      "source": [
        "# Combine 'Bus' and 'Train' and form a new level to be referred as 'Non-Flight'\n",
        "data['pref_transport_mode'] = data['pref_transport_mode'].replace({'Bus': 'Non_Flight'})\n",
        "data['pref_transport_mode'] = data['pref_transport_mode'].replace({'Train': 'Non_Flight'})\n",
        "data['pref_transport_mode'].value_counts()"
      ],
      "metadata": {
        "colab": {
          "base_uri": "https://localhost:8080/"
        },
        "id": "FSAApjIlu-kv",
        "outputId": "0687d811-3577-4fc5-adbb-bdfc9ab0f5b6"
      },
      "execution_count": 25,
      "outputs": [
        {
          "output_type": "execute_result",
          "data": {
            "text/plain": [
              "Flight        78\n",
              "Non_Flight    37\n",
              "Name: pref_transport_mode, dtype: int64"
            ]
          },
          "metadata": {},
          "execution_count": 25
        }
      ]
    },
    {
      "cell_type": "markdown",
      "source": [
        "Preferred Length of Stay Variable"
      ],
      "metadata": {
        "id": "hv3P0d3vu62P"
      }
    },
    {
      "cell_type": "code",
      "source": [
        "# pref_length_stay \n",
        "data['pref_length_stay'].value_counts()"
      ],
      "metadata": {
        "colab": {
          "base_uri": "https://localhost:8080/"
        },
        "id": "sMIgTc_FvCLg",
        "outputId": "5bfd6b77-369a-477d-8fa7-8d909085aed2"
      },
      "execution_count": 26,
      "outputs": [
        {
          "output_type": "execute_result",
          "data": {
            "text/plain": [
              "3 Days              47\n",
              "Less than 3 days    25\n",
              "5 Days              22\n",
              "4 Days              21\n",
              "Name: pref_length_stay, dtype: int64"
            ]
          },
          "metadata": {},
          "execution_count": 26
        }
      ]
    },
    {
      "cell_type": "code",
      "source": [
        "# Combine '5 days' and '4 days' together and form a new level to be renamed as '4 days and above'\n",
        "data['pref_length_stay'] = data['pref_length_stay'].replace({'5 Days': '4 days and above'})\n",
        "data['pref_length_stay'] = data['pref_length_stay'].replace({'4 Days': '4 days and above'})\n",
        "data['pref_length_stay'].value_counts()"
      ],
      "metadata": {
        "colab": {
          "base_uri": "https://localhost:8080/"
        },
        "id": "spLUYFe8vFAe",
        "outputId": "98b21162-0ba7-4022-a8c8-e6f5017dffda"
      },
      "execution_count": 27,
      "outputs": [
        {
          "output_type": "execute_result",
          "data": {
            "text/plain": [
              "3 Days              47\n",
              "4 days and above    43\n",
              "Less than 3 days    25\n",
              "Name: pref_length_stay, dtype: int64"
            ]
          },
          "metadata": {},
          "execution_count": 27
        }
      ]
    },
    {
      "cell_type": "markdown",
      "source": [
        "Willingness to Pay Variable"
      ],
      "metadata": {
        "id": "gIO60F9LvGPT"
      }
    },
    {
      "cell_type": "code",
      "source": [
        "# travel_pay_willingness\n",
        "data['travel_pay_willingness'].value_counts()"
      ],
      "metadata": {
        "colab": {
          "base_uri": "https://localhost:8080/"
        },
        "id": "GpQ_2k8yvJ48",
        "outputId": "8bae800a-5e03-425b-8a29-92e8e874f60b"
      },
      "execution_count": 28,
      "outputs": [
        {
          "output_type": "execute_result",
          "data": {
            "text/plain": [
              "Between RM 200 – 300    61\n",
              "More than RM 300        42\n",
              "Less than RM 200        12\n",
              "Name: travel_pay_willingness, dtype: int64"
            ]
          },
          "metadata": {},
          "execution_count": 28
        }
      ]
    },
    {
      "cell_type": "code",
      "source": [
        "# Issue: 'Less than RM 200' has not much observations\n",
        "# Solution no. 1 ->  Combine the level with the 'Between Rm 200 - 300'\n",
        "# Rename the new level as 'Less than RM 300'\n",
        "data['travel_pay_willingness'] = data['travel_pay_willingness'].replace({'Between RM 200 – 300': 'Less than RM 300'})\n",
        "data['travel_pay_willingness'] = data['travel_pay_willingness'].replace({'Less than RM 200': 'Less than RM 300'})\n",
        "data['travel_pay_willingness'].value_counts()"
      ],
      "metadata": {
        "colab": {
          "base_uri": "https://localhost:8080/"
        },
        "id": "sLOMyp3lvLhW",
        "outputId": "b3604a44-403b-42f0-9cae-a40b98f14701"
      },
      "execution_count": 29,
      "outputs": [
        {
          "output_type": "execute_result",
          "data": {
            "text/plain": [
              "Less than RM 300    73\n",
              "More than RM 300    42\n",
              "Name: travel_pay_willingness, dtype: int64"
            ]
          },
          "metadata": {},
          "execution_count": 29
        }
      ]
    },
    {
      "cell_type": "markdown",
      "source": [
        "Preferred POI Variable"
      ],
      "metadata": {
        "id": "Q9Pz2dlFvn_g"
      }
    },
    {
      "cell_type": "code",
      "source": [
        "# pref_poi\n",
        "data['pref_poi'].value_counts()"
      ],
      "metadata": {
        "colab": {
          "base_uri": "https://localhost:8080/"
        },
        "id": "vhBMjejYvlTy",
        "outputId": "3463c57b-2b39-4343-e4f1-b4cd8e91ffca"
      },
      "execution_count": 30,
      "outputs": [
        {
          "output_type": "execute_result",
          "data": {
            "text/plain": [
              "Beaches and waterfall                                          46\n",
              "Adventure and Activity (Ex: Hiking, Mountain Climbing etc.)    39\n",
              "Cultural or Historical Site                                    24\n",
              "Shopping Malls                                                  6\n",
              "Name: pref_poi, dtype: int64"
            ]
          },
          "metadata": {},
          "execution_count": 30
        }
      ]
    },
    {
      "cell_type": "code",
      "source": [
        "# Imbalance in 'shopping malls' level - May cause issues in training the ML model\n",
        "# Combine 'shopping malls' and 'Cultural or historical site' to form a new categorical level\n",
        "data['pref_poi'] = data['pref_poi'].replace({'Cultural or Historical Site': 'Shopping Malls & Historical Site'})\n",
        "data['pref_poi'] = data['pref_poi'].replace({'Shopping Malls': 'Shopping Malls & Historical Site'})\n",
        "data['pref_poi'].value_counts()"
      ],
      "metadata": {
        "colab": {
          "base_uri": "https://localhost:8080/"
        },
        "id": "RiZrQrHRvqZw",
        "outputId": "b794c9fb-337a-4e2e-fcd0-d5a0e5190061"
      },
      "execution_count": 31,
      "outputs": [
        {
          "output_type": "execute_result",
          "data": {
            "text/plain": [
              "Beaches and waterfall                                          46\n",
              "Adventure and Activity (Ex: Hiking, Mountain Climbing etc.)    39\n",
              "Shopping Malls & Historical Site                               30\n",
              "Name: pref_poi, dtype: int64"
            ]
          },
          "metadata": {},
          "execution_count": 31
        }
      ]
    },
    {
      "cell_type": "markdown",
      "source": [
        "Preferred Travel Group Size Variable"
      ],
      "metadata": {
        "id": "G_raJkQRvs2J"
      }
    },
    {
      "cell_type": "code",
      "source": [
        "# pref_group_size\n",
        "data['pref_group_size'].value_counts()"
      ],
      "metadata": {
        "colab": {
          "base_uri": "https://localhost:8080/"
        },
        "id": "S7OnQWY1vvYc",
        "outputId": "57a12b27-3f7d-4e04-b8df-faf04b111f10"
      },
      "execution_count": 32,
      "outputs": [
        {
          "output_type": "execute_result",
          "data": {
            "text/plain": [
              "Family Travel (3 – 6 people)         82\n",
              "Small Group (6 – 10 people)          32\n",
              "Large Group (More than 10 people)     1\n",
              "Name: pref_group_size, dtype: int64"
            ]
          },
          "metadata": {},
          "execution_count": 32
        }
      ]
    },
    {
      "cell_type": "code",
      "source": [
        "# combine 'Large Group' with 'Small Group' as it only has 1 observation\n",
        "# rename the new categorical variable after combination\n",
        "data['pref_group_size'] = data['pref_group_size'].replace({'Large Group (More than 10 people)': 'Small & Large Group (6 people and above)'})\n",
        "data['pref_group_size'] = data['pref_group_size'].replace({'Small Group (6 – 10 people)': 'Small & Large Group (6 people and above)'})\n",
        "data['pref_group_size'].value_counts()"
      ],
      "metadata": {
        "colab": {
          "base_uri": "https://localhost:8080/"
        },
        "id": "wQyEB28Qvw5L",
        "outputId": "75fabce5-11f2-479e-edc1-d8257c7f5db0"
      },
      "execution_count": 33,
      "outputs": [
        {
          "output_type": "execute_result",
          "data": {
            "text/plain": [
              "Family Travel (3 – 6 people)                82\n",
              "Small & Large Group (6 people and above)    33\n",
              "Name: pref_group_size, dtype: int64"
            ]
          },
          "metadata": {},
          "execution_count": 33
        }
      ]
    },
    {
      "cell_type": "markdown",
      "source": [
        "Section 2: Clustering (phase 1)"
      ],
      "metadata": {
        "id": "r-VAd8GbwEB5"
      }
    },
    {
      "cell_type": "code",
      "source": [
        "# Import libraries \n",
        "# Clustering\n",
        "import pandas as pd\n",
        "import numpy as np\n",
        "# !pip install kmodes\n",
        "!pip install kmodes\n",
        "from kmodes.kmodes import KModes\n",
        "\n",
        "import matplotlib.pyplot as plt\n",
        "%matplotlib inline"
      ],
      "metadata": {
        "colab": {
          "base_uri": "https://localhost:8080/"
        },
        "id": "tZTe7G9TwOG-",
        "outputId": "241db068-6211-458f-8362-7ae6fc592eea"
      },
      "execution_count": 34,
      "outputs": [
        {
          "output_type": "stream",
          "name": "stdout",
          "text": [
            "Looking in indexes: https://pypi.org/simple, https://us-python.pkg.dev/colab-wheels/public/simple/\n",
            "Collecting kmodes\n",
            "  Downloading kmodes-0.12.2-py2.py3-none-any.whl (20 kB)\n",
            "Requirement already satisfied: numpy>=1.10.4 in /usr/local/lib/python3.8/dist-packages (from kmodes) (1.21.6)\n",
            "Requirement already satisfied: scipy>=0.13.3 in /usr/local/lib/python3.8/dist-packages (from kmodes) (1.7.3)\n",
            "Requirement already satisfied: scikit-learn>=0.22.0 in /usr/local/lib/python3.8/dist-packages (from kmodes) (1.0.2)\n",
            "Requirement already satisfied: joblib>=0.11 in /usr/local/lib/python3.8/dist-packages (from kmodes) (1.2.0)\n",
            "Requirement already satisfied: threadpoolctl>=2.0.0 in /usr/local/lib/python3.8/dist-packages (from scikit-learn>=0.22.0->kmodes) (3.1.0)\n",
            "Installing collected packages: kmodes\n",
            "Successfully installed kmodes-0.12.2\n"
          ]
        }
      ]
    },
    {
      "cell_type": "code",
      "source": [
        "# KMODES CLUSTERING ALGORITHM\n",
        "# Elbow curve to find optimal K\n",
        "cost = []\n",
        "K = range(1,5)\n",
        "for no_of_clusters in list(K):\n",
        "    kmode = KModes(n_clusters=no_of_clusters, init = \"random\", n_init = 5, verbose=1)\n",
        "    kmode.fit_predict(data)\n",
        "    cost.append(kmode.cost_)\n",
        "    \n",
        "plt.plot(K, cost, 'bx-')\n",
        "plt.xlabel('Number of clusters') \n",
        "plt.ylabel('Cost')\n",
        "plt.title('Elbow Method For Optimal k')\n",
        "plt.show() # to show us how the algorithm came into this conclusion that \"3\" is the optimal k"
      ],
      "metadata": {
        "colab": {
          "base_uri": "https://localhost:8080/",
          "height": 1000
        },
        "id": "FuBlIWmoxOqF",
        "outputId": "037f13d4-f242-4d35-915a-af8551c61059"
      },
      "execution_count": 35,
      "outputs": [
        {
          "output_type": "stream",
          "name": "stdout",
          "text": [
            "Init: initializing centroids\n",
            "Init: initializing clusters\n",
            "Starting iterations...\n",
            "Run 1, iteration: 1/100, moves: 0, cost: 565.0\n",
            "Init: initializing centroids\n",
            "Init: initializing clusters\n",
            "Starting iterations...\n",
            "Run 2, iteration: 1/100, moves: 0, cost: 565.0\n",
            "Init: initializing centroids\n",
            "Init: initializing clusters\n",
            "Starting iterations...\n",
            "Run 3, iteration: 1/100, moves: 0, cost: 565.0\n",
            "Init: initializing centroids\n",
            "Init: initializing clusters\n",
            "Starting iterations...\n",
            "Run 4, iteration: 1/100, moves: 0, cost: 565.0\n",
            "Init: initializing centroids\n",
            "Init: initializing clusters\n",
            "Starting iterations...\n",
            "Run 5, iteration: 1/100, moves: 0, cost: 565.0\n",
            "Best run was number 1\n",
            "Init: initializing centroids\n",
            "Init: initializing clusters\n",
            "Starting iterations...\n",
            "Run 1, iteration: 1/100, moves: 18, cost: 496.0\n",
            "Run 1, iteration: 2/100, moves: 6, cost: 496.0\n",
            "Init: initializing centroids\n",
            "Init: initializing clusters\n",
            "Starting iterations...\n",
            "Run 2, iteration: 1/100, moves: 17, cost: 492.0\n",
            "Run 2, iteration: 2/100, moves: 6, cost: 492.0\n",
            "Init: initializing centroids\n",
            "Init: initializing clusters\n",
            "Starting iterations...\n",
            "Run 3, iteration: 1/100, moves: 21, cost: 491.0\n",
            "Init: initializing centroids\n",
            "Init: initializing clusters\n",
            "Starting iterations...\n",
            "Run 4, iteration: 1/100, moves: 0, cost: 501.0\n",
            "Init: initializing centroids\n",
            "Init: initializing clusters\n",
            "Starting iterations...\n",
            "Run 5, iteration: 1/100, moves: 34, cost: 481.0\n",
            "Run 5, iteration: 2/100, moves: 0, cost: 481.0\n",
            "Best run was number 5\n",
            "Init: initializing centroids\n",
            "Init: initializing clusters\n",
            "Starting iterations...\n",
            "Run 1, iteration: 1/100, moves: 33, cost: 456.0\n",
            "Run 1, iteration: 2/100, moves: 4, cost: 456.0\n",
            "Init: initializing centroids\n",
            "Init: initializing clusters\n",
            "Starting iterations...\n",
            "Run 2, iteration: 1/100, moves: 21, cost: 442.0\n",
            "Init: initializing centroids\n",
            "Init: initializing clusters\n",
            "Starting iterations...\n",
            "Run 3, iteration: 1/100, moves: 37, cost: 443.0\n",
            "Init: initializing centroids\n",
            "Init: initializing clusters\n",
            "Starting iterations...\n",
            "Run 4, iteration: 1/100, moves: 23, cost: 444.0\n",
            "Run 4, iteration: 2/100, moves: 15, cost: 441.0\n",
            "Run 4, iteration: 3/100, moves: 2, cost: 441.0\n",
            "Init: initializing centroids\n",
            "Init: initializing clusters\n",
            "Starting iterations...\n",
            "Run 5, iteration: 1/100, moves: 35, cost: 456.0\n",
            "Run 5, iteration: 2/100, moves: 26, cost: 449.0\n",
            "Run 5, iteration: 3/100, moves: 0, cost: 449.0\n",
            "Best run was number 4\n",
            "Init: initializing centroids\n",
            "Init: initializing clusters\n",
            "Starting iterations...\n",
            "Run 1, iteration: 1/100, moves: 23, cost: 429.0\n",
            "Run 1, iteration: 2/100, moves: 1, cost: 429.0\n",
            "Init: initializing centroids\n",
            "Init: initializing clusters\n",
            "Starting iterations...\n",
            "Run 2, iteration: 1/100, moves: 31, cost: 407.0\n",
            "Run 2, iteration: 2/100, moves: 14, cost: 407.0\n",
            "Init: initializing centroids\n",
            "Init: initializing clusters\n",
            "Starting iterations...\n",
            "Run 3, iteration: 1/100, moves: 24, cost: 431.0\n",
            "Init: initializing centroids\n",
            "Init: initializing clusters\n",
            "Starting iterations...\n",
            "Run 4, iteration: 1/100, moves: 23, cost: 426.0\n",
            "Run 4, iteration: 2/100, moves: 10, cost: 426.0\n",
            "Init: initializing centroids\n",
            "Init: initializing clusters\n",
            "Starting iterations...\n",
            "Run 5, iteration: 1/100, moves: 27, cost: 417.0\n",
            "Run 5, iteration: 2/100, moves: 6, cost: 417.0\n",
            "Best run was number 2\n"
          ]
        },
        {
          "output_type": "display_data",
          "data": {
            "text/plain": [
              "<Figure size 432x288 with 1 Axes>"
            ],
            "image/png": "[encoded data removed]"
          },
          "metadata": {
            "needs_background": "light"
          }
        }
      ]
    },
    {
      "cell_type": "code",
      "source": [
        "# Building the model with 3 clusters\n",
        "kmode = KModes(n_clusters=3, init = \"random\", n_init = 5, verbose=1)\n",
        "data_clusters = kmode.fit_predict(data)\n",
        "data_clusters"
      ],
      "metadata": {
        "colab": {
          "base_uri": "https://localhost:8080/"
        },
        "id": "HjLyfpE2xSGE",
        "outputId": "7a739b42-26a0-4a2b-e372-724f1d7ffce4"
      },
      "execution_count": 36,
      "outputs": [
        {
          "output_type": "stream",
          "name": "stdout",
          "text": [
            "Init: initializing centroids\n",
            "Init: initializing clusters\n",
            "Starting iterations...\n",
            "Run 1, iteration: 1/100, moves: 35, cost: 438.0\n",
            "Init: initializing centroids\n",
            "Init: initializing clusters\n",
            "Starting iterations...\n",
            "Run 2, iteration: 1/100, moves: 23, cost: 457.0\n",
            "Run 2, iteration: 2/100, moves: 5, cost: 457.0\n",
            "Init: initializing centroids\n",
            "Init: initializing clusters\n",
            "Starting iterations...\n",
            "Run 3, iteration: 1/100, moves: 16, cost: 458.0\n",
            "Run 3, iteration: 2/100, moves: 18, cost: 453.0\n",
            "Run 3, iteration: 3/100, moves: 0, cost: 453.0\n",
            "Init: initializing centroids\n",
            "Init: initializing clusters\n",
            "Starting iterations...\n",
            "Run 4, iteration: 1/100, moves: 15, cost: 458.0\n",
            "Run 4, iteration: 2/100, moves: 2, cost: 458.0\n",
            "Init: initializing centroids\n",
            "Init: initializing clusters\n",
            "Starting iterations...\n",
            "Run 5, iteration: 1/100, moves: 22, cost: 446.0\n",
            "Run 5, iteration: 2/100, moves: 6, cost: 446.0\n",
            "Best run was number 1\n"
          ]
        },
        {
          "output_type": "execute_result",
          "data": {
            "text/plain": [
              "array([0, 0, 0, 0, 2, 0, 0, 0, 0, 1, 0, 2, 1, 0, 2, 1, 1, 2, 0, 0, 0, 0,\n",
              "       1, 1, 2, 1, 2, 1, 0, 0, 0, 1, 0, 1, 1, 1, 0, 0, 0, 0, 1, 0, 2, 0,\n",
              "       2, 0, 0, 2, 0, 2, 0, 2, 0, 0, 0, 2, 0, 0, 2, 0, 2, 0, 0, 0, 2, 0,\n",
              "       1, 2, 0, 2, 0, 0, 2, 0, 0, 0, 1, 2, 2, 0, 1, 0, 1, 0, 1, 0, 0, 1,\n",
              "       2, 0, 2, 2, 2, 0, 0, 1, 0, 2, 2, 1, 0, 0, 0, 1, 0, 0, 0, 1, 0, 2,\n",
              "       0, 2, 2, 2, 2], dtype=uint16)"
            ]
          },
          "metadata": {},
          "execution_count": 36
        }
      ]
    },
    {
      "cell_type": "code",
      "source": [
        "data.insert(0, \"Cluster\", data_clusters, True)\n",
        "data"
      ],
      "metadata": {
        "colab": {
          "base_uri": "https://localhost:8080/",
          "height": 1000
        },
        "id": "7xbPDMZOxVVV",
        "outputId": "16556535-7cb9-443b-e2c1-dc4ba2c6b87b"
      },
      "execution_count": 37,
      "outputs": [
        {
          "output_type": "execute_result",
          "data": {
            "text/plain": [
              "     Cluster  gender                 age    household_income  \\\n",
              "0          0  Female   18 - 25 years old  More than RM 4,851   \n",
              "1          0    Male   18 - 25 years old  More than RM 4,851   \n",
              "2          0  Female   18 - 25 years old  Less than RM 4,850   \n",
              "3          0    Male   18 - 25 years old  Less than RM 4,850   \n",
              "4          2  Female   18 - 25 years old  Less than RM 4,850   \n",
              "..       ...     ...                 ...                 ...   \n",
              "110        0    Male   18 - 25 years old  More than RM 4,851   \n",
              "111        2  Female   18 - 25 years old  More than RM 4,851   \n",
              "112        2  Female  26 years and above  Less than RM 4,850   \n",
              "113        2  Female   18 - 25 years old  Less than RM 4,850   \n",
              "114        2  Female   18 - 25 years old  Less than RM 4,850   \n",
              "\n",
              "                       education_level occupation  \\\n",
              "0                      Master's Degree    Student   \n",
              "1    Undergraduate / Bachelor's Degree   Employed   \n",
              "2    Undergraduate / Bachelor's Degree   Employed   \n",
              "3                      Master's Degree   Employed   \n",
              "4                      Master's Degree   Employed   \n",
              "..                                 ...        ...   \n",
              "110  Undergraduate / Bachelor's Degree   Employed   \n",
              "111  Undergraduate / Bachelor's Degree    Student   \n",
              "112  Undergraduate / Bachelor's Degree    Student   \n",
              "113  Undergraduate / Bachelor's Degree   Employed   \n",
              "114  Undergraduate / Bachelor's Degree    Student   \n",
              "\n",
              "                           travel_purpose pref_transport_mode  \\\n",
              "0    Family Trip / Entertainment / Others              Flight   \n",
              "1                       Holiday & Leisure              Flight   \n",
              "2                       Holiday & Leisure              Flight   \n",
              "3                       Holiday & Leisure          Non_Flight   \n",
              "4                       Holiday & Leisure              Flight   \n",
              "..                                    ...                 ...   \n",
              "110                     Holiday & Leisure              Flight   \n",
              "111                     Holiday & Leisure          Non_Flight   \n",
              "112  Family Trip / Entertainment / Others              Flight   \n",
              "113                     Holiday & Leisure              Flight   \n",
              "114  Family Trip / Entertainment / Others              Flight   \n",
              "\n",
              "     pref_length_stay travel_pay_willingness  \\\n",
              "0    Less than 3 days       Less than RM 300   \n",
              "1              3 Days       Less than RM 300   \n",
              "2              3 Days       More than RM 300   \n",
              "3    Less than 3 days       Less than RM 300   \n",
              "4              3 Days       More than RM 300   \n",
              "..                ...                    ...   \n",
              "110  4 days and above       Less than RM 300   \n",
              "111  4 days and above       Less than RM 300   \n",
              "112  4 days and above       More than RM 300   \n",
              "113  Less than 3 days       Less than RM 300   \n",
              "114  4 days and above       Less than RM 300   \n",
              "\n",
              "                                              pref_poi  \\\n",
              "0                     Shopping Malls & Historical Site   \n",
              "1                     Shopping Malls & Historical Site   \n",
              "2                                Beaches and waterfall   \n",
              "3                                Beaches and waterfall   \n",
              "4    Adventure and Activity (Ex: Hiking, Mountain C...   \n",
              "..                                                 ...   \n",
              "110                   Shopping Malls & Historical Site   \n",
              "111  Adventure and Activity (Ex: Hiking, Mountain C...   \n",
              "112  Adventure and Activity (Ex: Hiking, Mountain C...   \n",
              "113                              Beaches and waterfall   \n",
              "114  Adventure and Activity (Ex: Hiking, Mountain C...   \n",
              "\n",
              "                              pref_group_size  \\\n",
              "0                Family Travel (3 – 6 people)   \n",
              "1                Family Travel (3 – 6 people)   \n",
              "2    Small & Large Group (6 people and above)   \n",
              "3                Family Travel (3 – 6 people)   \n",
              "4                Family Travel (3 – 6 people)   \n",
              "..                                        ...   \n",
              "110  Small & Large Group (6 people and above)   \n",
              "111              Family Travel (3 – 6 people)   \n",
              "112  Small & Large Group (6 people and above)   \n",
              "113              Family Travel (3 – 6 people)   \n",
              "114              Family Travel (3 – 6 people)   \n",
              "\n",
              "                               pref_travel_destination  \n",
              "0                    East Malaysia (Sabah and Sarawak)  \n",
              "1    Southern Region (Malacca, Johor and Negeri Sem...  \n",
              "2    East Coast Region (Kelantan, Terengganu and Pa...  \n",
              "3    East Coast Region (Kelantan, Terengganu and Pa...  \n",
              "4    East Coast Region (Kelantan, Terengganu and Pa...  \n",
              "..                                                 ...  \n",
              "110  Northern Region (Perlis, Kedah, Penang and Perak)  \n",
              "111  Southern Region (Malacca, Johor and Negeri Sem...  \n",
              "112         Central Region (Kuala Lumpur and Selangor)  \n",
              "113                  East Malaysia (Sabah and Sarawak)  \n",
              "114                  East Malaysia (Sabah and Sarawak)  \n",
              "\n",
              "[115 rows x 13 columns]"
            ],
            "text/html": [
              "\n",
              "  <div id=\"df-b637b798-fffe-49bb-9865-75d3ba174b4e\">\n",
              "    <div class=\"colab-df-container\">\n",
              "      <div>\n",
              "<style scoped>\n",
              "    .dataframe tbody tr th:only-of-type {\n",
              "        vertical-align: middle;\n",
              "    }\n",
              "\n",
              "    .dataframe tbody tr th {\n",
              "        vertical-align: top;\n",
              "    }\n",
              "\n",
              "    .dataframe thead th {\n",
              "        text-align: right;\n",
              "    }\n",
              "</style>\n",
              "<table border=\"1\" class=\"dataframe\">\n",
              "  <thead>\n",
              "    <tr style=\"text-align: right;\">\n",
              "      <th></th>\n",
              "      <th>Cluster</th>\n",
              "      <th>gender</th>\n",
              "      <th>age</th>\n",
              "      <th>household_income</th>\n",
              "      <th>education_level</th>\n",
              "      <th>occupation</th>\n",
              "      <th>travel_purpose</th>\n",
              "      <th>pref_transport_mode</th>\n",
              "      <th>pref_length_stay</th>\n",
              "      <th>travel_pay_willingness</th>\n",
              "      <th>pref_poi</th>\n",
              "      <th>pref_group_size</th>\n",
              "      <th>pref_travel_destination</th>\n",
              "    </tr>\n",
              "  </thead>\n",
              "  <tbody>\n",
              "    <tr>\n",
              "      <th>0</th>\n",
              "      <td>0</td>\n",
              "      <td>Female</td>\n",
              "      <td>18 - 25 years old</td>\n",
              "      <td>More than RM 4,851</td>\n",
              "      <td>Master's Degree</td>\n",
              "      <td>Student</td>\n",
              "      <td>Family Trip / Entertainment / Others</td>\n",
              "      <td>Flight</td>\n",
              "      <td>Less than 3 days</td>\n",
              "      <td>Less than RM 300</td>\n",
              "      <td>Shopping Malls &amp; Historical Site</td>\n",
              "      <td>Family Travel (3 – 6 people)</td>\n",
              "      <td>East Malaysia (Sabah and Sarawak)</td>\n",
              "    </tr>\n",
              "    <tr>\n",
              "      <th>1</th>\n",
              "      <td>0</td>\n",
              "      <td>Male</td>\n",
              "      <td>18 - 25 years old</td>\n",
              "      <td>More than RM 4,851</td>\n",
              "      <td>Undergraduate / Bachelor's Degree</td>\n",
              "      <td>Employed</td>\n",
              "      <td>Holiday &amp; Leisure</td>\n",
              "      <td>Flight</td>\n",
              "      <td>3 Days</td>\n",
              "      <td>Less than RM 300</td>\n",
              "      <td>Shopping Malls &amp; Historical Site</td>\n",
              "      <td>Family Travel (3 – 6 people)</td>\n",
              "      <td>Southern Region (Malacca, Johor and Negeri Sem...</td>\n",
              "    </tr>\n",
              "    <tr>\n",
              "      <th>2</th>\n",
              "      <td>0</td>\n",
              "      <td>Female</td>\n",
              "      <td>18 - 25 years old</td>\n",
              "      <td>Less than RM 4,850</td>\n",
              "      <td>Undergraduate / Bachelor's Degree</td>\n",
              "      <td>Employed</td>\n",
              "      <td>Holiday &amp; Leisure</td>\n",
              "      <td>Flight</td>\n",
              "      <td>3 Days</td>\n",
              "      <td>More than RM 300</td>\n",
              "      <td>Beaches and waterfall</td>\n",
              "      <td>Small &amp; Large Group (6 people and above)</td>\n",
              "      <td>East Coast Region (Kelantan, Terengganu and Pa...</td>\n",
              "    </tr>\n",
              "    <tr>\n",
              "      <th>3</th>\n",
              "      <td>0</td>\n",
              "      <td>Male</td>\n",
              "      <td>18 - 25 years old</td>\n",
              "      <td>Less than RM 4,850</td>\n",
              "      <td>Master's Degree</td>\n",
              "      <td>Employed</td>\n",
              "      <td>Holiday &amp; Leisure</td>\n",
              "      <td>Non_Flight</td>\n",
              "      <td>Less than 3 days</td>\n",
              "      <td>Less than RM 300</td>\n",
              "      <td>Beaches and waterfall</td>\n",
              "      <td>Family Travel (3 – 6 people)</td>\n",
              "      <td>East Coast Region (Kelantan, Terengganu and Pa...</td>\n",
              "    </tr>\n",
              "    <tr>\n",
              "      <th>4</th>\n",
              "      <td>2</td>\n",
              "      <td>Female</td>\n",
              "      <td>18 - 25 years old</td>\n",
              "      <td>Less than RM 4,850</td>\n",
              "      <td>Master's Degree</td>\n",
              "      <td>Employed</td>\n",
              "      <td>Holiday &amp; Leisure</td>\n",
              "      <td>Flight</td>\n",
              "      <td>3 Days</td>\n",
              "      <td>More than RM 300</td>\n",
              "      <td>Adventure and Activity (Ex: Hiking, Mountain C...</td>\n",
              "      <td>Family Travel (3 – 6 people)</td>\n",
              "      <td>East Coast Region (Kelantan, Terengganu and Pa...</td>\n",
              "    </tr>\n",
              "    <tr>\n",
              "      <th>...</th>\n",
              "      <td>...</td>\n",
              "      <td>...</td>\n",
              "      <td>...</td>\n",
              "      <td>...</td>\n",
              "      <td>...</td>\n",
              "      <td>...</td>\n",
              "      <td>...</td>\n",
              "      <td>...</td>\n",
              "      <td>...</td>\n",
              "      <td>...</td>\n",
              "      <td>...</td>\n",
              "      <td>...</td>\n",
              "      <td>...</td>\n",
              "    </tr>\n",
              "    <tr>\n",
              "      <th>110</th>\n",
              "      <td>0</td>\n",
              "      <td>Male</td>\n",
              "      <td>18 - 25 years old</td>\n",
              "      <td>More than RM 4,851</td>\n",
              "      <td>Undergraduate / Bachelor's Degree</td>\n",
              "      <td>Employed</td>\n",
              "      <td>Holiday &amp; Leisure</td>\n",
              "      <td>Flight</td>\n",
              "      <td>4 days and above</td>\n",
              "      <td>Less than RM 300</td>\n",
              "      <td>Shopping Malls &amp; Historical Site</td>\n",
              "      <td>Small &amp; Large Group (6 people and above)</td>\n",
              "      <td>Northern Region (Perlis, Kedah, Penang and Perak)</td>\n",
              "    </tr>\n",
              "    <tr>\n",
              "      <th>111</th>\n",
              "      <td>2</td>\n",
              "      <td>Female</td>\n",
              "      <td>18 - 25 years old</td>\n",
              "      <td>More than RM 4,851</td>\n",
              "      <td>Undergraduate / Bachelor's Degree</td>\n",
              "      <td>Student</td>\n",
              "      <td>Holiday &amp; Leisure</td>\n",
              "      <td>Non_Flight</td>\n",
              "      <td>4 days and above</td>\n",
              "      <td>Less than RM 300</td>\n",
              "      <td>Adventure and Activity (Ex: Hiking, Mountain C...</td>\n",
              "      <td>Family Travel (3 – 6 people)</td>\n",
              "      <td>Southern Region (Malacca, Johor and Negeri Sem...</td>\n",
              "    </tr>\n",
              "    <tr>\n",
              "      <th>112</th>\n",
              "      <td>2</td>\n",
              "      <td>Female</td>\n",
              "      <td>26 years and above</td>\n",
              "      <td>Less than RM 4,850</td>\n",
              "      <td>Undergraduate / Bachelor's Degree</td>\n",
              "      <td>Student</td>\n",
              "      <td>Family Trip / Entertainment / Others</td>\n",
              "      <td>Flight</td>\n",
              "      <td>4 days and above</td>\n",
              "      <td>More than RM 300</td>\n",
              "      <td>Adventure and Activity (Ex: Hiking, Mountain C...</td>\n",
              "      <td>Small &amp; Large Group (6 people and above)</td>\n",
              "      <td>Central Region (Kuala Lumpur and Selangor)</td>\n",
              "    </tr>\n",
              "    <tr>\n",
              "      <th>113</th>\n",
              "      <td>2</td>\n",
              "      <td>Female</td>\n",
              "      <td>18 - 25 years old</td>\n",
              "      <td>Less than RM 4,850</td>\n",
              "      <td>Undergraduate / Bachelor's Degree</td>\n",
              "      <td>Employed</td>\n",
              "      <td>Holiday &amp; Leisure</td>\n",
              "      <td>Flight</td>\n",
              "      <td>Less than 3 days</td>\n",
              "      <td>Less than RM 300</td>\n",
              "      <td>Beaches and waterfall</td>\n",
              "      <td>Family Travel (3 – 6 people)</td>\n",
              "      <td>East Malaysia (Sabah and Sarawak)</td>\n",
              "    </tr>\n",
              "    <tr>\n",
              "      <th>114</th>\n",
              "      <td>2</td>\n",
              "      <td>Female</td>\n",
              "      <td>18 - 25 years old</td>\n",
              "      <td>Less than RM 4,850</td>\n",
              "      <td>Undergraduate / Bachelor's Degree</td>\n",
              "      <td>Student</td>\n",
              "      <td>Family Trip / Entertainment / Others</td>\n",
              "      <td>Flight</td>\n",
              "      <td>4 days and above</td>\n",
              "      <td>Less than RM 300</td>\n",
              "      <td>Adventure and Activity (Ex: Hiking, Mountain C...</td>\n",
              "      <td>Family Travel (3 – 6 people)</td>\n",
              "      <td>East Malaysia (Sabah and Sarawak)</td>\n",
              "    </tr>\n",
              "  </tbody>\n",
              "</table>\n",
              "<p>115 rows × 13 columns</p>\n",
              "</div>\n",
              "      <button class=\"colab-df-convert\" onclick=\"convertToInteractive('df-b637b798-fffe-49bb-9865-75d3ba174b4e')\"\n",
              "              title=\"Convert this dataframe to an interactive table.\"\n",
              "              style=\"display:none;\">\n",
              "        \n",
              "  <svg xmlns=\"http://www.w3.org/2000/svg\" height=\"24px\"viewBox=\"0 0 24 24\"\n",
              "       width=\"24px\">\n",
              "    <path d=\"M0 0h24v24H0V0z\" fill=\"none\"/>\n",
              "    <path d=\"M18.56 5.44l.94 2.06.94-2.06 2.06-.94-2.06-.94-.94-2.06-.94 2.06-2.06.94zm-11 1L8.5 8.5l.94-2.06 2.06-.94-2.06-.94L8.5 2.5l-.94 2.06-2.06.94zm10 10l.94 2.06.94-2.06 2.06-.94-2.06-.94-.94-2.06-.94 2.06-2.06.94z\"/><path d=\"M17.41 7.96l-1.37-1.37c-.4-.4-.92-.59-1.43-.59-.52 0-1.04.2-1.43.59L10.3 9.45l-7.72 7.72c-.78.78-.78 2.05 0 2.83L4 21.41c.39.39.9.59 1.41.59.51 0 1.02-.2 1.41-.59l7.78-7.78 2.81-2.81c.8-.78.8-2.07 0-2.86zM5.41 20L4 18.59l7.72-7.72 1.47 1.35L5.41 20z\"/>\n",
              "  </svg>\n",
              "      </button>\n",
              "      \n",
              "  <style>\n",
              "    .colab-df-container {\n",
              "      display:flex;\n",
              "      flex-wrap:wrap;\n",
              "      gap: 12px;\n",
              "    }\n",
              "\n",
              "    .colab-df-convert {\n",
              "      background-color: #E8F0FE;\n",
              "      border: none;\n",
              "      border-radius: 50%;\n",
              "      cursor: pointer;\n",
              "      display: none;\n",
              "      fill: #1967D2;\n",
              "      height: 32px;\n",
              "      padding: 0 0 0 0;\n",
              "      width: 32px;\n",
              "    }\n",
              "\n",
              "    .colab-df-convert:hover {\n",
              "      background-color: #E2EBFA;\n",
              "      box-shadow: 0px 1px 2px rgba(60, 64, 67, 0.3), 0px 1px 3px 1px rgba(60, 64, 67, 0.15);\n",
              "      fill: #174EA6;\n",
              "    }\n",
              "\n",
              "    [theme=dark] .colab-df-convert {\n",
              "      background-color: #3B4455;\n",
              "      fill: #D2E3FC;\n",
              "    }\n",
              "\n",
              "    [theme=dark] .colab-df-convert:hover {\n",
              "      background-color: #434B5C;\n",
              "      box-shadow: 0px 1px 3px 1px rgba(0, 0, 0, 0.15);\n",
              "      filter: drop-shadow(0px 1px 2px rgba(0, 0, 0, 0.3));\n",
              "      fill: #FFFFFF;\n",
              "    }\n",
              "  </style>\n",
              "\n",
              "      <script>\n",
              "        const buttonEl =\n",
              "          document.querySelector('#df-b637b798-fffe-49bb-9865-75d3ba174b4e button.colab-df-convert');\n",
              "        buttonEl.style.display =\n",
              "          google.colab.kernel.accessAllowed ? 'block' : 'none';\n",
              "\n",
              "        async function convertToInteractive(key) {\n",
              "          const element = document.querySelector('#df-b637b798-fffe-49bb-9865-75d3ba174b4e');\n",
              "          const dataTable =\n",
              "            await google.colab.kernel.invokeFunction('convertToInteractive',\n",
              "                                                     [key], {});\n",
              "          if (!dataTable) return;\n",
              "\n",
              "          const docLinkHtml = 'Like what you see? Visit the ' +\n",
              "            '<a target=\"_blank\" href=https://colab.research.google.com/notebooks/data_table.ipynb>data table notebook</a>'\n",
              "            + ' to learn more about interactive tables.';\n",
              "          element.innerHTML = '';\n",
              "          dataTable['output_type'] = 'display_data';\n",
              "          await google.colab.output.renderOutput(dataTable, element);\n",
              "          const docLink = document.createElement('div');\n",
              "          docLink.innerHTML = docLinkHtml;\n",
              "          element.appendChild(docLink);\n",
              "        }\n",
              "      </script>\n",
              "    </div>\n",
              "  </div>\n",
              "  "
            ]
          },
          "metadata": {},
          "execution_count": 37
        }
      ]
    },
    {
      "cell_type": "code",
      "source": [
        "import seaborn as sns\n",
        "all_features = ['gender', 'age', 'household_income',\n",
        "       'education_level', 'occupation', 'travel_purpose',\n",
        "       'pref_transport_mode', 'pref_length_stay', 'travel_pay_willingness',\n",
        "       'pref_poi', 'pref_group_size', 'pref_travel_destination']\n",
        "for col in all_features:\n",
        "    plt.subplots(figsize = (15,5))\n",
        "    sns.countplot(x='Cluster',hue=col, data = data)\n",
        "    plt.show()"
      ],
      "metadata": {
        "colab": {
          "base_uri": "https://localhost:8080/",
          "height": 1000
        },
        "id": "j44470MNxbfb",
        "outputId": "6232e0f0-0c16-4f92-a33d-72bca9a2e5be"
      },
      "execution_count": 38,
      "outputs": [
        {
          "output_type": "display_data",
          "data": {
            "text/plain": [
              "<Figure size 1080x360 with 1 Axes>"
            ],
            "image/png": "[encoded data removed]"
          },
          "metadata": {
            "needs_background": "light"
          }
        },
        {
          "output_type": "display_data",
          "data": {
            "text/plain": [
              "<Figure size 1080x360 with 1 Axes>"
            ],
            "image/png": "[encoded data removed]"
          },
          "metadata": {
            "needs_background": "light"
          }
        },
        {
          "output_type": "display_data",
          "data": {
            "text/plain": [
              "<Figure size 1080x360 with 1 Axes>"
            ],
            "image/png": "[encoded data removed]"
          },
          "metadata": {
            "needs_background": "light"
          }
        },
        {
          "output_type": "display_data",
          "data": {
            "text/plain": [
              "<Figure size 1080x360 with 1 Axes>"
            ],
            "image/png": "[encoded data removed]"
          },
          "metadata": {
            "needs_background": "light"
          }
        },
        {
          "output_type": "display_data",
          "data": {
            "text/plain": [
              "<Figure size 1080x360 with 1 Axes>"
            ],
            "image/png": "[encoded data removed]"
          },
          "metadata": {
            "needs_background": "light"
          }
        },
        {
          "output_type": "display_data",
          "data": {
            "text/plain": [
              "<Figure size 1080x360 with 1 Axes>"
            ],
            "image/png": "[encoded data removed]"
          },
          "metadata": {
            "needs_background": "light"
          }
        },
        {
          "output_type": "display_data",
          "data": {
            "text/plain": [
              "<Figure size 1080x360 with 1 Axes>"
            ],
            "image/png": "[encoded data removed]"
          },
          "metadata": {
            "needs_background": "light"
          }
        },
        {
          "output_type": "display_data",
          "data": {
            "text/plain": [
              "<Figure size 1080x360 with 1 Axes>"
            ],
            "image/png": "[encoded data removed]"
          },
          "metadata": {
            "needs_background": "light"
          }
        },
        {
          "output_type": "display_data",
          "data": {
            "text/plain": [
              "<Figure size 1080x360 with 1 Axes>"
            ],
            "image/png": "[encoded data removed]"
          },
          "metadata": {
            "needs_background": "light"
          }
        },
        {
          "output_type": "display_data",
          "data": {
            "text/plain": [
              "<Figure size 1080x360 with 1 Axes>"
            ],
            "image/png": "[encoded data removed]"
          },
          "metadata": {
            "needs_background": "light"
          }
        },
        {
          "output_type": "display_data",
          "data": {
            "text/plain": [
              "<Figure size 1080x360 with 1 Axes>"
            ],
            "image/png": "[encoded data removed]"
          },
          "metadata": {
            "needs_background": "light"
          }
        },
        {
          "output_type": "display_data",
          "data": {
            "text/plain": [
              "<Figure size 1080x360 with 1 Axes>"
            ],
            "image/png": "[encoded data removed]"
          },
          "metadata": {
            "needs_background": "light"
          }
        }
      ]
    },
    {
      "cell_type": "code",
      "source": [
        "# the variable 'cluster' type is classified as 'numeric' - hence, changes needed to change\n",
        "# creating a dictionary \n",
        "# with column name and data type\n",
        "data_types_dict = {'Cluster': str}\n",
        "  \n",
        "# we will change the data type \n",
        "# of id column to str by giving\n",
        "# the dict to the astype method\n",
        "data = data.astype(data_types_dict)\n",
        "  \n",
        "# checking the data types\n",
        "# using df.dtypes method\n",
        "data.dtypes"
      ],
      "metadata": {
        "colab": {
          "base_uri": "https://localhost:8080/"
        },
        "id": "4XBM6_8dxfqx",
        "outputId": "14d0bff5-1144-4920-aa33-bbcd702659ca"
      },
      "execution_count": 39,
      "outputs": [
        {
          "output_type": "execute_result",
          "data": {
            "text/plain": [
              "Cluster                    object\n",
              "gender                     object\n",
              "age                        object\n",
              "household_income           object\n",
              "education_level            object\n",
              "occupation                 object\n",
              "travel_purpose             object\n",
              "pref_transport_mode        object\n",
              "pref_length_stay           object\n",
              "travel_pay_willingness     object\n",
              "pref_poi                   object\n",
              "pref_group_size            object\n",
              "pref_travel_destination    object\n",
              "dtype: object"
            ]
          },
          "metadata": {},
          "execution_count": 39
        }
      ]
    },
    {
      "cell_type": "code",
      "source": [
        "# Export the dataset to csv - backup copy \n",
        "import pandas as pd\n",
        "import openpyxl as xls\n",
        "\n",
        "data.to_csv(\"data_tour_cluster.csv\")"
      ],
      "metadata": {
        "id": "0wii6Nr2xjX5"
      },
      "execution_count": null,
      "outputs": []
    }
  ]
}