{
  "nbformat": 4,
  "nbformat_minor": 0,
  "metadata": {
    "colab": {
      "provenance": []
    },
    "kernelspec": {
      "name": "python3",
      "display_name": "Python 3"
    },
    "language_info": {
      "name": "python"
    }
  },
  "cells": [
    {
      "cell_type": "markdown",
      "source": [
        "Name: Tan Jun Sheng (TP064017)\n",
        "\n",
        "Theme: Building A Novel Predictive Model To Predict Tourist Travel Preferences For Effective Planning Of Domestic Tour Package"
      ],
      "metadata": {
        "id": "GvaumS1MAl44"
      }
    },
    {
      "cell_type": "code",
      "source": [
        "#Mounting our Drive to Google Colab\n",
        "from google.colab import drive\n",
        "drive.mount('/drive')"
      ],
      "metadata": {
        "id": "91zjH3ByArH8"
      },
      "execution_count": null,
      "outputs": []
    },
    {
      "cell_type": "code",
      "execution_count": null,
      "metadata": {
        "id": "SwdRP-k0AVP1",
        "colab": {
          "base_uri": "https://localhost:8080/"
        },
        "outputId": "4c4cd42a-fea3-4875-e8e6-fd5f5e3e6bfb"
      },
      "outputs": [
        {
          "output_type": "stream",
          "name": "stdout",
          "text": [
            "Looking in indexes: https://pypi.org/simple, https://us-python.pkg.dev/colab-wheels/public/simple/\n",
            "Collecting kmodes\n",
            "  Downloading kmodes-0.12.1-py2.py3-none-any.whl (20 kB)\n",
            "Requirement already satisfied: scipy>=0.13.3 in /usr/local/lib/python3.7/dist-packages (from kmodes) (1.7.3)\n",
            "Requirement already satisfied: numpy>=1.10.4 in /usr/local/lib/python3.7/dist-packages (from kmodes) (1.21.6)\n",
            "Requirement already satisfied: scikit-learn>=0.22.0 in /usr/local/lib/python3.7/dist-packages (from kmodes) (1.0.2)\n",
            "Requirement already satisfied: joblib>=0.11 in /usr/local/lib/python3.7/dist-packages (from kmodes) (1.1.0)\n",
            "Requirement already satisfied: threadpoolctl>=2.0.0 in /usr/local/lib/python3.7/dist-packages (from scikit-learn>=0.22.0->kmodes) (3.1.0)\n",
            "Installing collected packages: kmodes\n",
            "Successfully installed kmodes-0.12.1\n",
            "Looking in indexes: https://pypi.org/simple, https://us-python.pkg.dev/colab-wheels/public/simple/\n",
            "Collecting pyngrok\n",
            "  Downloading pyngrok-5.1.0.tar.gz (745 kB)\n",
            "\u001b[K     |████████████████████████████████| 745 kB 6.5 MB/s \n",
            "\u001b[?25hRequirement already satisfied: PyYAML in /usr/local/lib/python3.7/dist-packages (from pyngrok) (3.13)\n",
            "Building wheels for collected packages: pyngrok\n",
            "  Building wheel for pyngrok (setup.py) ... \u001b[?25l\u001b[?25hdone\n",
            "  Created wheel for pyngrok: filename=pyngrok-5.1.0-py3-none-any.whl size=19007 sha256=ee2785bad252301480e99f24754881edfeece268445d3ec0d5ae5bad98ddd70c\n",
            "  Stored in directory: /root/.cache/pip/wheels/bf/e6/af/ccf6598ecefecd44104069371795cb9b3afbcd16987f6ccfb3\n",
            "Successfully built pyngrok\n",
            "Installing collected packages: pyngrok\n",
            "Successfully installed pyngrok-5.1.0\n"
          ]
        }
      ],
      "source": [
        "# Import necessary libraries\n",
        "\n",
        "import pandas as pd # data analysis\n",
        "import numpy as np # arrays\n",
        "\n",
        "# For Modelling - Clustering \n",
        "!pip install kmodes\n",
        "from kmodes.kmodes import KModes # KModes is the model\n",
        "import matplotlib.pyplot as plt # for visualisation\n",
        "import seaborn as sns # for visualisation\n",
        "\n",
        "# Export the dataset to csv - as a backup copy after changes has been made\n",
        "import openpyxl as xls \n",
        "\n",
        "from sklearn.compose import make_column_transformer # for one hot encoding & piping\n",
        "from sklearn.pipeline import make_pipeline #pipe library was loaded to streamline the workflow \n",
        "from sklearn.preprocessing import OneHotEncoder # for one hot encoding\n",
        "\n",
        "from sklearn.model_selection import train_test_split # for data partitioning \n",
        "\n",
        "# For Modelling - Classification \n",
        "from sklearn.linear_model import LogisticRegression # building the logistic regression model\n",
        "from sklearn.tree import DecisionTreeClassifier # Decision Tree model\n",
        "from sklearn.neural_network import MLPClassifier  # Neural Network - Multilayer Perceptron\n",
        "from sklearn.ensemble import RandomForestClassifier # Random Forest\n",
        "\n",
        "# For performance evaluation\n",
        "from sklearn.metrics import classification_report, confusion_matrix # Compute Confusion Matrix \n",
        "\n",
        "# For deployment\n",
        "import streamlit as st # import streamlit for web development\n",
        "import pickle # for saving the model\n",
        "! pip install pyngrok\n",
        "from pyngrok import ngrok # creating the link to the web application"
      ]
    },
    {
      "cell_type": "code",
      "source": [
        "path = '/drive/MyDrive/Colab Notebooks/CLEAN_2_Tour Agencies_v2.csv'\n",
        "data = pd.read_csv(path)"
      ],
      "metadata": {
        "id": "0yShcXxuBuTp"
      },
      "execution_count": null,
      "outputs": []
    },
    {
      "cell_type": "markdown",
      "source": [
        "Step 1: Initial Data Exploration"
      ],
      "metadata": {
        "id": "sr1jk-YMCtDp"
      }
    },
    {
      "cell_type": "code",
      "source": [
        "# View all variables in the dataset\n",
        "data.columns"
      ],
      "metadata": {
        "colab": {
          "base_uri": "https://localhost:8080/"
        },
        "id": "ut8hk0GZCwvd",
        "outputId": "fc734e9a-4439-45c4-a361-5bff8246ebaa"
      },
      "execution_count": null,
      "outputs": [
        {
          "output_type": "execute_result",
          "data": {
            "text/plain": [
              "Index(['I have read and understood the above information. I understand that, because my answers will be fully anonymized, it will not be possible to withdraw them from the study once I have completed the survey. I agree to take part in this questionnaire survey a',\n",
              "       'Are you currently residing in Malaysia?', 'gender', 'age',\n",
              "       'household_income', 'marital_status', 'chidlren_no', 'education_level',\n",
              "       'occupation', 'trip_plan_likelihood', 'travel_purpose',\n",
              "       'source_travel_info', 'pref_socialmed_info', 'pref_transport_mode',\n",
              "       'pref_length_stay', 'travel_pay_willingness', 'pref_poi',\n",
              "       'pref_group_size', 'pref_travel_destination'],\n",
              "      dtype='object')"
            ]
          },
          "metadata": {},
          "execution_count": 4
        }
      ]
    },
    {
      "cell_type": "code",
      "source": [
        "# Remove irrelavant columns \n",
        "# First 2 variables will not be useful for further analysis\n",
        "\n",
        "data = data.drop(['I have read and understood the above information. I understand that, because my answers will be fully anonymized, it will not be possible to withdraw them from the study once I have completed the survey. I agree to take part in this questionnaire survey a', \n",
        "                  'Are you currently residing in Malaysia?'], axis=1)\n",
        "data.columns "
      ],
      "metadata": {
        "colab": {
          "base_uri": "https://localhost:8080/"
        },
        "id": "1I9D3rsfHoUi",
        "outputId": "8af6af57-5018-441b-d554-60b50b5b22c8"
      },
      "execution_count": null,
      "outputs": [
        {
          "output_type": "execute_result",
          "data": {
            "text/plain": [
              "Index(['gender', 'age', 'household_income', 'marital_status', 'chidlren_no',\n",
              "       'education_level', 'occupation', 'trip_plan_likelihood',\n",
              "       'travel_purpose', 'source_travel_info', 'pref_socialmed_info',\n",
              "       'pref_transport_mode', 'pref_length_stay', 'travel_pay_willingness',\n",
              "       'pref_poi', 'pref_group_size', 'pref_travel_destination'],\n",
              "      dtype='object')"
            ]
          },
          "metadata": {},
          "execution_count": 4
        }
      ]
    },
    {
      "cell_type": "code",
      "source": [
        "# View dataset total observations and variables\n",
        "data.shape"
      ],
      "metadata": {
        "colab": {
          "base_uri": "https://localhost:8080/"
        },
        "id": "Xc57UKIXIjrq",
        "outputId": "8a36b713-eb2f-417e-9c93-73f45addf597"
      },
      "execution_count": null,
      "outputs": [
        {
          "output_type": "execute_result",
          "data": {
            "text/plain": [
              "(115, 17)"
            ]
          },
          "metadata": {},
          "execution_count": 5
        }
      ]
    },
    {
      "cell_type": "code",
      "source": [
        "# Check the variable information (Data type etc.)\n",
        "data.info()"
      ],
      "metadata": {
        "colab": {
          "base_uri": "https://localhost:8080/"
        },
        "id": "HI9togeFLqh0",
        "outputId": "a6201663-2b7e-4d93-b0bc-9bbc78c2de48"
      },
      "execution_count": null,
      "outputs": [
        {
          "output_type": "stream",
          "name": "stdout",
          "text": [
            "<class 'pandas.core.frame.DataFrame'>\n",
            "RangeIndex: 115 entries, 0 to 114\n",
            "Data columns (total 17 columns):\n",
            " #   Column                   Non-Null Count  Dtype \n",
            "---  ------                   --------------  ----- \n",
            " 0   gender                   115 non-null    object\n",
            " 1   age                      115 non-null    object\n",
            " 2   household_income         115 non-null    object\n",
            " 3   marital_status           115 non-null    object\n",
            " 4   chidlren_no              115 non-null    object\n",
            " 5   education_level          115 non-null    object\n",
            " 6   occupation               115 non-null    object\n",
            " 7   trip_plan_likelihood     115 non-null    int64 \n",
            " 8   travel_purpose           115 non-null    object\n",
            " 9   source_travel_info       115 non-null    object\n",
            " 10  pref_socialmed_info      115 non-null    object\n",
            " 11  pref_transport_mode      115 non-null    object\n",
            " 12  pref_length_stay         115 non-null    object\n",
            " 13  travel_pay_willingness   115 non-null    object\n",
            " 14  pref_poi                 115 non-null    object\n",
            " 15  pref_group_size          115 non-null    object\n",
            " 16  pref_travel_destination  115 non-null    object\n",
            "dtypes: int64(1), object(16)\n",
            "memory usage: 15.4+ KB\n"
          ]
        }
      ]
    },
    {
      "cell_type": "code",
      "source": [
        "# Simple view on the dataset \n",
        "data.head()"
      ],
      "metadata": {
        "id": "UsvGEi-AMXD4"
      },
      "execution_count": null,
      "outputs": []
    },
    {
      "cell_type": "markdown",
      "source": [
        "Step 2: Data Understanding / EDA was carried out in R Programming"
      ],
      "metadata": {
        "id": "BBaPmE1gl15p"
      }
    },
    {
      "cell_type": "markdown",
      "source": [
        "Step 3: Data Pre-Processing (Phase 1)"
      ],
      "metadata": {
        "id": "pIDfEmxulz4s"
      }
    },
    {
      "cell_type": "markdown",
      "source": [
        "Variable - AGE"
      ],
      "metadata": {
        "id": "Jo8oglmunf7d"
      }
    },
    {
      "cell_type": "code",
      "source": [
        "# Age \n",
        "# Issues: Imbalance as majority of the observations are under the 18-25 group\n",
        "# Solution: Combine '26-34', '35-49', '50 and above' into a new '26 and above' group\n",
        "data['age'].describe()\n",
        "data['age'].value_counts()"
      ],
      "metadata": {
        "colab": {
          "base_uri": "https://localhost:8080/"
        },
        "id": "x5Dd-gTKl6hx",
        "outputId": "729e6528-7c16-4c88-d5d1-1a3e493deec3"
      },
      "execution_count": null,
      "outputs": [
        {
          "output_type": "execute_result",
          "data": {
            "text/plain": [
              "18 - 25 years old    88\n",
              "26 - 34 years old    23\n",
              "35 - 49 years old     3\n",
              "50 and above          1\n",
              "Name: age, dtype: int64"
            ]
          },
          "metadata": {},
          "execution_count": 4
        }
      ]
    },
    {
      "cell_type": "code",
      "source": [
        "# combine the other 2 variables\n",
        "data['age'] = data['age'].replace({'35 - 49 years old': '26 - 34 years old'})\n",
        "data['age'] = data['age'].replace({'50 and above': '26 - 34 years old'})\n",
        "data['age'].value_counts()"
      ],
      "metadata": {
        "colab": {
          "base_uri": "https://localhost:8080/"
        },
        "id": "q4QUdHLanY5r",
        "outputId": "a8fa96c5-0282-4fa4-941b-0dc3c1a17536"
      },
      "execution_count": null,
      "outputs": [
        {
          "output_type": "execute_result",
          "data": {
            "text/plain": [
              "18 - 25 years old    88\n",
              "26 - 34 years old    27\n",
              "Name: age, dtype: int64"
            ]
          },
          "metadata": {},
          "execution_count": 5
        }
      ]
    },
    {
      "cell_type": "code",
      "source": [
        "# rename the category level to a much more appropriate name\n",
        "data['age'] = data['age'].replace({'26 - 34 years old': '26 years and above'})\n",
        "data['age'].value_counts()"
      ],
      "metadata": {
        "colab": {
          "base_uri": "https://localhost:8080/"
        },
        "id": "UU6YSYkEnbWR",
        "outputId": "90758afa-d047-4d89-df4d-06987eab9fe3"
      },
      "execution_count": null,
      "outputs": [
        {
          "output_type": "execute_result",
          "data": {
            "text/plain": [
              "18 - 25 years old     88\n",
              "26 years and above    27\n",
              "Name: age, dtype: int64"
            ]
          },
          "metadata": {},
          "execution_count": 6
        }
      ]
    },
    {
      "cell_type": "markdown",
      "source": [
        "Variable - MONTHLY HOUSEHOLD INCOME"
      ],
      "metadata": {
        "id": "C7wB9cAHnjj6"
      }
    },
    {
      "cell_type": "code",
      "source": [
        "# Monthly Household Income\n",
        "data['household_income'].value_counts()"
      ],
      "metadata": {
        "colab": {
          "base_uri": "https://localhost:8080/"
        },
        "id": "wA23JMa7nqiy",
        "outputId": "ef35b9ed-6ab9-4f36-f040-ece1bd963626"
      },
      "execution_count": null,
      "outputs": [
        {
          "output_type": "execute_result",
          "data": {
            "text/plain": [
              "Less than RM 4,850             57\n",
              "Between RM 4,851 - RM10,959    40\n",
              "More than 10,959               18\n",
              "Name: household_income, dtype: int64"
            ]
          },
          "metadata": {},
          "execution_count": 7
        }
      ]
    },
    {
      "cell_type": "code",
      "source": [
        "# As this dataset has not much observations, it is crucial to reduce the factor levels to improve model performance\n",
        "# Option 1 -> combine More than 10,959 with Between RM 4,851 - RM 10,959\n",
        "# Rename the new categorical level as 'More than 4,851'\n",
        "data['household_income'] = data['household_income'].replace({'Between RM 4,851 - RM10,959': 'More than RM 4,851'})\n",
        "data['household_income'] = data['household_income'].replace({'More than 10,959': 'More than RM 4,851'})\n",
        "data['household_income'].value_counts()"
      ],
      "metadata": {
        "colab": {
          "base_uri": "https://localhost:8080/"
        },
        "id": "-YaqiwMwntvh",
        "outputId": "593204ec-f481-4f08-a9b2-f7dc5a7fe2fb"
      },
      "execution_count": null,
      "outputs": [
        {
          "output_type": "execute_result",
          "data": {
            "text/plain": [
              "More than RM 4,851    58\n",
              "Less than RM 4,850    57\n",
              "Name: household_income, dtype: int64"
            ]
          },
          "metadata": {},
          "execution_count": 8
        }
      ]
    },
    {
      "cell_type": "markdown",
      "source": [
        "Variable - MARITAL STATUS"
      ],
      "metadata": {
        "id": "LJM9DnCBoctB"
      }
    },
    {
      "cell_type": "code",
      "source": [
        "#drop variables - data for this variable is hugely imbalance\n",
        "data = data.drop(['marital_status'], axis = 1) \n",
        "# axis=0 refers to deletion of rows and axis=1 refers to deletion of columns"
      ],
      "metadata": {
        "id": "KN2BO68jobJA"
      },
      "execution_count": null,
      "outputs": []
    },
    {
      "cell_type": "markdown",
      "source": [
        "Variable - NUMBER OF CHILDREN"
      ],
      "metadata": {
        "id": "lAaBMQ2YoiZg"
      }
    },
    {
      "cell_type": "code",
      "source": [
        "#drop variables - data for this variable is hugely imbalance\n",
        "data = data.drop(['chidlren_no'], axis = 1) "
      ],
      "metadata": {
        "id": "E_L4VKCAolEV"
      },
      "execution_count": null,
      "outputs": []
    },
    {
      "cell_type": "markdown",
      "source": [
        "Variable - EDUCATION LEVEL"
      ],
      "metadata": {
        "id": "Q4z53HXionJ6"
      }
    },
    {
      "cell_type": "code",
      "source": [
        "# Education Level\n",
        "# combine the other 2 categories (High School & Foundation / Diploma into one)\n",
        "data['education_level'].value_counts()"
      ],
      "metadata": {
        "colab": {
          "base_uri": "https://localhost:8080/"
        },
        "id": "CUHbG95NoqOK",
        "outputId": "57c786ce-bc30-4344-d01f-3d883eee5201"
      },
      "execution_count": null,
      "outputs": [
        {
          "output_type": "execute_result",
          "data": {
            "text/plain": [
              "Undergraduate / Bachelor's Degree    79\n",
              "Master's Degree                      25\n",
              "High School                           7\n",
              "Foundation / Diploma                  4\n",
              "Name: education_level, dtype: int64"
            ]
          },
          "metadata": {},
          "execution_count": 11
        }
      ]
    },
    {
      "cell_type": "code",
      "source": [
        "data['education_level'] = data['education_level'].replace({'High School': 'Foundation / Diploma / High School'})\n",
        "data['education_level'] = data['education_level'].replace({'Foundation / Diploma': 'Foundation / Diploma / High School'})\n",
        "data['education_level'].value_counts()"
      ],
      "metadata": {
        "colab": {
          "base_uri": "https://localhost:8080/"
        },
        "id": "OnTCvH6XosZZ",
        "outputId": "d028de77-03b1-4901-f0b0-d26169fffbaa"
      },
      "execution_count": null,
      "outputs": [
        {
          "output_type": "execute_result",
          "data": {
            "text/plain": [
              "Undergraduate / Bachelor's Degree     79\n",
              "Master's Degree                       25\n",
              "Foundation / Diploma / High School    11\n",
              "Name: education_level, dtype: int64"
            ]
          },
          "metadata": {},
          "execution_count": 12
        }
      ]
    },
    {
      "cell_type": "markdown",
      "source": [
        "Variable - OCCUPATION"
      ],
      "metadata": {
        "id": "deG7-sUgo2Iu"
      }
    },
    {
      "cell_type": "code",
      "source": [
        "# Occupation\n",
        "# combine the other 1 category (Self-Employed) into (Employed) \n",
        "data['occupation'].value_counts()"
      ],
      "metadata": {
        "colab": {
          "base_uri": "https://localhost:8080/"
        },
        "id": "3odo33l8o457",
        "outputId": "ee5dd717-2f85-4d38-e7bf-5ce66d0604c3"
      },
      "execution_count": null,
      "outputs": [
        {
          "output_type": "execute_result",
          "data": {
            "text/plain": [
              "Student          69\n",
              "Employed         45\n",
              "Self-Employed     1\n",
              "Name: occupation, dtype: int64"
            ]
          },
          "metadata": {},
          "execution_count": 13
        }
      ]
    },
    {
      "cell_type": "code",
      "source": [
        "# combine the other 1 category (Self-Employed) into (Employed) \n",
        "data['occupation'] = data['occupation'].replace({'Self-Employed': 'Employed'})\n",
        "data['occupation'].value_counts()"
      ],
      "metadata": {
        "colab": {
          "base_uri": "https://localhost:8080/"
        },
        "id": "k0CheNA3o6-U",
        "outputId": "c63c49ef-5fce-4dfa-f3af-ecebe0ef848a"
      },
      "execution_count": null,
      "outputs": [
        {
          "output_type": "execute_result",
          "data": {
            "text/plain": [
              "Student     69\n",
              "Employed    46\n",
              "Name: occupation, dtype: int64"
            ]
          },
          "metadata": {},
          "execution_count": 14
        }
      ]
    },
    {
      "cell_type": "markdown",
      "source": [
        "Variable - TRIP_PLAN_LIKELIHOOD"
      ],
      "metadata": {
        "id": "xkQTXTq-pBag"
      }
    },
    {
      "cell_type": "code",
      "source": [
        "# trip_plan_likelihood\n",
        "# can be removed as this variable is just to help us visualise the\n",
        "# likelihood of travellers planning to travel in the next 12 months\n",
        "#drop variables \n",
        "data = data.drop(['trip_plan_likelihood'], axis = 1)"
      ],
      "metadata": {
        "id": "7Peay_D0pFx2"
      },
      "execution_count": null,
      "outputs": []
    },
    {
      "cell_type": "markdown",
      "source": [
        "Variable - TRAVEL PURPOSE"
      ],
      "metadata": {
        "id": "BWzuNbQ8pNmu"
      }
    },
    {
      "cell_type": "code",
      "source": [
        "# travel_purpose\n",
        "# combine the other 1 category (Self-Employed) into (Employed) \n",
        "data['travel_purpose'].value_counts()"
      ],
      "metadata": {
        "colab": {
          "base_uri": "https://localhost:8080/"
        },
        "id": "xUheNG7ApJ_C",
        "outputId": "13354ccd-353b-4de8-ae39-ddb4d253f2ee"
      },
      "execution_count": null,
      "outputs": [
        {
          "output_type": "execute_result",
          "data": {
            "text/plain": [
              "Holiday & Leisure          79\n",
              "Family Trip                23\n",
              "Entertainment               9\n",
              "Shopping                    2\n",
              "Corporate team building     1\n",
              "Fly car                     1\n",
              "Name: travel_purpose, dtype: int64"
            ]
          },
          "metadata": {},
          "execution_count": 16
        }
      ]
    },
    {
      "cell_type": "code",
      "source": [
        "# Issue: Imbalance data on a few categorical factor levels\n",
        "# combine 'Family trip', 'entertainment', 'shopping', 'corporate team building' and 'fly car' into one category level\n",
        "# new category level name -> 'Family Trip / Entertainment / Others'\n",
        "data['travel_purpose'] = data['travel_purpose'].replace({'Family Trip': 'Family Trip / Entertainment / Others'})\n",
        "data['travel_purpose'] = data['travel_purpose'].replace({'Entertainment': 'Family Trip / Entertainment / Others'})\n",
        "data['travel_purpose'] = data['travel_purpose'].replace({'Shopping': 'Family Trip / Entertainment / Others'})\n",
        "data['travel_purpose'] = data['travel_purpose'].replace({'Corporate team building': 'Family Trip / Entertainment / Others'})\n",
        "data['travel_purpose'] = data['travel_purpose'].replace({'Fly car': 'Family Trip / Entertainment / Others'})\n",
        "data['travel_purpose'].value_counts()"
      ],
      "metadata": {
        "colab": {
          "base_uri": "https://localhost:8080/"
        },
        "id": "8QXACQEhpQ3e",
        "outputId": "5a4cb498-deb5-4043-ee2d-809134a53199"
      },
      "execution_count": null,
      "outputs": [
        {
          "output_type": "execute_result",
          "data": {
            "text/plain": [
              "Holiday & Leisure                       79\n",
              "Family Trip / Entertainment / Others    36\n",
              "Name: travel_purpose, dtype: int64"
            ]
          },
          "metadata": {},
          "execution_count": 17
        }
      ]
    },
    {
      "cell_type": "markdown",
      "source": [
        "Variable - SOURCE TRAVEL INFO"
      ],
      "metadata": {
        "id": "eP4F3oMmpS_0"
      }
    },
    {
      "cell_type": "code",
      "source": [
        "# source_travel_info\n",
        "# can be removed as this variable is just to help us visualise the\n",
        "# source of travellers collecting travel related information and not directly related to group package\n",
        "#drop variables \n",
        "data = data.drop(['source_travel_info'], axis = 1) "
      ],
      "metadata": {
        "id": "GPwnSXCXpWhg"
      },
      "execution_count": null,
      "outputs": []
    },
    {
      "cell_type": "markdown",
      "source": [
        "Variable - PREFERRED SOCIAL MEDIA INFO"
      ],
      "metadata": {
        "id": "DjRsCCs9pmEz"
      }
    },
    {
      "cell_type": "code",
      "source": [
        "# Option 1 - Remove as this variable does not directly related to group package\n",
        "data = data.drop(['pref_socialmed_info'], axis = 1) "
      ],
      "metadata": {
        "id": "CkQDa0PBppob"
      },
      "execution_count": null,
      "outputs": []
    },
    {
      "cell_type": "markdown",
      "source": [
        "Variable - PREFERRED MODE OF TRANSPORT"
      ],
      "metadata": {
        "id": "6YOyrGMQp9vi"
      }
    },
    {
      "cell_type": "code",
      "source": [
        "#pref_transport_mode \n",
        "data['pref_transport_mode'].value_counts()"
      ],
      "metadata": {
        "colab": {
          "base_uri": "https://localhost:8080/"
        },
        "id": "l0AHsuJzqCAj",
        "outputId": "e6d799fd-40d1-4626-ee75-b66dc67bb970"
      },
      "execution_count": null,
      "outputs": [
        {
          "output_type": "execute_result",
          "data": {
            "text/plain": [
              "Flight    78\n",
              "Bus       23\n",
              "Train     14\n",
              "Name: pref_transport_mode, dtype: int64"
            ]
          },
          "metadata": {},
          "execution_count": 20
        }
      ]
    },
    {
      "cell_type": "code",
      "source": [
        "# Combine 'Bus' and 'Train' and form a new level to be referred as 'Non-Flight'\n",
        "data['pref_transport_mode'] = data['pref_transport_mode'].replace({'Bus': 'Non_Flight'})\n",
        "data['pref_transport_mode'] = data['pref_transport_mode'].replace({'Train': 'Non_Flight'})\n",
        "data['pref_transport_mode'].value_counts()"
      ],
      "metadata": {
        "colab": {
          "base_uri": "https://localhost:8080/"
        },
        "id": "MaPQ8r7TqHRq",
        "outputId": "0c2374c2-4e7f-4fee-8b8c-e9d558aa72a7"
      },
      "execution_count": null,
      "outputs": [
        {
          "output_type": "execute_result",
          "data": {
            "text/plain": [
              "Flight        78\n",
              "Non_Flight    37\n",
              "Name: pref_transport_mode, dtype: int64"
            ]
          },
          "metadata": {},
          "execution_count": 21
        }
      ]
    },
    {
      "cell_type": "markdown",
      "source": [
        "Variable - PREFERRED LENGTH OF STAY"
      ],
      "metadata": {
        "id": "p7QjwCONqJOa"
      }
    },
    {
      "cell_type": "code",
      "source": [
        "# pref_length_stay \n",
        "data['pref_length_stay'].value_counts()"
      ],
      "metadata": {
        "colab": {
          "base_uri": "https://localhost:8080/"
        },
        "id": "EPJYDYmsqN2p",
        "outputId": "a398f632-1007-48ad-fadb-c6728be5d035"
      },
      "execution_count": null,
      "outputs": [
        {
          "output_type": "execute_result",
          "data": {
            "text/plain": [
              "3 Days              47\n",
              "Less than 3 days    25\n",
              "5 Days              22\n",
              "4 Days              21\n",
              "Name: pref_length_stay, dtype: int64"
            ]
          },
          "metadata": {},
          "execution_count": 22
        }
      ]
    },
    {
      "cell_type": "code",
      "source": [
        "# Combine '5 days' and '4 days' together and form a new level to be renamed as '4 days and above'\n",
        "data['pref_length_stay'] = data['pref_length_stay'].replace({'5 Days': '4 days and above'})\n",
        "data['pref_length_stay'] = data['pref_length_stay'].replace({'4 Days': '4 days and above'})\n",
        "data['pref_length_stay'].value_counts()"
      ],
      "metadata": {
        "colab": {
          "base_uri": "https://localhost:8080/"
        },
        "id": "O7BD1dacqPsJ",
        "outputId": "70799957-b0d4-494d-b65a-01b5a9bd5114"
      },
      "execution_count": null,
      "outputs": [
        {
          "output_type": "execute_result",
          "data": {
            "text/plain": [
              "3 Days              47\n",
              "4 days and above    43\n",
              "Less than 3 days    25\n",
              "Name: pref_length_stay, dtype: int64"
            ]
          },
          "metadata": {},
          "execution_count": 23
        }
      ]
    },
    {
      "cell_type": "markdown",
      "source": [
        "Variable - WILLINGNESS TO PAY"
      ],
      "metadata": {
        "id": "Vhiy-J3LqSaY"
      }
    },
    {
      "cell_type": "code",
      "source": [
        "# travel_pay_willingness\n",
        "data['travel_pay_willingness'].value_counts()"
      ],
      "metadata": {
        "colab": {
          "base_uri": "https://localhost:8080/"
        },
        "id": "l_RNYBbyqRiC",
        "outputId": "bf84f68b-fc70-4130-d2ed-22f62c00a498"
      },
      "execution_count": null,
      "outputs": [
        {
          "output_type": "execute_result",
          "data": {
            "text/plain": [
              "Between RM 200 – 300    61\n",
              "More than RM 300        42\n",
              "Less than RM 200        12\n",
              "Name: travel_pay_willingness, dtype: int64"
            ]
          },
          "metadata": {},
          "execution_count": 24
        }
      ]
    },
    {
      "cell_type": "code",
      "source": [
        "# Issue: 'Less than RM 200' has not much observations\n",
        "# Solution no. 1 ->  Combine the level with the 'Between Rm 200 - 300'\n",
        "# Rename the new level as 'Less than RM 300'\n",
        "data['travel_pay_willingness'] = data['travel_pay_willingness'].replace({'Between RM 200 – 300': 'Less than RM 300'})\n",
        "data['travel_pay_willingness'] = data['travel_pay_willingness'].replace({'Less than RM 200': 'Less than RM 300'})\n",
        "data['travel_pay_willingness'].value_counts()"
      ],
      "metadata": {
        "colab": {
          "base_uri": "https://localhost:8080/"
        },
        "id": "rabE_p8EqgdA",
        "outputId": "8bf844e9-909a-49cf-8925-c14786a22491"
      },
      "execution_count": null,
      "outputs": [
        {
          "output_type": "execute_result",
          "data": {
            "text/plain": [
              "Less than RM 300    73\n",
              "More than RM 300    42\n",
              "Name: travel_pay_willingness, dtype: int64"
            ]
          },
          "metadata": {},
          "execution_count": 25
        }
      ]
    },
    {
      "cell_type": "markdown",
      "source": [
        "Variable - PREFERRED POI"
      ],
      "metadata": {
        "id": "78q5c9Wpqkss"
      }
    },
    {
      "cell_type": "code",
      "source": [
        "# pref_poi\n",
        "data['pref_poi'].value_counts()"
      ],
      "metadata": {
        "colab": {
          "base_uri": "https://localhost:8080/"
        },
        "id": "NiVJ4HIzqmwD",
        "outputId": "401a9568-2fbf-4aef-9caf-c5d335a66151"
      },
      "execution_count": null,
      "outputs": [
        {
          "output_type": "execute_result",
          "data": {
            "text/plain": [
              "Beaches and waterfall                                          46\n",
              "Adventure and Activity (Ex: Hiking, Mountain Climbing etc.)    39\n",
              "Cultural or Historical Site                                    24\n",
              "Shopping Malls                                                  6\n",
              "Name: pref_poi, dtype: int64"
            ]
          },
          "metadata": {},
          "execution_count": 26
        }
      ]
    },
    {
      "cell_type": "code",
      "source": [
        "# Imbalance in 'shopping malls' level - May cause issues in training the ML model\n",
        "# Combine 'shopping malls' and 'Cultural or historical site' to form a new categorical level\n",
        "data['pref_poi'] = data['pref_poi'].replace({'Cultural or Historical Site': 'Shopping Malls & Historical Site'})\n",
        "data['pref_poi'] = data['pref_poi'].replace({'Shopping Malls': 'Shopping Malls & Historical Site'})\n",
        "data['pref_poi'].value_counts()"
      ],
      "metadata": {
        "colab": {
          "base_uri": "https://localhost:8080/"
        },
        "id": "kjF9gPgYqqIf",
        "outputId": "720c7570-bd61-48cd-a527-ec8935aad823"
      },
      "execution_count": null,
      "outputs": [
        {
          "output_type": "execute_result",
          "data": {
            "text/plain": [
              "Beaches and waterfall                                          46\n",
              "Adventure and Activity (Ex: Hiking, Mountain Climbing etc.)    39\n",
              "Shopping Malls & Historical Site                               30\n",
              "Name: pref_poi, dtype: int64"
            ]
          },
          "metadata": {},
          "execution_count": 27
        }
      ]
    },
    {
      "cell_type": "markdown",
      "source": [
        "Variable - PREFERRED TRAVEL GROUP SIZE"
      ],
      "metadata": {
        "id": "-u0N-ZfqqrSJ"
      }
    },
    {
      "cell_type": "code",
      "source": [
        "# pref_group_size\n",
        "data['pref_group_size'].value_counts()"
      ],
      "metadata": {
        "colab": {
          "base_uri": "https://localhost:8080/"
        },
        "id": "kYxE5YqIqu56",
        "outputId": "03a592b3-bf7a-4cb6-b67a-04ca9544f4c4"
      },
      "execution_count": null,
      "outputs": [
        {
          "output_type": "execute_result",
          "data": {
            "text/plain": [
              "Family Travel (3 – 6 people)         82\n",
              "Small Group (6 – 10 people)          32\n",
              "Large Group (More than 10 people)     1\n",
              "Name: pref_group_size, dtype: int64"
            ]
          },
          "metadata": {},
          "execution_count": 28
        }
      ]
    },
    {
      "cell_type": "code",
      "source": [
        "# combine 'Large Group' with 'Small Group' as it only has 1 observation\n",
        "# rename the new categorical variable after combination\n",
        "data['pref_group_size'] = data['pref_group_size'].replace({'Large Group (More than 10 people)': 'Small & Large Group (6 people and above)'})\n",
        "data['pref_group_size'] = data['pref_group_size'].replace({'Small Group (6 – 10 people)': 'Small & Large Group (6 people and above)'})\n",
        "data['pref_group_size'].value_counts()"
      ],
      "metadata": {
        "colab": {
          "base_uri": "https://localhost:8080/"
        },
        "id": "jvMt01fDq5Nz",
        "outputId": "7762b84c-606d-4d71-8c6c-6a2a8d837c30"
      },
      "execution_count": null,
      "outputs": [
        {
          "output_type": "execute_result",
          "data": {
            "text/plain": [
              "Family Travel (3 – 6 people)                82\n",
              "Small & Large Group (6 people and above)    33\n",
              "Name: pref_group_size, dtype: int64"
            ]
          },
          "metadata": {},
          "execution_count": 29
        }
      ]
    },
    {
      "cell_type": "markdown",
      "source": [
        "Step 4: Model Building (Phase 1) - Clustering"
      ],
      "metadata": {
        "id": "3LkvuzozrK76"
      }
    },
    {
      "cell_type": "code",
      "source": [
        "# Import libraries \n",
        "# Clustering\n",
        "import pandas as pd\n",
        "import numpy as np\n",
        "# !pip install kmodes\n",
        "!pip install kmodes\n",
        "from kmodes.kmodes import KModes\n",
        "\n",
        "import matplotlib.pyplot as plt\n",
        "%matplotlib inline"
      ],
      "metadata": {
        "colab": {
          "base_uri": "https://localhost:8080/"
        },
        "id": "3xnhzubNrRE_",
        "outputId": "18ee0f5e-dccd-4b44-f99d-912cb350bb17"
      },
      "execution_count": null,
      "outputs": [
        {
          "output_type": "stream",
          "name": "stdout",
          "text": [
            "Looking in indexes: https://pypi.org/simple, https://us-python.pkg.dev/colab-wheels/public/simple/\n",
            "Collecting kmodes\n",
            "  Downloading kmodes-0.12.1-py2.py3-none-any.whl (20 kB)\n",
            "Requirement already satisfied: numpy>=1.10.4 in /usr/local/lib/python3.7/dist-packages (from kmodes) (1.21.6)\n",
            "Requirement already satisfied: joblib>=0.11 in /usr/local/lib/python3.7/dist-packages (from kmodes) (1.1.0)\n",
            "Requirement already satisfied: scipy>=0.13.3 in /usr/local/lib/python3.7/dist-packages (from kmodes) (1.4.1)\n",
            "Requirement already satisfied: scikit-learn>=0.22.0 in /usr/local/lib/python3.7/dist-packages (from kmodes) (1.0.2)\n",
            "Requirement already satisfied: threadpoolctl>=2.0.0 in /usr/local/lib/python3.7/dist-packages (from scikit-learn>=0.22.0->kmodes) (3.1.0)\n",
            "Installing collected packages: kmodes\n",
            "Successfully installed kmodes-0.12.1\n"
          ]
        }
      ]
    },
    {
      "cell_type": "code",
      "source": [
        "# KMODES CLUSTERING ALGORITHM\n",
        "# Elbow curve to find optimal K\n",
        "cost = []\n",
        "K = range(1,5)\n",
        "for no_of_clusters in list(K):\n",
        "    kmode = KModes(n_clusters=no_of_clusters, init = \"random\", n_init = 5, verbose=1)\n",
        "    kmode.fit_predict(data)\n",
        "    cost.append(kmode.cost_)\n",
        "    \n",
        "plt.plot(K, cost, 'bx-')\n",
        "plt.xlabel('Number of clusters') \n",
        "plt.ylabel('Cost')\n",
        "plt.title('Elbow Method For Optimal k')\n",
        "plt.show() # to show us how the algorithm came into this conclusion that \"3\" is the optimal k"
      ],
      "metadata": {
        "id": "SMRzPDICreD8",
        "colab": {
          "base_uri": "https://localhost:8080/",
          "height": 1000
        },
        "outputId": "f58d69f4-5b18-42ae-836f-581044d58c3f"
      },
      "execution_count": null,
      "outputs": [
        {
          "output_type": "stream",
          "name": "stdout",
          "text": [
            "Init: initializing centroids\n",
            "Init: initializing clusters\n",
            "Starting iterations...\n",
            "Run 1, iteration: 1/100, moves: 0, cost: 565.0\n",
            "Init: initializing centroids\n",
            "Init: initializing clusters\n",
            "Starting iterations...\n",
            "Run 2, iteration: 1/100, moves: 0, cost: 565.0\n",
            "Init: initializing centroids\n",
            "Init: initializing clusters\n",
            "Starting iterations...\n",
            "Run 3, iteration: 1/100, moves: 0, cost: 565.0\n",
            "Init: initializing centroids\n",
            "Init: initializing clusters\n",
            "Starting iterations...\n",
            "Run 4, iteration: 1/100, moves: 0, cost: 565.0\n",
            "Init: initializing centroids\n",
            "Init: initializing clusters\n",
            "Starting iterations...\n",
            "Run 5, iteration: 1/100, moves: 0, cost: 565.0\n",
            "Best run was number 1\n",
            "Init: initializing centroids\n",
            "Init: initializing clusters\n",
            "Starting iterations...\n",
            "Run 1, iteration: 1/100, moves: 21, cost: 484.0\n",
            "Init: initializing centroids\n",
            "Init: initializing clusters\n",
            "Starting iterations...\n",
            "Run 2, iteration: 1/100, moves: 18, cost: 491.0\n",
            "Init: initializing centroids\n",
            "Init: initializing clusters\n",
            "Starting iterations...\n",
            "Run 3, iteration: 1/100, moves: 12, cost: 491.0\n",
            "Init: initializing centroids\n",
            "Init: initializing clusters\n",
            "Starting iterations...\n",
            "Run 4, iteration: 1/100, moves: 36, cost: 492.0\n",
            "Run 4, iteration: 2/100, moves: 0, cost: 492.0\n",
            "Init: initializing centroids\n",
            "Init: initializing clusters\n",
            "Starting iterations...\n",
            "Run 5, iteration: 1/100, moves: 19, cost: 488.0\n",
            "Run 5, iteration: 2/100, moves: 7, cost: 488.0\n",
            "Best run was number 1\n",
            "Init: initializing centroids\n",
            "Init: initializing clusters\n",
            "Starting iterations...\n",
            "Run 1, iteration: 1/100, moves: 35, cost: 463.0\n",
            "Run 1, iteration: 2/100, moves: 7, cost: 463.0\n",
            "Init: initializing centroids\n",
            "Init: initializing clusters\n",
            "Starting iterations...\n",
            "Run 2, iteration: 1/100, moves: 34, cost: 444.0\n",
            "Run 2, iteration: 2/100, moves: 2, cost: 444.0\n",
            "Init: initializing centroids\n",
            "Init: initializing clusters\n",
            "Starting iterations...\n",
            "Run 3, iteration: 1/100, moves: 22, cost: 455.0\n",
            "Run 3, iteration: 2/100, moves: 14, cost: 448.0\n",
            "Run 3, iteration: 3/100, moves: 2, cost: 448.0\n",
            "Init: initializing centroids\n",
            "Init: initializing clusters\n",
            "Starting iterations...\n",
            "Run 4, iteration: 1/100, moves: 24, cost: 448.0\n",
            "Run 4, iteration: 2/100, moves: 14, cost: 448.0\n",
            "Init: initializing centroids\n",
            "Init: initializing clusters\n",
            "Starting iterations...\n",
            "Run 5, iteration: 1/100, moves: 20, cost: 449.0\n",
            "Run 5, iteration: 2/100, moves: 3, cost: 449.0\n",
            "Best run was number 2\n",
            "Init: initializing centroids\n",
            "Init: initializing clusters\n",
            "Starting iterations...\n",
            "Run 1, iteration: 1/100, moves: 20, cost: 452.0\n",
            "Run 1, iteration: 2/100, moves: 8, cost: 449.0\n",
            "Run 1, iteration: 3/100, moves: 0, cost: 449.0\n",
            "Init: initializing centroids\n",
            "Init: initializing clusters\n",
            "Starting iterations...\n",
            "Run 2, iteration: 1/100, moves: 24, cost: 427.0\n",
            "Run 2, iteration: 2/100, moves: 15, cost: 427.0\n",
            "Init: initializing centroids\n",
            "Init: initializing clusters\n",
            "Starting iterations...\n",
            "Run 3, iteration: 1/100, moves: 18, cost: 413.0\n",
            "Run 3, iteration: 2/100, moves: 11, cost: 419.0\n",
            "Init: initializing centroids\n",
            "Init: initializing clusters\n",
            "Starting iterations...\n",
            "Run 4, iteration: 1/100, moves: 43, cost: 437.0\n",
            "Run 4, iteration: 2/100, moves: 11, cost: 429.0\n",
            "Run 4, iteration: 3/100, moves: 1, cost: 429.0\n",
            "Init: initializing centroids\n",
            "Init: initializing clusters\n",
            "Starting iterations...\n",
            "Run 5, iteration: 1/100, moves: 41, cost: 425.0\n",
            "Run 5, iteration: 2/100, moves: 7, cost: 424.0\n",
            "Run 5, iteration: 3/100, moves: 0, cost: 424.0\n",
            "Best run was number 3\n"
          ]
        },
        {
          "output_type": "display_data",
          "data": {
            "text/plain": [
              "<Figure size 432x288 with 1 Axes>"
            ],
            "image/png": "[encoded data removed]"
          },
          "metadata": {
            "needs_background": "light"
          }
        }
      ]
    },
    {
      "cell_type": "code",
      "source": [
        "# Building the model with 3 clusters\n",
        "kmode = KModes(n_clusters=3, init = \"random\", n_init = 5, verbose=1)\n",
        "data_clusters = kmode.fit_predict(data)\n",
        "data_clusters"
      ],
      "metadata": {
        "id": "0K6XTPU7rqxC"
      },
      "execution_count": null,
      "outputs": []
    },
    {
      "cell_type": "code",
      "source": [
        "data.insert(0, \"Cluster\", data_clusters, True)\n",
        "data"
      ],
      "metadata": {
        "colab": {
          "base_uri": "https://localhost:8080/",
          "height": 1000
        },
        "id": "nqb_xNQ1r13C",
        "outputId": "1f678c1a-3590-4e7c-85c9-36d2566b32e9"
      },
      "execution_count": null,
      "outputs": [
        {
          "output_type": "execute_result",
          "data": {
            "text/plain": [
              "     Cluster  gender                 age    household_income  \\\n",
              "0          0  Female   18 - 25 years old  More than RM 4,851   \n",
              "1          1    Male   18 - 25 years old  More than RM 4,851   \n",
              "2          2  Female   18 - 25 years old  Less than RM 4,850   \n",
              "3          2    Male   18 - 25 years old  Less than RM 4,850   \n",
              "4          2  Female   18 - 25 years old  Less than RM 4,850   \n",
              "..       ...     ...                 ...                 ...   \n",
              "110        1    Male   18 - 25 years old  More than RM 4,851   \n",
              "111        0  Female   18 - 25 years old  More than RM 4,851   \n",
              "112        0  Female  26 years and above  Less than RM 4,850   \n",
              "113        2  Female   18 - 25 years old  Less than RM 4,850   \n",
              "114        0  Female   18 - 25 years old  Less than RM 4,850   \n",
              "\n",
              "                       education_level occupation  \\\n",
              "0                      Master's Degree    Student   \n",
              "1    Undergraduate / Bachelor's Degree   Employed   \n",
              "2    Undergraduate / Bachelor's Degree   Employed   \n",
              "3                      Master's Degree   Employed   \n",
              "4                      Master's Degree   Employed   \n",
              "..                                 ...        ...   \n",
              "110  Undergraduate / Bachelor's Degree   Employed   \n",
              "111  Undergraduate / Bachelor's Degree    Student   \n",
              "112  Undergraduate / Bachelor's Degree    Student   \n",
              "113  Undergraduate / Bachelor's Degree   Employed   \n",
              "114  Undergraduate / Bachelor's Degree    Student   \n",
              "\n",
              "                           travel_purpose pref_transport_mode  \\\n",
              "0    Family Trip / Entertainment / Others              Flight   \n",
              "1                       Holiday & Leisure              Flight   \n",
              "2                       Holiday & Leisure              Flight   \n",
              "3                       Holiday & Leisure          Non_Flight   \n",
              "4                       Holiday & Leisure              Flight   \n",
              "..                                    ...                 ...   \n",
              "110                     Holiday & Leisure              Flight   \n",
              "111                     Holiday & Leisure          Non_Flight   \n",
              "112  Family Trip / Entertainment / Others              Flight   \n",
              "113                     Holiday & Leisure              Flight   \n",
              "114  Family Trip / Entertainment / Others              Flight   \n",
              "\n",
              "     pref_length_stay travel_pay_willingness  \\\n",
              "0    Less than 3 days       Less than RM 300   \n",
              "1              3 Days       Less than RM 300   \n",
              "2              3 Days       More than RM 300   \n",
              "3    Less than 3 days       Less than RM 300   \n",
              "4              3 Days       More than RM 300   \n",
              "..                ...                    ...   \n",
              "110  4 days and above       Less than RM 300   \n",
              "111  4 days and above       Less than RM 300   \n",
              "112  4 days and above       More than RM 300   \n",
              "113  Less than 3 days       Less than RM 300   \n",
              "114  4 days and above       Less than RM 300   \n",
              "\n",
              "                                              pref_poi  \\\n",
              "0                     Shopping Malls & Historical Site   \n",
              "1                     Shopping Malls & Historical Site   \n",
              "2                                Beaches and waterfall   \n",
              "3                                Beaches and waterfall   \n",
              "4    Adventure and Activity (Ex: Hiking, Mountain C...   \n",
              "..                                                 ...   \n",
              "110                   Shopping Malls & Historical Site   \n",
              "111  Adventure and Activity (Ex: Hiking, Mountain C...   \n",
              "112  Adventure and Activity (Ex: Hiking, Mountain C...   \n",
              "113                              Beaches and waterfall   \n",
              "114  Adventure and Activity (Ex: Hiking, Mountain C...   \n",
              "\n",
              "                              pref_group_size  \\\n",
              "0                Family Travel (3 – 6 people)   \n",
              "1                Family Travel (3 – 6 people)   \n",
              "2    Small & Large Group (6 people and above)   \n",
              "3                Family Travel (3 – 6 people)   \n",
              "4                Family Travel (3 – 6 people)   \n",
              "..                                        ...   \n",
              "110  Small & Large Group (6 people and above)   \n",
              "111              Family Travel (3 – 6 people)   \n",
              "112  Small & Large Group (6 people and above)   \n",
              "113              Family Travel (3 – 6 people)   \n",
              "114              Family Travel (3 – 6 people)   \n",
              "\n",
              "                               pref_travel_destination  \n",
              "0                    East Malaysia (Sabah and Sarawak)  \n",
              "1    Southern Region (Malacca, Johor and Negeri Sem...  \n",
              "2    East Coast Region (Kelantan, Terengganu and Pa...  \n",
              "3    East Coast Region (Kelantan, Terengganu and Pa...  \n",
              "4    East Coast Region (Kelantan, Terengganu and Pa...  \n",
              "..                                                 ...  \n",
              "110  Northern Region (Perlis, Kedah, Penang and Perak)  \n",
              "111  Southern Region (Malacca, Johor and Negeri Sem...  \n",
              "112         Central Region (Kuala Lumpur and Selangor)  \n",
              "113                  East Malaysia (Sabah and Sarawak)  \n",
              "114                  East Malaysia (Sabah and Sarawak)  \n",
              "\n",
              "[115 rows x 13 columns]"
            ],
            "text/html": [
              "\n",
              "  <div id=\"df-f059f3f3-c997-4082-9c37-12507b8d1f5e\">\n",
              "    <div class=\"colab-df-container\">\n",
              "      <div>\n",
              "<style scoped>\n",
              "    .dataframe tbody tr th:only-of-type {\n",
              "        vertical-align: middle;\n",
              "    }\n",
              "\n",
              "    .dataframe tbody tr th {\n",
              "        vertical-align: top;\n",
              "    }\n",
              "\n",
              "    .dataframe thead th {\n",
              "        text-align: right;\n",
              "    }\n",
              "</style>\n",
              "<table border=\"1\" class=\"dataframe\">\n",
              "  <thead>\n",
              "    <tr style=\"text-align: right;\">\n",
              "      <th></th>\n",
              "      <th>Cluster</th>\n",
              "      <th>gender</th>\n",
              "      <th>age</th>\n",
              "      <th>household_income</th>\n",
              "      <th>education_level</th>\n",
              "      <th>occupation</th>\n",
              "      <th>travel_purpose</th>\n",
              "      <th>pref_transport_mode</th>\n",
              "      <th>pref_length_stay</th>\n",
              "      <th>travel_pay_willingness</th>\n",
              "      <th>pref_poi</th>\n",
              "      <th>pref_group_size</th>\n",
              "      <th>pref_travel_destination</th>\n",
              "    </tr>\n",
              "  </thead>\n",
              "  <tbody>\n",
              "    <tr>\n",
              "      <th>0</th>\n",
              "      <td>0</td>\n",
              "      <td>Female</td>\n",
              "      <td>18 - 25 years old</td>\n",
              "      <td>More than RM 4,851</td>\n",
              "      <td>Master's Degree</td>\n",
              "      <td>Student</td>\n",
              "      <td>Family Trip / Entertainment / Others</td>\n",
              "      <td>Flight</td>\n",
              "      <td>Less than 3 days</td>\n",
              "      <td>Less than RM 300</td>\n",
              "      <td>Shopping Malls &amp; Historical Site</td>\n",
              "      <td>Family Travel (3 – 6 people)</td>\n",
              "      <td>East Malaysia (Sabah and Sarawak)</td>\n",
              "    </tr>\n",
              "    <tr>\n",
              "      <th>1</th>\n",
              "      <td>1</td>\n",
              "      <td>Male</td>\n",
              "      <td>18 - 25 years old</td>\n",
              "      <td>More than RM 4,851</td>\n",
              "      <td>Undergraduate / Bachelor's Degree</td>\n",
              "      <td>Employed</td>\n",
              "      <td>Holiday &amp; Leisure</td>\n",
              "      <td>Flight</td>\n",
              "      <td>3 Days</td>\n",
              "      <td>Less than RM 300</td>\n",
              "      <td>Shopping Malls &amp; Historical Site</td>\n",
              "      <td>Family Travel (3 – 6 people)</td>\n",
              "      <td>Southern Region (Malacca, Johor and Negeri Sem...</td>\n",
              "    </tr>\n",
              "    <tr>\n",
              "      <th>2</th>\n",
              "      <td>2</td>\n",
              "      <td>Female</td>\n",
              "      <td>18 - 25 years old</td>\n",
              "      <td>Less than RM 4,850</td>\n",
              "      <td>Undergraduate / Bachelor's Degree</td>\n",
              "      <td>Employed</td>\n",
              "      <td>Holiday &amp; Leisure</td>\n",
              "      <td>Flight</td>\n",
              "      <td>3 Days</td>\n",
              "      <td>More than RM 300</td>\n",
              "      <td>Beaches and waterfall</td>\n",
              "      <td>Small &amp; Large Group (6 people and above)</td>\n",
              "      <td>East Coast Region (Kelantan, Terengganu and Pa...</td>\n",
              "    </tr>\n",
              "    <tr>\n",
              "      <th>3</th>\n",
              "      <td>2</td>\n",
              "      <td>Male</td>\n",
              "      <td>18 - 25 years old</td>\n",
              "      <td>Less than RM 4,850</td>\n",
              "      <td>Master's Degree</td>\n",
              "      <td>Employed</td>\n",
              "      <td>Holiday &amp; Leisure</td>\n",
              "      <td>Non_Flight</td>\n",
              "      <td>Less than 3 days</td>\n",
              "      <td>Less than RM 300</td>\n",
              "      <td>Beaches and waterfall</td>\n",
              "      <td>Family Travel (3 – 6 people)</td>\n",
              "      <td>East Coast Region (Kelantan, Terengganu and Pa...</td>\n",
              "    </tr>\n",
              "    <tr>\n",
              "      <th>4</th>\n",
              "      <td>2</td>\n",
              "      <td>Female</td>\n",
              "      <td>18 - 25 years old</td>\n",
              "      <td>Less than RM 4,850</td>\n",
              "      <td>Master's Degree</td>\n",
              "      <td>Employed</td>\n",
              "      <td>Holiday &amp; Leisure</td>\n",
              "      <td>Flight</td>\n",
              "      <td>3 Days</td>\n",
              "      <td>More than RM 300</td>\n",
              "      <td>Adventure and Activity (Ex: Hiking, Mountain C...</td>\n",
              "      <td>Family Travel (3 – 6 people)</td>\n",
              "      <td>East Coast Region (Kelantan, Terengganu and Pa...</td>\n",
              "    </tr>\n",
              "    <tr>\n",
              "      <th>...</th>\n",
              "      <td>...</td>\n",
              "      <td>...</td>\n",
              "      <td>...</td>\n",
              "      <td>...</td>\n",
              "      <td>...</td>\n",
              "      <td>...</td>\n",
              "      <td>...</td>\n",
              "      <td>...</td>\n",
              "      <td>...</td>\n",
              "      <td>...</td>\n",
              "      <td>...</td>\n",
              "      <td>...</td>\n",
              "      <td>...</td>\n",
              "    </tr>\n",
              "    <tr>\n",
              "      <th>110</th>\n",
              "      <td>1</td>\n",
              "      <td>Male</td>\n",
              "      <td>18 - 25 years old</td>\n",
              "      <td>More than RM 4,851</td>\n",
              "      <td>Undergraduate / Bachelor's Degree</td>\n",
              "      <td>Employed</td>\n",
              "      <td>Holiday &amp; Leisure</td>\n",
              "      <td>Flight</td>\n",
              "      <td>4 days and above</td>\n",
              "      <td>Less than RM 300</td>\n",
              "      <td>Shopping Malls &amp; Historical Site</td>\n",
              "      <td>Small &amp; Large Group (6 people and above)</td>\n",
              "      <td>Northern Region (Perlis, Kedah, Penang and Perak)</td>\n",
              "    </tr>\n",
              "    <tr>\n",
              "      <th>111</th>\n",
              "      <td>0</td>\n",
              "      <td>Female</td>\n",
              "      <td>18 - 25 years old</td>\n",
              "      <td>More than RM 4,851</td>\n",
              "      <td>Undergraduate / Bachelor's Degree</td>\n",
              "      <td>Student</td>\n",
              "      <td>Holiday &amp; Leisure</td>\n",
              "      <td>Non_Flight</td>\n",
              "      <td>4 days and above</td>\n",
              "      <td>Less than RM 300</td>\n",
              "      <td>Adventure and Activity (Ex: Hiking, Mountain C...</td>\n",
              "      <td>Family Travel (3 – 6 people)</td>\n",
              "      <td>Southern Region (Malacca, Johor and Negeri Sem...</td>\n",
              "    </tr>\n",
              "    <tr>\n",
              "      <th>112</th>\n",
              "      <td>0</td>\n",
              "      <td>Female</td>\n",
              "      <td>26 years and above</td>\n",
              "      <td>Less than RM 4,850</td>\n",
              "      <td>Undergraduate / Bachelor's Degree</td>\n",
              "      <td>Student</td>\n",
              "      <td>Family Trip / Entertainment / Others</td>\n",
              "      <td>Flight</td>\n",
              "      <td>4 days and above</td>\n",
              "      <td>More than RM 300</td>\n",
              "      <td>Adventure and Activity (Ex: Hiking, Mountain C...</td>\n",
              "      <td>Small &amp; Large Group (6 people and above)</td>\n",
              "      <td>Central Region (Kuala Lumpur and Selangor)</td>\n",
              "    </tr>\n",
              "    <tr>\n",
              "      <th>113</th>\n",
              "      <td>2</td>\n",
              "      <td>Female</td>\n",
              "      <td>18 - 25 years old</td>\n",
              "      <td>Less than RM 4,850</td>\n",
              "      <td>Undergraduate / Bachelor's Degree</td>\n",
              "      <td>Employed</td>\n",
              "      <td>Holiday &amp; Leisure</td>\n",
              "      <td>Flight</td>\n",
              "      <td>Less than 3 days</td>\n",
              "      <td>Less than RM 300</td>\n",
              "      <td>Beaches and waterfall</td>\n",
              "      <td>Family Travel (3 – 6 people)</td>\n",
              "      <td>East Malaysia (Sabah and Sarawak)</td>\n",
              "    </tr>\n",
              "    <tr>\n",
              "      <th>114</th>\n",
              "      <td>0</td>\n",
              "      <td>Female</td>\n",
              "      <td>18 - 25 years old</td>\n",
              "      <td>Less than RM 4,850</td>\n",
              "      <td>Undergraduate / Bachelor's Degree</td>\n",
              "      <td>Student</td>\n",
              "      <td>Family Trip / Entertainment / Others</td>\n",
              "      <td>Flight</td>\n",
              "      <td>4 days and above</td>\n",
              "      <td>Less than RM 300</td>\n",
              "      <td>Adventure and Activity (Ex: Hiking, Mountain C...</td>\n",
              "      <td>Family Travel (3 – 6 people)</td>\n",
              "      <td>East Malaysia (Sabah and Sarawak)</td>\n",
              "    </tr>\n",
              "  </tbody>\n",
              "</table>\n",
              "<p>115 rows × 13 columns</p>\n",
              "</div>\n",
              "      <button class=\"colab-df-convert\" onclick=\"convertToInteractive('df-f059f3f3-c997-4082-9c37-12507b8d1f5e')\"\n",
              "              title=\"Convert this dataframe to an interactive table.\"\n",
              "              style=\"display:none;\">\n",
              "        \n",
              "  <svg xmlns=\"http://www.w3.org/2000/svg\" height=\"24px\"viewBox=\"0 0 24 24\"\n",
              "       width=\"24px\">\n",
              "    <path d=\"M0 0h24v24H0V0z\" fill=\"none\"/>\n",
              "    <path d=\"M18.56 5.44l.94 2.06.94-2.06 2.06-.94-2.06-.94-.94-2.06-.94 2.06-2.06.94zm-11 1L8.5 8.5l.94-2.06 2.06-.94-2.06-.94L8.5 2.5l-.94 2.06-2.06.94zm10 10l.94 2.06.94-2.06 2.06-.94-2.06-.94-.94-2.06-.94 2.06-2.06.94z\"/><path d=\"M17.41 7.96l-1.37-1.37c-.4-.4-.92-.59-1.43-.59-.52 0-1.04.2-1.43.59L10.3 9.45l-7.72 7.72c-.78.78-.78 2.05 0 2.83L4 21.41c.39.39.9.59 1.41.59.51 0 1.02-.2 1.41-.59l7.78-7.78 2.81-2.81c.8-.78.8-2.07 0-2.86zM5.41 20L4 18.59l7.72-7.72 1.47 1.35L5.41 20z\"/>\n",
              "  </svg>\n",
              "      </button>\n",
              "      \n",
              "  <style>\n",
              "    .colab-df-container {\n",
              "      display:flex;\n",
              "      flex-wrap:wrap;\n",
              "      gap: 12px;\n",
              "    }\n",
              "\n",
              "    .colab-df-convert {\n",
              "      background-color: #E8F0FE;\n",
              "      border: none;\n",
              "      border-radius: 50%;\n",
              "      cursor: pointer;\n",
              "      display: none;\n",
              "      fill: #1967D2;\n",
              "      height: 32px;\n",
              "      padding: 0 0 0 0;\n",
              "      width: 32px;\n",
              "    }\n",
              "\n",
              "    .colab-df-convert:hover {\n",
              "      background-color: #E2EBFA;\n",
              "      box-shadow: 0px 1px 2px rgba(60, 64, 67, 0.3), 0px 1px 3px 1px rgba(60, 64, 67, 0.15);\n",
              "      fill: #174EA6;\n",
              "    }\n",
              "\n",
              "    [theme=dark] .colab-df-convert {\n",
              "      background-color: #3B4455;\n",
              "      fill: #D2E3FC;\n",
              "    }\n",
              "\n",
              "    [theme=dark] .colab-df-convert:hover {\n",
              "      background-color: #434B5C;\n",
              "      box-shadow: 0px 1px 3px 1px rgba(0, 0, 0, 0.15);\n",
              "      filter: drop-shadow(0px 1px 2px rgba(0, 0, 0, 0.3));\n",
              "      fill: #FFFFFF;\n",
              "    }\n",
              "  </style>\n",
              "\n",
              "      <script>\n",
              "        const buttonEl =\n",
              "          document.querySelector('#df-f059f3f3-c997-4082-9c37-12507b8d1f5e button.colab-df-convert');\n",
              "        buttonEl.style.display =\n",
              "          google.colab.kernel.accessAllowed ? 'block' : 'none';\n",
              "\n",
              "        async function convertToInteractive(key) {\n",
              "          const element = document.querySelector('#df-f059f3f3-c997-4082-9c37-12507b8d1f5e');\n",
              "          const dataTable =\n",
              "            await google.colab.kernel.invokeFunction('convertToInteractive',\n",
              "                                                     [key], {});\n",
              "          if (!dataTable) return;\n",
              "\n",
              "          const docLinkHtml = 'Like what you see? Visit the ' +\n",
              "            '<a target=\"_blank\" href=https://colab.research.google.com/notebooks/data_table.ipynb>data table notebook</a>'\n",
              "            + ' to learn more about interactive tables.';\n",
              "          element.innerHTML = '';\n",
              "          dataTable['output_type'] = 'display_data';\n",
              "          await google.colab.output.renderOutput(dataTable, element);\n",
              "          const docLink = document.createElement('div');\n",
              "          docLink.innerHTML = docLinkHtml;\n",
              "          element.appendChild(docLink);\n",
              "        }\n",
              "      </script>\n",
              "    </div>\n",
              "  </div>\n",
              "  "
            ]
          },
          "metadata": {},
          "execution_count": 38
        }
      ]
    },
    {
      "cell_type": "code",
      "source": [
        "import seaborn as sns\n",
        "all_features = ['gender', 'age', 'household_income',\n",
        "       'education_level', 'occupation', 'travel_purpose',\n",
        "       'pref_transport_mode', 'pref_length_stay', 'travel_pay_willingness',\n",
        "       'pref_poi', 'pref_group_size', 'pref_travel_destination']\n",
        "for col in all_features:\n",
        "    plt.subplots(figsize = (15,5))\n",
        "    sns.countplot(x='Cluster',hue=col, data = data)\n",
        "    plt.show()"
      ],
      "metadata": {
        "colab": {
          "base_uri": "https://localhost:8080/",
          "height": 1000
        },
        "id": "0wb_yiqqr9ob",
        "outputId": "dcc6793b-9b95-4b32-bdc0-3c693c859b55"
      },
      "execution_count": null,
      "outputs": [
        {
          "output_type": "display_data",
          "data": {
            "text/plain": [
              "<Figure size 1080x360 with 1 Axes>"
            ],
            "image/png": "[encoded data removed]"
          },
          "metadata": {
            "needs_background": "light"
          }
        },
        {
          "output_type": "display_data",
          "data": {
            "text/plain": [
              "<Figure size 1080x360 with 1 Axes>"
            ],
            "image/png": "[encoded data removed]"
          },
          "metadata": {
            "needs_background": "light"
          }
        },
        {
          "output_type": "display_data",
          "data": {
            "text/plain": [
              "<Figure size 1080x360 with 1 Axes>"
            ],
            "image/png": "[encoded data removed]"
          },
          "metadata": {
            "needs_background": "light"
          }
        },
        {
          "output_type": "display_data",
          "data": {
            "text/plain": [
              "<Figure size 1080x360 with 1 Axes>"
            ],
            "image/png": "[encoded data removed]"
          },
          "metadata": {
            "needs_background": "light"
          }
        },
        {
          "output_type": "display_data",
          "data": {
            "text/plain": [
              "<Figure size 1080x360 with 1 Axes>"
            ],
            "image/png": "[encoded data removed]"
          },
          "metadata": {
            "needs_background": "light"
          }
        },
        {
          "output_type": "display_data",
          "data": {
            "text/plain": [
              "<Figure size 1080x360 with 1 Axes>"
            ],
            "image/png": "[encoded data removed]"
          },
          "metadata": {
            "needs_background": "light"
          }
        },
        {
          "output_type": "display_data",
          "data": {
            "text/plain": [
              "<Figure size 1080x360 with 1 Axes>"
            ],
            "image/png": "[encoded data removed]"
          },
          "metadata": {
            "needs_background": "light"
          }
        },
        {
          "output_type": "display_data",
          "data": {
            "text/plain": [
              "<Figure size 1080x360 with 1 Axes>"
            ],
            "image/png": "[encoded data removed]"
          },
          "metadata": {
            "needs_background": "light"
          }
        },
        {
          "output_type": "display_data",
          "data": {
            "text/plain": [
              "<Figure size 1080x360 with 1 Axes>"
            ],
            "image/png": "[encoded data removed]"
          },
          "metadata": {
            "needs_background": "light"
          }
        },
        {
          "output_type": "display_data",
          "data": {
            "text/plain": [
              "<Figure size 1080x360 with 1 Axes>"
            ],
            "image/png": "[encoded data removed]"
          },
          "metadata": {
            "needs_background": "light"
          }
        },
        {
          "output_type": "display_data",
          "data": {
            "text/plain": [
              "<Figure size 1080x360 with 1 Axes>"
            ],
            "image/png": "[encoded data removed]"
          },
          "metadata": {
            "needs_background": "light"
          }
        },
        {
          "output_type": "display_data",
          "data": {
            "text/plain": [
              "<Figure size 1080x360 with 1 Axes>"
            ],
            "image/png": "[encoded data removed]"
          },
          "metadata": {
            "needs_background": "light"
          }
        }
      ]
    },
    {
      "cell_type": "code",
      "source": [
        "# the variable 'cluster' type is classified as 'numeric' - hence, changes needed to change\n",
        "# creating a dictionary \n",
        "# with column name and data type\n",
        "data_types_dict = {'Cluster': str}\n",
        "  \n",
        "# we will change the data type \n",
        "# of id column to str by giving\n",
        "# the dict to the astype method\n",
        "data = data.astype(data_types_dict)\n",
        "  \n",
        "# checking the data types\n",
        "# using df.dtypes method\n",
        "data.dtypes"
      ],
      "metadata": {
        "colab": {
          "base_uri": "https://localhost:8080/"
        },
        "id": "dLUqey_uuLBa",
        "outputId": "15f42432-5abc-4cd2-b1e0-6a973884c03a"
      },
      "execution_count": null,
      "outputs": [
        {
          "output_type": "execute_result",
          "data": {
            "text/plain": [
              "Cluster                    object\n",
              "gender                     object\n",
              "age                        object\n",
              "household_income           object\n",
              "education_level            object\n",
              "occupation                 object\n",
              "travel_purpose             object\n",
              "pref_transport_mode        object\n",
              "pref_length_stay           object\n",
              "travel_pay_willingness     object\n",
              "pref_poi                   object\n",
              "pref_group_size            object\n",
              "pref_travel_destination    object\n",
              "dtype: object"
            ]
          },
          "metadata": {},
          "execution_count": 50
        }
      ]
    },
    {
      "cell_type": "code",
      "source": [
        "# Export the dataset to csv - backup copy\n",
        "import pandas as pd\n",
        "import openpyxl as xls\n",
        "\n",
        "data.to_csv(\"data_tour_cluster.csv\")"
      ],
      "metadata": {
        "id": "ObFkXRtCtaV-"
      },
      "execution_count": null,
      "outputs": []
    },
    {
      "cell_type": "markdown",
      "source": [
        "Step 5: Data Pre-Processing (Phase 2)"
      ],
      "metadata": {
        "id": "Gvx6Dz_p0c9w"
      }
    },
    {
      "cell_type": "code",
      "source": [
        "path = '/drive/MyDrive/Colab Notebooks/data_tour_cluster.csv' # load new dataset (with \"cluster\" as the target variable)\n",
        "data = pd.read_csv(path)"
      ],
      "metadata": {
        "id": "-liPdkIrhFFL"
      },
      "execution_count": null,
      "outputs": []
    },
    {
      "cell_type": "code",
      "source": [
        "# Check the variable information (Data type etc.)\n",
        "data.info()"
      ],
      "metadata": {
        "colab": {
          "base_uri": "https://localhost:8080/"
        },
        "id": "nj7hN0V3j2Oc",
        "outputId": "f75e2870-d0a4-47e0-b209-a3eacffaa684"
      },
      "execution_count": null,
      "outputs": [
        {
          "output_type": "stream",
          "name": "stdout",
          "text": [
            "<class 'pandas.core.frame.DataFrame'>\n",
            "RangeIndex: 115 entries, 0 to 114\n",
            "Data columns (total 14 columns):\n",
            " #   Column                   Non-Null Count  Dtype \n",
            "---  ------                   --------------  ----- \n",
            " 0   Unnamed: 0               115 non-null    int64 \n",
            " 1   Cluster                  115 non-null    int64 \n",
            " 2   gender                   115 non-null    object\n",
            " 3   age                      115 non-null    object\n",
            " 4   household_income         115 non-null    object\n",
            " 5   education_level          115 non-null    object\n",
            " 6   occupation               115 non-null    object\n",
            " 7   travel_purpose           115 non-null    object\n",
            " 8   pref_transport_mode      115 non-null    object\n",
            " 9   pref_length_stay         115 non-null    object\n",
            " 10  travel_pay_willingness   115 non-null    object\n",
            " 11  pref_poi                 115 non-null    object\n",
            " 12  pref_group_size          115 non-null    object\n",
            " 13  pref_travel_destination  115 non-null    object\n",
            "dtypes: int64(2), object(12)\n",
            "memory usage: 12.7+ KB\n"
          ]
        }
      ]
    },
    {
      "cell_type": "code",
      "source": [
        "# the variable 'cluster' type is classified as 'numeric' - hence, changes needed to change\n",
        "# creating a dictionary \n",
        "# with column name and data type\n",
        "data_types_dict = {'Cluster': str}\n",
        "  \n",
        "# we will change the data type \n",
        "# of id column to str by giving\n",
        "# the dict to the astype method\n",
        "data = data.astype(data_types_dict)\n",
        "  \n",
        "# checking the data types\n",
        "# using df.dtypes method\n",
        "data.dtypes"
      ],
      "metadata": {
        "colab": {
          "base_uri": "https://localhost:8080/"
        },
        "id": "nMpp_eLMj-ma",
        "outputId": "fad93a12-c6c1-44cc-b3c3-e75b2865d865"
      },
      "execution_count": null,
      "outputs": [
        {
          "output_type": "execute_result",
          "data": {
            "text/plain": [
              "Unnamed: 0                  int64\n",
              "Cluster                    object\n",
              "gender                     object\n",
              "age                        object\n",
              "household_income           object\n",
              "education_level            object\n",
              "occupation                 object\n",
              "travel_purpose             object\n",
              "pref_transport_mode        object\n",
              "pref_length_stay           object\n",
              "travel_pay_willingness     object\n",
              "pref_poi                   object\n",
              "pref_group_size            object\n",
              "pref_travel_destination    object\n",
              "dtype: object"
            ]
          },
          "metadata": {},
          "execution_count": 10
        }
      ]
    },
    {
      "cell_type": "code",
      "source": [
        "# Remove irrelavant columns \n",
        "# First 2 variables will not be useful for further analysis\n",
        "\n",
        "data = data.drop(['Unnamed: 0'], axis=1)\n",
        "data.dtypes"
      ],
      "metadata": {
        "colab": {
          "base_uri": "https://localhost:8080/"
        },
        "id": "OeZuauPLkBCe",
        "outputId": "29b637cf-6712-438c-f760-a3afa6d2ce76"
      },
      "execution_count": null,
      "outputs": [
        {
          "output_type": "execute_result",
          "data": {
            "text/plain": [
              "Cluster                    object\n",
              "gender                     object\n",
              "age                        object\n",
              "household_income           object\n",
              "education_level            object\n",
              "occupation                 object\n",
              "travel_purpose             object\n",
              "pref_transport_mode        object\n",
              "pref_length_stay           object\n",
              "travel_pay_willingness     object\n",
              "pref_poi                   object\n",
              "pref_group_size            object\n",
              "pref_travel_destination    object\n",
              "dtype: object"
            ]
          },
          "metadata": {},
          "execution_count": 11
        }
      ]
    },
    {
      "cell_type": "markdown",
      "source": [
        "Label Encoding"
      ],
      "metadata": {
        "id": "xyQvqu0_KDNK"
      }
    },
    {
      "cell_type": "code",
      "source": [
        "# Label Encoding\n",
        "from sklearn.preprocessing import LabelEncoder\n",
        "# Label encode categorical variables\n",
        "# gender # age # household income # education level # occupation\n",
        "\n",
        "data_encoded = data.copy() # To serve as backup incase there is Pandas error\n",
        "data_encoded[['gender', 'age', 'household_income','education_level', 'occupation', 'pref_transport_mode', 'travel_pay_willingness', 'pref_group_size', 'travel_purpose']] = data_encoded[['gender', 'age', 'household_income','education_level', 'occupation', 'pref_transport_mode', 'travel_pay_willingness', 'pref_group_size','travel_purpose']].apply(LabelEncoder().fit_transform)\n"
      ],
      "metadata": {
        "id": "awBuaVKXkJTN"
      },
      "execution_count": null,
      "outputs": []
    },
    {
      "cell_type": "code",
      "source": [
        "# Simple view on the dataset \n",
        "data_encoded.head()"
      ],
      "metadata": {
        "id": "KqMutCyOoAUh",
        "colab": {
          "base_uri": "https://localhost:8080/",
          "height": 548
        },
        "outputId": "6e34934b-fd42-4f0f-b492-5ffdbfe1d47d"
      },
      "execution_count": null,
      "outputs": [
        {
          "output_type": "execute_result",
          "data": {
            "text/plain": [
              "  Cluster  gender  age  household_income  education_level  occupation  \\\n",
              "0       0       0    0                 1                1           1   \n",
              "1       1       1    0                 1                2           0   \n",
              "2       2       0    0                 0                2           0   \n",
              "3       2       1    0                 0                1           0   \n",
              "4       2       0    0                 0                1           0   \n",
              "\n",
              "   travel_purpose  pref_transport_mode  pref_length_stay  \\\n",
              "0               0                    0  Less than 3 days   \n",
              "1               1                    0            3 Days   \n",
              "2               1                    0            3 Days   \n",
              "3               1                    1  Less than 3 days   \n",
              "4               1                    0            3 Days   \n",
              "\n",
              "   travel_pay_willingness                                           pref_poi  \\\n",
              "0                       0                   Shopping Malls & Historical Site   \n",
              "1                       0                   Shopping Malls & Historical Site   \n",
              "2                       1                              Beaches and waterfall   \n",
              "3                       0                              Beaches and waterfall   \n",
              "4                       1  Adventure and Activity (Ex: Hiking, Mountain C...   \n",
              "\n",
              "   pref_group_size                            pref_travel_destination  \n",
              "0                0                  East Malaysia (Sabah and Sarawak)  \n",
              "1                0  Southern Region (Malacca, Johor and Negeri Sem...  \n",
              "2                1  East Coast Region (Kelantan, Terengganu and Pa...  \n",
              "3                0  East Coast Region (Kelantan, Terengganu and Pa...  \n",
              "4                0  East Coast Region (Kelantan, Terengganu and Pa...  "
            ],
            "text/html": [
              "\n",
              "  <div id=\"df-bcac845a-aa26-4323-beb0-a5eae6668909\">\n",
              "    <div class=\"colab-df-container\">\n",
              "      <div>\n",
              "<style scoped>\n",
              "    .dataframe tbody tr th:only-of-type {\n",
              "        vertical-align: middle;\n",
              "    }\n",
              "\n",
              "    .dataframe tbody tr th {\n",
              "        vertical-align: top;\n",
              "    }\n",
              "\n",
              "    .dataframe thead th {\n",
              "        text-align: right;\n",
              "    }\n",
              "</style>\n",
              "<table border=\"1\" class=\"dataframe\">\n",
              "  <thead>\n",
              "    <tr style=\"text-align: right;\">\n",
              "      <th></th>\n",
              "      <th>Cluster</th>\n",
              "      <th>gender</th>\n",
              "      <th>age</th>\n",
              "      <th>household_income</th>\n",
              "      <th>education_level</th>\n",
              "      <th>occupation</th>\n",
              "      <th>travel_purpose</th>\n",
              "      <th>pref_transport_mode</th>\n",
              "      <th>pref_length_stay</th>\n",
              "      <th>travel_pay_willingness</th>\n",
              "      <th>pref_poi</th>\n",
              "      <th>pref_group_size</th>\n",
              "      <th>pref_travel_destination</th>\n",
              "    </tr>\n",
              "  </thead>\n",
              "  <tbody>\n",
              "    <tr>\n",
              "      <th>0</th>\n",
              "      <td>0</td>\n",
              "      <td>0</td>\n",
              "      <td>0</td>\n",
              "      <td>1</td>\n",
              "      <td>1</td>\n",
              "      <td>1</td>\n",
              "      <td>0</td>\n",
              "      <td>0</td>\n",
              "      <td>Less than 3 days</td>\n",
              "      <td>0</td>\n",
              "      <td>Shopping Malls &amp; Historical Site</td>\n",
              "      <td>0</td>\n",
              "      <td>East Malaysia (Sabah and Sarawak)</td>\n",
              "    </tr>\n",
              "    <tr>\n",
              "      <th>1</th>\n",
              "      <td>1</td>\n",
              "      <td>1</td>\n",
              "      <td>0</td>\n",
              "      <td>1</td>\n",
              "      <td>2</td>\n",
              "      <td>0</td>\n",
              "      <td>1</td>\n",
              "      <td>0</td>\n",
              "      <td>3 Days</td>\n",
              "      <td>0</td>\n",
              "      <td>Shopping Malls &amp; Historical Site</td>\n",
              "      <td>0</td>\n",
              "      <td>Southern Region (Malacca, Johor and Negeri Sem...</td>\n",
              "    </tr>\n",
              "    <tr>\n",
              "      <th>2</th>\n",
              "      <td>2</td>\n",
              "      <td>0</td>\n",
              "      <td>0</td>\n",
              "      <td>0</td>\n",
              "      <td>2</td>\n",
              "      <td>0</td>\n",
              "      <td>1</td>\n",
              "      <td>0</td>\n",
              "      <td>3 Days</td>\n",
              "      <td>1</td>\n",
              "      <td>Beaches and waterfall</td>\n",
              "      <td>1</td>\n",
              "      <td>East Coast Region (Kelantan, Terengganu and Pa...</td>\n",
              "    </tr>\n",
              "    <tr>\n",
              "      <th>3</th>\n",
              "      <td>2</td>\n",
              "      <td>1</td>\n",
              "      <td>0</td>\n",
              "      <td>0</td>\n",
              "      <td>1</td>\n",
              "      <td>0</td>\n",
              "      <td>1</td>\n",
              "      <td>1</td>\n",
              "      <td>Less than 3 days</td>\n",
              "      <td>0</td>\n",
              "      <td>Beaches and waterfall</td>\n",
              "      <td>0</td>\n",
              "      <td>East Coast Region (Kelantan, Terengganu and Pa...</td>\n",
              "    </tr>\n",
              "    <tr>\n",
              "      <th>4</th>\n",
              "      <td>2</td>\n",
              "      <td>0</td>\n",
              "      <td>0</td>\n",
              "      <td>0</td>\n",
              "      <td>1</td>\n",
              "      <td>0</td>\n",
              "      <td>1</td>\n",
              "      <td>0</td>\n",
              "      <td>3 Days</td>\n",
              "      <td>1</td>\n",
              "      <td>Adventure and Activity (Ex: Hiking, Mountain C...</td>\n",
              "      <td>0</td>\n",
              "      <td>East Coast Region (Kelantan, Terengganu and Pa...</td>\n",
              "    </tr>\n",
              "  </tbody>\n",
              "</table>\n",
              "</div>\n",
              "      <button class=\"colab-df-convert\" onclick=\"convertToInteractive('df-bcac845a-aa26-4323-beb0-a5eae6668909')\"\n",
              "              title=\"Convert this dataframe to an interactive table.\"\n",
              "              style=\"display:none;\">\n",
              "        \n",
              "  <svg xmlns=\"http://www.w3.org/2000/svg\" height=\"24px\"viewBox=\"0 0 24 24\"\n",
              "       width=\"24px\">\n",
              "    <path d=\"M0 0h24v24H0V0z\" fill=\"none\"/>\n",
              "    <path d=\"M18.56 5.44l.94 2.06.94-2.06 2.06-.94-2.06-.94-.94-2.06-.94 2.06-2.06.94zm-11 1L8.5 8.5l.94-2.06 2.06-.94-2.06-.94L8.5 2.5l-.94 2.06-2.06.94zm10 10l.94 2.06.94-2.06 2.06-.94-2.06-.94-.94-2.06-.94 2.06-2.06.94z\"/><path d=\"M17.41 7.96l-1.37-1.37c-.4-.4-.92-.59-1.43-.59-.52 0-1.04.2-1.43.59L10.3 9.45l-7.72 7.72c-.78.78-.78 2.05 0 2.83L4 21.41c.39.39.9.59 1.41.59.51 0 1.02-.2 1.41-.59l7.78-7.78 2.81-2.81c.8-.78.8-2.07 0-2.86zM5.41 20L4 18.59l7.72-7.72 1.47 1.35L5.41 20z\"/>\n",
              "  </svg>\n",
              "      </button>\n",
              "      \n",
              "  <style>\n",
              "    .colab-df-container {\n",
              "      display:flex;\n",
              "      flex-wrap:wrap;\n",
              "      gap: 12px;\n",
              "    }\n",
              "\n",
              "    .colab-df-convert {\n",
              "      background-color: #E8F0FE;\n",
              "      border: none;\n",
              "      border-radius: 50%;\n",
              "      cursor: pointer;\n",
              "      display: none;\n",
              "      fill: #1967D2;\n",
              "      height: 32px;\n",
              "      padding: 0 0 0 0;\n",
              "      width: 32px;\n",
              "    }\n",
              "\n",
              "    .colab-df-convert:hover {\n",
              "      background-color: #E2EBFA;\n",
              "      box-shadow: 0px 1px 2px rgba(60, 64, 67, 0.3), 0px 1px 3px 1px rgba(60, 64, 67, 0.15);\n",
              "      fill: #174EA6;\n",
              "    }\n",
              "\n",
              "    [theme=dark] .colab-df-convert {\n",
              "      background-color: #3B4455;\n",
              "      fill: #D2E3FC;\n",
              "    }\n",
              "\n",
              "    [theme=dark] .colab-df-convert:hover {\n",
              "      background-color: #434B5C;\n",
              "      box-shadow: 0px 1px 3px 1px rgba(0, 0, 0, 0.15);\n",
              "      filter: drop-shadow(0px 1px 2px rgba(0, 0, 0, 0.3));\n",
              "      fill: #FFFFFF;\n",
              "    }\n",
              "  </style>\n",
              "\n",
              "      <script>\n",
              "        const buttonEl =\n",
              "          document.querySelector('#df-bcac845a-aa26-4323-beb0-a5eae6668909 button.colab-df-convert');\n",
              "        buttonEl.style.display =\n",
              "          google.colab.kernel.accessAllowed ? 'block' : 'none';\n",
              "\n",
              "        async function convertToInteractive(key) {\n",
              "          const element = document.querySelector('#df-bcac845a-aa26-4323-beb0-a5eae6668909');\n",
              "          const dataTable =\n",
              "            await google.colab.kernel.invokeFunction('convertToInteractive',\n",
              "                                                     [key], {});\n",
              "          if (!dataTable) return;\n",
              "\n",
              "          const docLinkHtml = 'Like what you see? Visit the ' +\n",
              "            '<a target=\"_blank\" href=https://colab.research.google.com/notebooks/data_table.ipynb>data table notebook</a>'\n",
              "            + ' to learn more about interactive tables.';\n",
              "          element.innerHTML = '';\n",
              "          dataTable['output_type'] = 'display_data';\n",
              "          await google.colab.output.renderOutput(dataTable, element);\n",
              "          const docLink = document.createElement('div');\n",
              "          docLink.innerHTML = docLinkHtml;\n",
              "          element.appendChild(docLink);\n",
              "        }\n",
              "      </script>\n",
              "    </div>\n",
              "  </div>\n",
              "  "
            ]
          },
          "metadata": {},
          "execution_count": 9
        }
      ]
    },
    {
      "cell_type": "code",
      "source": [
        "# Feature Selection -> Based on Boruta in RStudio\n",
        "# drop pref group size and education level\n",
        "data_encoded = data_encoded.drop(['pref_group_size', 'education_level'], axis=1)"
      ],
      "metadata": {
        "id": "D0ShB1MloYeP"
      },
      "execution_count": null,
      "outputs": []
    },
    {
      "cell_type": "markdown",
      "source": [
        "One Hot Encoding"
      ],
      "metadata": {
        "id": "6XmuZFz4KGtC"
      }
    },
    {
      "cell_type": "code",
      "source": [
        "# One Hot Encoding\n",
        "# pref length stay\n",
        "# pref travel destination\n",
        "# poi\n",
        "from sklearn.compose import make_column_transformer\n",
        "from sklearn.preprocessing import OneHotEncoder\n",
        "\n",
        "column_transform_ohe = make_column_transformer(\n",
        "               (OneHotEncoder(), ['pref_length_stay','pref_poi','pref_travel_destination']), \n",
        "               remainder = 'passthrough')\n",
        "\n",
        "data_encoded_2 = column_transform_ohe.fit_transform(data_encoded)"
      ],
      "metadata": {
        "id": "UAvJ_4RHrAx0"
      },
      "execution_count": null,
      "outputs": []
    },
    {
      "cell_type": "code",
      "source": [
        "data_encoded_2"
      ],
      "metadata": {
        "colab": {
          "base_uri": "https://localhost:8080/"
        },
        "id": "bTqZZAxxM5rA",
        "outputId": "ce24151b-a2ec-4bc4-d690-bbd733fcbebe"
      },
      "execution_count": null,
      "outputs": [
        {
          "output_type": "execute_result",
          "data": {
            "text/plain": [
              "array([[0.0, 0.0, 1.0, ..., 0, 0, 0],\n",
              "       [1.0, 0.0, 0.0, ..., 1, 0, 0],\n",
              "       [1.0, 0.0, 0.0, ..., 1, 0, 1],\n",
              "       ...,\n",
              "       [0.0, 1.0, 0.0, ..., 0, 0, 1],\n",
              "       [0.0, 0.0, 1.0, ..., 1, 0, 0],\n",
              "       [0.0, 1.0, 0.0, ..., 0, 0, 0]], dtype=object)"
            ]
          },
          "metadata": {},
          "execution_count": 15
        }
      ]
    },
    {
      "cell_type": "markdown",
      "source": [
        "Step 6: Modelling - Supervised Machine Learning / Classification (Phase 2)"
      ],
      "metadata": {
        "id": "nMtux8pzZtuc"
      }
    },
    {
      "cell_type": "markdown",
      "source": [
        "Data Partitioning / Data Splitting "
      ],
      "metadata": {
        "id": "jMG87x6oifrF"
      }
    },
    {
      "cell_type": "code",
      "source": [
        "# Identify target variable \n",
        "Y = data_encoded[\"Cluster\"]\n",
        "X = data_encoded.drop(\"Cluster\", axis = 1)"
      ],
      "metadata": {
        "id": "IuJuHhygZ3OR"
      },
      "execution_count": null,
      "outputs": []
    },
    {
      "cell_type": "code",
      "source": [
        "# Data Partitioning \n",
        "# Split the data\n",
        "# 70% train & 30% test set\n",
        "\n",
        "from sklearn.model_selection import train_test_split\n",
        "X_train, X_test, y_train, y_test = train_test_split(X, Y, test_size = 0.30, random_state = 42)\n",
        "print(X_train.shape, X_test.shape, y_train.shape, y_test.shape)  "
      ],
      "metadata": {
        "colab": {
          "base_uri": "https://localhost:8080/"
        },
        "id": "I8k6ZRfAYfWm",
        "outputId": "43e33382-4f79-449a-abbb-a844cf516502"
      },
      "execution_count": null,
      "outputs": [
        {
          "output_type": "stream",
          "name": "stdout",
          "text": [
            "(80, 10) (35, 10) (80,) (35,)\n"
          ]
        }
      ]
    },
    {
      "cell_type": "markdown",
      "source": [
        "LOGISTIC REGRESSION - Multinomial (Multi-class)"
      ],
      "metadata": {
        "id": "3pk6XgxRZxwh"
      }
    },
    {
      "cell_type": "code",
      "source": [
        "# Build Logistic Regression classifier \n",
        "from sklearn.linear_model import LogisticRegression\n",
        "lrmodel = LogisticRegression(multi_class='multinomial', solver='lbfgs') \n",
        "# 'multinomial' is selected as there are 3 categories in the target variable"
      ],
      "metadata": {
        "id": "Vi7iUkRWaX24"
      },
      "execution_count": null,
      "outputs": []
    },
    {
      "cell_type": "code",
      "source": [
        "from sklearn.pipeline import make_pipeline\n",
        "# pipe library was loaded to streamline the workflow \n",
        "# The code below will execute the one hot encoding process before training\n",
        "# pipeline creation\n",
        "# 1. Data Pre-processing -> One hot encode \n",
        "# 2. Apply LR classifier \n",
        "\n",
        "lrpipe = make_pipeline(column_transform_ohe, lrmodel)"
      ],
      "metadata": {
        "id": "cJ-mNpDhbIBO"
      },
      "execution_count": null,
      "outputs": []
    },
    {
      "cell_type": "code",
      "source": [
        "lrpipe.fit(X_train, y_train)"
      ],
      "metadata": {
        "colab": {
          "base_uri": "https://localhost:8080/"
        },
        "id": "fwT9NMDOeaPO",
        "outputId": "c26a4eaf-135d-4941-fae0-11de633274c4"
      },
      "execution_count": null,
      "outputs": [
        {
          "output_type": "execute_result",
          "data": {
            "text/plain": [
              "Pipeline(steps=[('columntransformer',\n",
              "                 ColumnTransformer(remainder='passthrough',\n",
              "                                   transformers=[('onehotencoder',\n",
              "                                                  OneHotEncoder(),\n",
              "                                                  ['pref_length_stay',\n",
              "                                                   'pref_poi',\n",
              "                                                   'pref_travel_destination'])])),\n",
              "                ('logisticregression',\n",
              "                 LogisticRegression(multi_class='multinomial'))])"
            ]
          },
          "metadata": {},
          "execution_count": 20
        }
      ]
    },
    {
      "cell_type": "code",
      "source": [
        "y_pred = lrpipe.predict(X_test)\n",
        "y_pred"
      ],
      "metadata": {
        "colab": {
          "base_uri": "https://localhost:8080/"
        },
        "id": "DHOoBerYe_yB",
        "outputId": "42261622-018b-4591-d851-c4d0e9b704ff"
      },
      "execution_count": null,
      "outputs": [
        {
          "output_type": "execute_result",
          "data": {
            "text/plain": [
              "array(['1', '2', '2', '1', '1', '1', '0', '2', '0', '2', '0', '2', '1',\n",
              "       '2', '2', '0', '1', '1', '0', '1', '0', '0', '2', '2', '0', '0',\n",
              "       '1', '1', '1', '0', '1', '0', '2', '1', '0'], dtype=object)"
            ]
          },
          "metadata": {},
          "execution_count": 21
        }
      ]
    },
    {
      "cell_type": "code",
      "source": [
        "# Model performance - LR (Accuracy)\n",
        "accuracy = lrpipe.score(X_test, y_test)\n",
        "print(\"Accuracy: %.4f\" % accuracy)"
      ],
      "metadata": {
        "colab": {
          "base_uri": "https://localhost:8080/"
        },
        "id": "eUQ-qmkrhkYe",
        "outputId": "046e5c58-5bc9-47d7-f871-14dd3f9116f1"
      },
      "execution_count": null,
      "outputs": [
        {
          "output_type": "stream",
          "name": "stdout",
          "text": [
            "Accuracy: 0.8857\n"
          ]
        }
      ]
    },
    {
      "cell_type": "code",
      "source": [
        "# Compute Confusion Matrix (Prediction of LR model)\n",
        "from sklearn.metrics import classification_report, confusion_matrix\n",
        "print(confusion_matrix(y_test,y_pred))\n",
        "print(classification_report(y_test,y_pred))"
      ],
      "metadata": {
        "colab": {
          "base_uri": "https://localhost:8080/"
        },
        "id": "554VeRV4h1DJ",
        "outputId": "6681539b-a7d1-4100-98e2-c457264d3dd7"
      },
      "execution_count": null,
      "outputs": [
        {
          "output_type": "stream",
          "name": "stdout",
          "text": [
            "[[10  0  1]\n",
            " [ 0 12  0]\n",
            " [ 2  1  9]]\n",
            "              precision    recall  f1-score   support\n",
            "\n",
            "           0       0.83      0.91      0.87        11\n",
            "           1       0.92      1.00      0.96        12\n",
            "           2       0.90      0.75      0.82        12\n",
            "\n",
            "    accuracy                           0.89        35\n",
            "   macro avg       0.89      0.89      0.88        35\n",
            "weighted avg       0.89      0.89      0.88        35\n",
            "\n"
          ]
        }
      ]
    },
    {
      "cell_type": "markdown",
      "source": [
        "DECISION TREE (DT)"
      ],
      "metadata": {
        "id": "_IKjMaUSijtl"
      }
    },
    {
      "cell_type": "code",
      "source": [
        "# Build Decision tree classifier \n",
        "from sklearn.tree import DecisionTreeClassifier \n",
        "# DT classifier invovled as this project is a classification task\n",
        "dtmodel = DecisionTreeClassifier(random_state = 42)"
      ],
      "metadata": {
        "id": "PGaJ4VEUil8I"
      },
      "execution_count": null,
      "outputs": []
    },
    {
      "cell_type": "code",
      "source": [
        "from sklearn.pipeline import make_pipeline\n",
        "# pipe library was loaded to streamline the workflow \n",
        "# The code below will execute the one hot encoding process before training\n",
        "# pipeline creation\n",
        "# 1. Data Pre-processing -> One hot encode \n",
        "# 2. Apply DT classifier \n",
        "\n",
        "dtpipe = make_pipeline(column_transform_ohe, dtmodel)"
      ],
      "metadata": {
        "id": "TGX826nWjsJS"
      },
      "execution_count": null,
      "outputs": []
    },
    {
      "cell_type": "code",
      "source": [
        "dtpipe.fit(X_train, y_train) #train the DT model"
      ],
      "metadata": {
        "colab": {
          "base_uri": "https://localhost:8080/"
        },
        "id": "ld_uHx4Vdnw9",
        "outputId": "139afeb4-328d-48fb-8dcb-996a2a05c1e8"
      },
      "execution_count": null,
      "outputs": [
        {
          "output_type": "execute_result",
          "data": {
            "text/plain": [
              "Pipeline(steps=[('columntransformer',\n",
              "                 ColumnTransformer(remainder='passthrough',\n",
              "                                   transformers=[('onehotencoder',\n",
              "                                                  OneHotEncoder(),\n",
              "                                                  ['pref_length_stay',\n",
              "                                                   'pref_poi',\n",
              "                                                   'pref_travel_destination'])])),\n",
              "                ('decisiontreeclassifier',\n",
              "                 DecisionTreeClassifier(random_state=42))])"
            ]
          },
          "metadata": {},
          "execution_count": 18
        }
      ]
    },
    {
      "cell_type": "code",
      "source": [
        "y_pred = dtpipe.predict(X_test)\n",
        "y_pred"
      ],
      "metadata": {
        "colab": {
          "base_uri": "https://localhost:8080/"
        },
        "id": "s4fhZ-NMdrvH",
        "outputId": "5380a8e2-cb00-4fa8-97aa-5d78468b636e"
      },
      "execution_count": null,
      "outputs": [
        {
          "output_type": "execute_result",
          "data": {
            "text/plain": [
              "array(['1', '2', '1', '1', '1', '1', '0', '2', '0', '1', '0', '2', '1',\n",
              "       '2', '0', '1', '1', '1', '1', '1', '0', '2', '2', '2', '2', '1',\n",
              "       '1', '0', '1', '0', '1', '2', '1', '1', '2'], dtype=object)"
            ]
          },
          "metadata": {},
          "execution_count": 19
        }
      ]
    },
    {
      "cell_type": "code",
      "source": [
        "# Model performance - DT (Accuracy)\n",
        "accuracy = dtpipe.score(X_test, y_test)\n",
        "print(\"Accuracy: %.4f\" % accuracy)"
      ],
      "metadata": {
        "colab": {
          "base_uri": "https://localhost:8080/"
        },
        "id": "s8GVT9VzdtVW",
        "outputId": "97df564d-4ada-4c55-a0ee-aaf0aa1aef24"
      },
      "execution_count": null,
      "outputs": [
        {
          "output_type": "stream",
          "name": "stdout",
          "text": [
            "Accuracy: 0.5429\n"
          ]
        }
      ]
    },
    {
      "cell_type": "code",
      "source": [
        "# Compute Confusion Matrix (Prediction of DT model)\n",
        "from sklearn.metrics import classification_report, confusion_matrix\n",
        "print(confusion_matrix(y_test,y_pred))\n",
        "print(classification_report(y_test,y_pred))"
      ],
      "metadata": {
        "colab": {
          "base_uri": "https://localhost:8080/"
        },
        "id": "E6-LwwQaZtMY",
        "outputId": "a8bb81e3-a3c0-461d-dfca-5d53bccf6411"
      },
      "execution_count": null,
      "outputs": [
        {
          "output_type": "stream",
          "name": "stdout",
          "text": [
            "[[ 3  3  5]\n",
            " [ 1 11  0]\n",
            " [ 3  4  5]]\n",
            "              precision    recall  f1-score   support\n",
            "\n",
            "           0       0.43      0.27      0.33        11\n",
            "           1       0.61      0.92      0.73        12\n",
            "           2       0.50      0.42      0.45        12\n",
            "\n",
            "    accuracy                           0.54        35\n",
            "   macro avg       0.51      0.54      0.51        35\n",
            "weighted avg       0.52      0.54      0.51        35\n",
            "\n"
          ]
        }
      ]
    },
    {
      "cell_type": "markdown",
      "source": [
        "ARTIFICIAL NEURAL NETWORK (ANN)"
      ],
      "metadata": {
        "id": "5K2X_UmFlKVH"
      }
    },
    {
      "cell_type": "code",
      "source": [
        "from sklearn.neural_network import MLPClassifier \n",
        "# 2 Hidden layers\n",
        "# Each Hidden layers has 100 neurons\n",
        "nnmodel = MLPClassifier(hidden_layer_sizes = [100,100], alpha = 5.0, random_state = 42, solver = 'lbfgs')"
      ],
      "metadata": {
        "id": "CIXCKiiBlMmm"
      },
      "execution_count": null,
      "outputs": []
    },
    {
      "cell_type": "code",
      "source": [
        "from sklearn.pipeline import make_pipeline\n",
        "# pipe library was loaded to streamline the workflow \n",
        "# The code below will execute the one hot encoding process before training\n",
        "# pipeline creation\n",
        "# 1. Data Pre-processing -> One hot encode \n",
        "# 2. Apply Neural Network (ANN) \n",
        "\n",
        "nnpipe = make_pipeline(column_transform_ohe, nnmodel)"
      ],
      "metadata": {
        "id": "9TqrnnmBlc1f"
      },
      "execution_count": null,
      "outputs": []
    },
    {
      "cell_type": "code",
      "source": [
        "nnpipe.fit(X_train, y_train) #train the ANN"
      ],
      "metadata": {
        "colab": {
          "base_uri": "https://localhost:8080/"
        },
        "id": "b39Os56ne4mv",
        "outputId": "f388f548-557b-4def-af49-032b0612be7b"
      },
      "execution_count": null,
      "outputs": [
        {
          "output_type": "stream",
          "name": "stderr",
          "text": [
            "/usr/local/lib/python3.7/dist-packages/sklearn/neural_network/_multilayer_perceptron.py:549: ConvergenceWarning: lbfgs failed to converge (status=1):\n",
            "STOP: TOTAL NO. of ITERATIONS REACHED LIMIT.\n",
            "\n",
            "Increase the number of iterations (max_iter) or scale the data as shown in:\n",
            "    https://scikit-learn.org/stable/modules/preprocessing.html\n",
            "  self.n_iter_ = _check_optimize_result(\"lbfgs\", opt_res, self.max_iter)\n"
          ]
        },
        {
          "output_type": "execute_result",
          "data": {
            "text/plain": [
              "Pipeline(steps=[('columntransformer',\n",
              "                 ColumnTransformer(remainder='passthrough',\n",
              "                                   transformers=[('onehotencoder',\n",
              "                                                  OneHotEncoder(),\n",
              "                                                  ['pref_length_stay',\n",
              "                                                   'pref_poi',\n",
              "                                                   'pref_travel_destination'])])),\n",
              "                ('mlpclassifier',\n",
              "                 MLPClassifier(alpha=5.0, hidden_layer_sizes=[100, 100],\n",
              "                               random_state=42, solver='lbfgs'))])"
            ]
          },
          "metadata": {},
          "execution_count": 24
        }
      ]
    },
    {
      "cell_type": "code",
      "source": [
        "y_pred = nnpipe.predict(X_test)\n",
        "y_pred # view predicted results"
      ],
      "metadata": {
        "colab": {
          "base_uri": "https://localhost:8080/"
        },
        "id": "vj9Dsuhbe7Cy",
        "outputId": "6fc25490-d8f2-4d49-b907-b58a98a33711"
      },
      "execution_count": null,
      "outputs": [
        {
          "output_type": "execute_result",
          "data": {
            "text/plain": [
              "array(['1', '2', '2', '1', '1', '1', '0', '2', '0', '2', '2', '2', '1',\n",
              "       '2', '2', '0', '1', '1', '0', '1', '0', '0', '2', '2', '0', '0',\n",
              "       '1', '1', '1', '0', '1', '0', '2', '1', '0'], dtype='<U1')"
            ]
          },
          "metadata": {},
          "execution_count": 25
        }
      ]
    },
    {
      "cell_type": "code",
      "source": [
        "# Model performance - ANN (Accuracy)\n",
        "accuracy = nnpipe.score(X_test, y_test)\n",
        "print(\"Accuracy: %.4f\" % accuracy)"
      ],
      "metadata": {
        "colab": {
          "base_uri": "https://localhost:8080/"
        },
        "id": "l-Hqjwhje86x",
        "outputId": "b01e2c5d-97e1-45cb-c99c-82a597ede959"
      },
      "execution_count": null,
      "outputs": [
        {
          "output_type": "stream",
          "name": "stdout",
          "text": [
            "Accuracy: 0.9143\n"
          ]
        }
      ]
    },
    {
      "cell_type": "code",
      "source": [
        "# Compute Confusion Matrix (Prediction of ANN model)\n",
        "from sklearn.metrics import classification_report, confusion_matrix\n",
        "print(confusion_matrix(y_test,y_pred))\n",
        "print(classification_report(y_test,y_pred))"
      ],
      "metadata": {
        "colab": {
          "base_uri": "https://localhost:8080/"
        },
        "id": "8w-EuO3KrbnS",
        "outputId": "fd920465-d8a4-4fd1-b277-984e83188b36"
      },
      "execution_count": null,
      "outputs": [
        {
          "output_type": "stream",
          "name": "stdout",
          "text": [
            "[[10  0  1]\n",
            " [ 0 12  0]\n",
            " [ 1  1 10]]\n",
            "              precision    recall  f1-score   support\n",
            "\n",
            "           0       0.91      0.91      0.91        11\n",
            "           1       0.92      1.00      0.96        12\n",
            "           2       0.91      0.83      0.87        12\n",
            "\n",
            "    accuracy                           0.91        35\n",
            "   macro avg       0.91      0.91      0.91        35\n",
            "weighted avg       0.91      0.91      0.91        35\n",
            "\n"
          ]
        }
      ]
    },
    {
      "cell_type": "markdown",
      "source": [
        "ENSEMBLE MODEL - RANDOM FOREST (RF)"
      ],
      "metadata": {
        "id": "i4NfnBVGhNYZ"
      }
    },
    {
      "cell_type": "code",
      "source": [
        "from sklearn.ensemble import RandomForestClassifier\n",
        "rfmodel = RandomForestClassifier(n_estimators=20, random_state=42)"
      ],
      "metadata": {
        "id": "j-ORYmpJfrpz"
      },
      "execution_count": null,
      "outputs": []
    },
    {
      "cell_type": "code",
      "source": [
        "from sklearn.pipeline import make_pipeline\n",
        "# pipe library was loaded to streamline the workflow \n",
        "# The code below will execute the one hot encoding process before training\n",
        "# pipeline creation\n",
        "# 1. Data Pre-processing -> One hot encode \n",
        "# 2. Apply Random Forest (RF)\n",
        "\n",
        "rfpipe = make_pipeline(column_transform_ohe, rfmodel)"
      ],
      "metadata": {
        "id": "eIrIpVYOgLkS"
      },
      "execution_count": null,
      "outputs": []
    },
    {
      "cell_type": "code",
      "source": [
        "rfpipe.fit(X_train, y_train) #train the RF"
      ],
      "metadata": {
        "colab": {
          "base_uri": "https://localhost:8080/"
        },
        "id": "FTqFlisKgNvF",
        "outputId": "7417d637-c0bd-4cb7-de04-32a777efdf3a"
      },
      "execution_count": null,
      "outputs": [
        {
          "output_type": "execute_result",
          "data": {
            "text/plain": [
              "Pipeline(steps=[('columntransformer',\n",
              "                 ColumnTransformer(remainder='passthrough',\n",
              "                                   transformers=[('onehotencoder',\n",
              "                                                  OneHotEncoder(),\n",
              "                                                  ['pref_length_stay',\n",
              "                                                   'pref_poi',\n",
              "                                                   'pref_travel_destination'])])),\n",
              "                ('randomforestclassifier',\n",
              "                 RandomForestClassifier(n_estimators=20, random_state=42))])"
            ]
          },
          "metadata": {},
          "execution_count": 38
        }
      ]
    },
    {
      "cell_type": "code",
      "source": [
        "y_pred = rfpipe.predict(X_test)\n",
        "y_pred # view predicted results"
      ],
      "metadata": {
        "colab": {
          "base_uri": "https://localhost:8080/"
        },
        "id": "_-egEwPkgQJO",
        "outputId": "2c9480c6-4f14-4f83-d717-6c131aad8c68"
      },
      "execution_count": null,
      "outputs": [
        {
          "output_type": "execute_result",
          "data": {
            "text/plain": [
              "array(['1', '2', '1', '1', '2', '1', '0', '0', '0', '2', '0', '1', '1',\n",
              "       '2', '2', '1', '1', '1', '0', '1', '0', '0', '2', '0', '0', '1',\n",
              "       '1', '1', '1', '0', '1', '0', '1', '1', '0'], dtype=object)"
            ]
          },
          "metadata": {},
          "execution_count": 39
        }
      ]
    },
    {
      "cell_type": "code",
      "source": [
        "# Model performance - RF (Accuracy)\n",
        "accuracy = rfpipe.score(X_test, y_test)\n",
        "print(\"Accuracy: %.4f\" % accuracy)"
      ],
      "metadata": {
        "colab": {
          "base_uri": "https://localhost:8080/"
        },
        "id": "vSgtQpvpgS7K",
        "outputId": "6cc26bc9-831c-47fc-8375-48795e673d3f"
      },
      "execution_count": null,
      "outputs": [
        {
          "output_type": "stream",
          "name": "stdout",
          "text": [
            "Accuracy: 0.7143\n"
          ]
        }
      ]
    },
    {
      "cell_type": "code",
      "source": [
        "# Compute Confusion Matrix (Prediction of RF model)\n",
        "from sklearn.metrics import classification_report, confusion_matrix\n",
        "print(confusion_matrix(y_test,y_pred))\n",
        "print(classification_report(y_test,y_pred))"
      ],
      "metadata": {
        "colab": {
          "base_uri": "https://localhost:8080/"
        },
        "id": "DCkqEnwYgg88",
        "outputId": "7f75beb5-dfb9-4f1f-cc98-e2aea8e73111"
      },
      "execution_count": null,
      "outputs": [
        {
          "output_type": "stream",
          "name": "stdout",
          "text": [
            "[[ 9  2  0]\n",
            " [ 0 11  1]\n",
            " [ 3  4  5]]\n",
            "              precision    recall  f1-score   support\n",
            "\n",
            "           0       0.75      0.82      0.78        11\n",
            "           1       0.65      0.92      0.76        12\n",
            "           2       0.83      0.42      0.56        12\n",
            "\n",
            "    accuracy                           0.71        35\n",
            "   macro avg       0.74      0.72      0.70        35\n",
            "weighted avg       0.74      0.71      0.70        35\n",
            "\n"
          ]
        }
      ]
    },
    {
      "cell_type": "markdown",
      "source": [
        "CROSS VALIDATION (JUST FOR EXPERIMENTATION PURPOSES)\n",
        "\n",
        "Model Involved: ANN & LR"
      ],
      "metadata": {
        "id": "rKOCNy6IaVgW"
      }
    },
    {
      "cell_type": "code",
      "source": [
        "# MODEL BUILDING (Separate X and Y)\n",
        "Y = data_encoded[\"Cluster\"]\n",
        "X = data_encoded.drop(\"Cluster\", axis = 1)"
      ],
      "metadata": {
        "id": "-VfEQFQxqV6l"
      },
      "execution_count": null,
      "outputs": []
    },
    {
      "cell_type": "code",
      "source": [
        "# Split the data\n",
        "\n",
        "from sklearn.model_selection import train_test_split\n",
        "X_train, X_test, y_train, y_test = train_test_split(X, Y, test_size = 0.50, random_state = 42)\n",
        "print(X_train.shape, X_test.shape, y_train.shape, y_test.shape)  "
      ],
      "metadata": {
        "colab": {
          "base_uri": "https://localhost:8080/"
        },
        "id": "V8ZtzT3uqesD",
        "outputId": "fea328d6-9033-48e8-d05a-aa5033b12cd9"
      },
      "execution_count": null,
      "outputs": [
        {
          "output_type": "stream",
          "name": "stdout",
          "text": [
            "(57, 10) (58, 10) (57,) (58,)\n"
          ]
        }
      ]
    },
    {
      "cell_type": "code",
      "source": [
        "# ANN / MLP\n",
        "from sklearn.neural_network import MLPClassifier \n",
        "model = MLPClassifier(hidden_layer_sizes = [100,100], alpha = 5.0, random_state = 42, solver = 'lbfgs')"
      ],
      "metadata": {
        "id": "lnyolF1Yr2ie"
      },
      "execution_count": null,
      "outputs": []
    },
    {
      "cell_type": "code",
      "source": [
        "from sklearn.pipeline import make_pipeline\n",
        "pipe = make_pipeline(column_transform_ohe, model)"
      ],
      "metadata": {
        "id": "hz2jZhK7r8e_"
      },
      "execution_count": null,
      "outputs": []
    },
    {
      "cell_type": "code",
      "source": [
        "from sklearn.model_selection import cross_val_score\n",
        "from sklearn.model_selection import GridSearchCV\n",
        "cross_val_score(pipe, X_train, y_train, cv=5, scoring = 'accuracy').mean()"
      ],
      "metadata": {
        "colab": {
          "base_uri": "https://localhost:8080/"
        },
        "id": "oppOadTRsCD9",
        "outputId": "74511346-244c-4586-c1b0-3000e1f491d3"
      },
      "execution_count": null,
      "outputs": [
        {
          "output_type": "stream",
          "name": "stderr",
          "text": [
            "/usr/local/lib/python3.7/dist-packages/sklearn/neural_network/_multilayer_perceptron.py:549: ConvergenceWarning: lbfgs failed to converge (status=1):\n",
            "STOP: TOTAL NO. of ITERATIONS REACHED LIMIT.\n",
            "\n",
            "Increase the number of iterations (max_iter) or scale the data as shown in:\n",
            "    https://scikit-learn.org/stable/modules/preprocessing.html\n",
            "  self.n_iter_ = _check_optimize_result(\"lbfgs\", opt_res, self.max_iter)\n"
          ]
        },
        {
          "output_type": "execute_result",
          "data": {
            "text/plain": [
              "0.790909090909091"
            ]
          },
          "metadata": {},
          "execution_count": 34
        }
      ]
    },
    {
      "cell_type": "code",
      "source": [
        "cross_val_score(pipe, X_test, y_test, cv=5, scoring = 'accuracy').mean()"
      ],
      "metadata": {
        "colab": {
          "base_uri": "https://localhost:8080/"
        },
        "id": "2DqFoFWQsEQK",
        "outputId": "165a3cb6-38dd-4e45-f205-6769009203bc"
      },
      "execution_count": null,
      "outputs": [
        {
          "output_type": "stream",
          "name": "stderr",
          "text": [
            "/usr/local/lib/python3.7/dist-packages/sklearn/neural_network/_multilayer_perceptron.py:549: ConvergenceWarning: lbfgs failed to converge (status=1):\n",
            "STOP: TOTAL NO. of ITERATIONS REACHED LIMIT.\n",
            "\n",
            "Increase the number of iterations (max_iter) or scale the data as shown in:\n",
            "    https://scikit-learn.org/stable/modules/preprocessing.html\n",
            "  self.n_iter_ = _check_optimize_result(\"lbfgs\", opt_res, self.max_iter)\n",
            "/usr/local/lib/python3.7/dist-packages/sklearn/neural_network/_multilayer_perceptron.py:549: ConvergenceWarning: lbfgs failed to converge (status=1):\n",
            "STOP: TOTAL NO. of ITERATIONS REACHED LIMIT.\n",
            "\n",
            "Increase the number of iterations (max_iter) or scale the data as shown in:\n",
            "    https://scikit-learn.org/stable/modules/preprocessing.html\n",
            "  self.n_iter_ = _check_optimize_result(\"lbfgs\", opt_res, self.max_iter)\n"
          ]
        },
        {
          "output_type": "execute_result",
          "data": {
            "text/plain": [
              "0.8106060606060606"
            ]
          },
          "metadata": {},
          "execution_count": 35
        }
      ]
    },
    {
      "cell_type": "code",
      "source": [
        "# Logistic Regression (LR)\n",
        "from sklearn.linear_model import LogisticRegression\n",
        "model3 = LogisticRegression(multi_class='multinomial', solver='lbfgs')"
      ],
      "metadata": {
        "id": "19YkwXxqw6td"
      },
      "execution_count": null,
      "outputs": []
    },
    {
      "cell_type": "code",
      "source": [
        "from sklearn.pipeline import make_pipeline\n",
        "pipe3 = make_pipeline(column_transform_ohe, model3)"
      ],
      "metadata": {
        "id": "qIag6AwyxLo-"
      },
      "execution_count": null,
      "outputs": []
    },
    {
      "cell_type": "code",
      "source": [
        "from sklearn.model_selection import cross_val_score\n",
        "from sklearn.model_selection import GridSearchCV\n",
        "cross_val_score(pipe3, X_train, y_train, cv=5, scoring = 'accuracy').mean()"
      ],
      "metadata": {
        "colab": {
          "base_uri": "https://localhost:8080/"
        },
        "id": "vzpLmzgbxS2P",
        "outputId": "fb837e21-db20-421d-8ff5-2ff4f550baa1"
      },
      "execution_count": null,
      "outputs": [
        {
          "output_type": "execute_result",
          "data": {
            "text/plain": [
              "0.843939393939394"
            ]
          },
          "metadata": {},
          "execution_count": 38
        }
      ]
    },
    {
      "cell_type": "code",
      "source": [
        "cross_val_score(pipe3, X_test, y_test, cv=5, scoring = 'accuracy').mean()"
      ],
      "metadata": {
        "colab": {
          "base_uri": "https://localhost:8080/"
        },
        "id": "2ATSjhiKxXkM",
        "outputId": "e6a827e9-4020-45e5-d145-efe8ec0ca428"
      },
      "execution_count": null,
      "outputs": [
        {
          "output_type": "execute_result",
          "data": {
            "text/plain": [
              "0.8454545454545455"
            ]
          },
          "metadata": {},
          "execution_count": 39
        }
      ]
    },
    {
      "cell_type": "markdown",
      "source": [
        "Step 7: Model Deployment"
      ],
      "metadata": {
        "id": "g5X9sapLvrdv"
      }
    },
    {
      "cell_type": "code",
      "source": [
        "# all libraries invovled\n",
        "import streamlit as st # import streamlit for web development\n",
        "import pickle\n",
        "import numpy as np\n",
        "import pandas as pd\n",
        "from pyngrok import ngrok"
      ],
      "metadata": {
        "id": "ZcptNa47BSB0"
      },
      "execution_count": null,
      "outputs": []
    },
    {
      "cell_type": "code",
      "source": [
        "!pip install -q streamlit #restart runtime needed if unable to install"
      ],
      "metadata": {
        "id": "WXH0frjgwBVY",
        "colab": {
          "base_uri": "https://localhost:8080/"
        },
        "outputId": "435577ed-c3eb-421e-9eaa-d868576badcb"
      },
      "execution_count": null,
      "outputs": [
        {
          "output_type": "stream",
          "name": "stdout",
          "text": [
            "\u001b[K     |████████████████████████████████| 9.1 MB 6.7 MB/s \n",
            "\u001b[K     |████████████████████████████████| 235 kB 58.1 MB/s \n",
            "\u001b[K     |████████████████████████████████| 78 kB 7.3 MB/s \n",
            "\u001b[K     |████████████████████████████████| 164 kB 61.6 MB/s \n",
            "\u001b[K     |████████████████████████████████| 4.3 MB 46.4 MB/s \n",
            "\u001b[K     |████████████████████████████████| 181 kB 49.9 MB/s \n",
            "\u001b[K     |████████████████████████████████| 63 kB 2.0 MB/s \n",
            "\u001b[K     |████████████████████████████████| 1.6 MB 41.7 MB/s \n",
            "\u001b[K     |████████████████████████████████| 51 kB 5.2 MB/s \n",
            "\u001b[?25h  Building wheel for validators (setup.py) ... \u001b[?25l\u001b[?25hdone\n"
          ]
        }
      ]
    },
    {
      "cell_type": "code",
      "source": [
        "import streamlit as st # import streamlit for web development"
      ],
      "metadata": {
        "colab": {
          "base_uri": "https://localhost:8080/"
        },
        "id": "DwZDru6PxDmT",
        "outputId": "8d906691-9b9c-46fd-d3f8-beea5a2d09ae"
      },
      "execution_count": null,
      "outputs": [
        {
          "output_type": "stream",
          "name": "stderr",
          "text": [
            "2022-07-05 05:12:46.149 INFO    numexpr.utils: NumExpr defaulting to 2 threads.\n"
          ]
        }
      ]
    },
    {
      "cell_type": "code",
      "source": [
        "#import data set\n",
        "path = '/drive/MyDrive/Colab Notebooks/data_tour_cluster.csv'\n",
        "data = pd.read_csv(path)"
      ],
      "metadata": {
        "id": "teAglUf8xvps"
      },
      "execution_count": null,
      "outputs": []
    },
    {
      "cell_type": "code",
      "source": [
        "# the variable 'cluster' type is classified as 'numeric' - hence, changes needed to change\n",
        "data_types_dict = {'Cluster': str} \n",
        "# change the data type \n",
        "data = data.astype(data_types_dict)"
      ],
      "metadata": {
        "id": "a-WC_ff8yDmu"
      },
      "execution_count": null,
      "outputs": []
    },
    {
      "cell_type": "code",
      "source": [
        "# Remove irrelavant columns \n",
        "data = data.drop(['Unnamed: 0'], axis=1)\n",
        "data.dtypes"
      ],
      "metadata": {
        "colab": {
          "base_uri": "https://localhost:8080/"
        },
        "id": "CJbgR7o9yLJo",
        "outputId": "468e22f9-55e3-4268-ad9d-ea6aee43d202"
      },
      "execution_count": null,
      "outputs": [
        {
          "output_type": "execute_result",
          "data": {
            "text/plain": [
              "Cluster                    object\n",
              "gender                     object\n",
              "age                        object\n",
              "household_income           object\n",
              "education_level            object\n",
              "occupation                 object\n",
              "travel_purpose             object\n",
              "pref_transport_mode        object\n",
              "pref_length_stay           object\n",
              "travel_pay_willingness     object\n",
              "pref_poi                   object\n",
              "pref_group_size            object\n",
              "pref_travel_destination    object\n",
              "dtype: object"
            ]
          },
          "metadata": {},
          "execution_count": 10
        }
      ]
    },
    {
      "cell_type": "code",
      "source": [
        "# Label Encoding\n",
        "from sklearn.preprocessing import LabelEncoder\n",
        "# Label encode categorical variables\n",
        "# gender # age # household income # education level # occupation\n",
        "\n",
        "data_encoded = data.copy() # To serve as backup incase there is Pandas error\n",
        "data_encoded[['gender', 'age', 'household_income','education_level', 'occupation', 'pref_transport_mode', 'travel_pay_willingness', 'pref_group_size', 'travel_purpose','pref_length_stay','pref_poi','pref_travel_destination']] = data_encoded[['gender', 'age', 'household_income','education_level', 'occupation', 'pref_transport_mode', 'travel_pay_willingness', 'pref_group_size','travel_purpose','pref_length_stay','pref_poi','pref_travel_destination']].apply(LabelEncoder().fit_transform)"
      ],
      "metadata": {
        "id": "9_Vr5hv5yOfA"
      },
      "execution_count": null,
      "outputs": []
    },
    {
      "cell_type": "code",
      "source": [
        "# drop pref group size and education level\n",
        "data_encoded = data_encoded.drop(['pref_group_size', 'education_level'], axis=1)"
      ],
      "metadata": {
        "id": "lIfxcp2RyWXv"
      },
      "execution_count": null,
      "outputs": []
    },
    {
      "cell_type": "code",
      "source": [
        "# Identify target variable \n",
        "Y = data_encoded[\"Cluster\"]\n",
        "X = data_encoded.drop(\"Cluster\", axis = 1)"
      ],
      "metadata": {
        "id": "9usCluSByZgV"
      },
      "execution_count": null,
      "outputs": []
    },
    {
      "cell_type": "code",
      "source": [
        "# Data Partitioning (70% train & 30% test set)\n",
        "\n",
        "from sklearn.model_selection import train_test_split\n",
        "X_train, X_test, y_train, y_test = train_test_split(X, Y, test_size = 0.30, random_state = 42)\n",
        "print(X_train.shape, X_test.shape, y_train.shape, y_test.shape)  "
      ],
      "metadata": {
        "colab": {
          "base_uri": "https://localhost:8080/"
        },
        "id": "hr8hw0GDybfW",
        "outputId": "0a209304-b44b-4e93-c26f-2a3fa71dfcc8"
      },
      "execution_count": null,
      "outputs": [
        {
          "output_type": "stream",
          "name": "stdout",
          "text": [
            "(80, 10) (35, 10) (80,) (35,)\n"
          ]
        }
      ]
    },
    {
      "cell_type": "code",
      "source": [
        "# ANN model was invovled as it is selected as the final model to be deployed\n",
        "# Same architecture as developed previously (2 Hidden Layers, each with 100 neurons)\n",
        "from sklearn.neural_network import MLPClassifier \n",
        "nnmodel = MLPClassifier(hidden_layer_sizes = [100,100], alpha = 5.0, random_state = 42, solver = 'lbfgs')"
      ],
      "metadata": {
        "id": "7BS9FccTyhz-"
      },
      "execution_count": null,
      "outputs": []
    },
    {
      "cell_type": "code",
      "source": [
        "nnmodel.fit(X_train, y_train) #train the ANN"
      ],
      "metadata": {
        "colab": {
          "base_uri": "https://localhost:8080/"
        },
        "id": "1ZKmSpbPyrn1",
        "outputId": "0d0c98bf-f629-4e9a-87d5-55486cb4b129"
      },
      "execution_count": null,
      "outputs": [
        {
          "output_type": "stream",
          "name": "stderr",
          "text": [
            "/usr/local/lib/python3.7/dist-packages/sklearn/neural_network/_multilayer_perceptron.py:549: ConvergenceWarning: lbfgs failed to converge (status=1):\n",
            "STOP: TOTAL NO. of ITERATIONS REACHED LIMIT.\n",
            "\n",
            "Increase the number of iterations (max_iter) or scale the data as shown in:\n",
            "    https://scikit-learn.org/stable/modules/preprocessing.html\n",
            "  self.n_iter_ = _check_optimize_result(\"lbfgs\", opt_res, self.max_iter)\n"
          ]
        },
        {
          "output_type": "execute_result",
          "data": {
            "text/plain": [
              "MLPClassifier(alpha=5.0, hidden_layer_sizes=[100, 100], random_state=42,\n",
              "              solver='lbfgs')"
            ]
          },
          "metadata": {},
          "execution_count": 16
        }
      ]
    },
    {
      "cell_type": "code",
      "source": [
        "y_pred = nnmodel.predict(X_test)\n",
        "y_pred"
      ],
      "metadata": {
        "colab": {
          "base_uri": "https://localhost:8080/"
        },
        "id": "n1CO2TgKyu0c",
        "outputId": "7b3450bb-184c-496f-908a-97f2c0167a74"
      },
      "execution_count": null,
      "outputs": [
        {
          "output_type": "execute_result",
          "data": {
            "text/plain": [
              "array(['2', '2', '2', '1', '1', '1', '1', '2', '0', '2', '0', '1', '1',\n",
              "       '1', '2', '0', '1', '1', '0', '1', '0', '2', '2', '1', '0', '1',\n",
              "       '1', '2', '1', '0', '1', '0', '2', '2', '2'], dtype='<U1')"
            ]
          },
          "metadata": {},
          "execution_count": 17
        }
      ]
    },
    {
      "cell_type": "code",
      "source": [
        "# check updated data frame\n",
        "X_test.head()"
      ],
      "metadata": {
        "colab": {
          "base_uri": "https://localhost:8080/",
          "height": 206
        },
        "id": "HOZ9l3tryx6U",
        "outputId": "82620214-54d8-450b-cbf2-65945ccbc7f7"
      },
      "execution_count": null,
      "outputs": [
        {
          "output_type": "execute_result",
          "data": {
            "text/plain": [
              "    gender  age  household_income  occupation  travel_purpose  \\\n",
              "81       1    0                 1           0               1   \n",
              "4        0    0                 0           0               1   \n",
              "40       1    1                 1           0               1   \n",
              "69       0    0                 0           1               1   \n",
              "10       1    0                 1           0               1   \n",
              "\n",
              "    pref_transport_mode  pref_length_stay  travel_pay_willingness  pref_poi  \\\n",
              "81                    1                 0                       0         0   \n",
              "4                     0                 0                       1         0   \n",
              "40                    1                 0                       1         0   \n",
              "69                    1                 1                       1         0   \n",
              "10                    0                 0                       0         0   \n",
              "\n",
              "    pref_travel_destination  \n",
              "81                        4  \n",
              "4                         1  \n",
              "40                        2  \n",
              "69                        2  \n",
              "10                        1  "
            ],
            "text/html": [
              "\n",
              "  <div id=\"df-c4ae0a11-b7f3-4190-860a-8d8e3de83abf\">\n",
              "    <div class=\"colab-df-container\">\n",
              "      <div>\n",
              "<style scoped>\n",
              "    .dataframe tbody tr th:only-of-type {\n",
              "        vertical-align: middle;\n",
              "    }\n",
              "\n",
              "    .dataframe tbody tr th {\n",
              "        vertical-align: top;\n",
              "    }\n",
              "\n",
              "    .dataframe thead th {\n",
              "        text-align: right;\n",
              "    }\n",
              "</style>\n",
              "<table border=\"1\" class=\"dataframe\">\n",
              "  <thead>\n",
              "    <tr style=\"text-align: right;\">\n",
              "      <th></th>\n",
              "      <th>gender</th>\n",
              "      <th>age</th>\n",
              "      <th>household_income</th>\n",
              "      <th>occupation</th>\n",
              "      <th>travel_purpose</th>\n",
              "      <th>pref_transport_mode</th>\n",
              "      <th>pref_length_stay</th>\n",
              "      <th>travel_pay_willingness</th>\n",
              "      <th>pref_poi</th>\n",
              "      <th>pref_travel_destination</th>\n",
              "    </tr>\n",
              "  </thead>\n",
              "  <tbody>\n",
              "    <tr>\n",
              "      <th>81</th>\n",
              "      <td>1</td>\n",
              "      <td>0</td>\n",
              "      <td>1</td>\n",
              "      <td>0</td>\n",
              "      <td>1</td>\n",
              "      <td>1</td>\n",
              "      <td>0</td>\n",
              "      <td>0</td>\n",
              "      <td>0</td>\n",
              "      <td>4</td>\n",
              "    </tr>\n",
              "    <tr>\n",
              "      <th>4</th>\n",
              "      <td>0</td>\n",
              "      <td>0</td>\n",
              "      <td>0</td>\n",
              "      <td>0</td>\n",
              "      <td>1</td>\n",
              "      <td>0</td>\n",
              "      <td>0</td>\n",
              "      <td>1</td>\n",
              "      <td>0</td>\n",
              "      <td>1</td>\n",
              "    </tr>\n",
              "    <tr>\n",
              "      <th>40</th>\n",
              "      <td>1</td>\n",
              "      <td>1</td>\n",
              "      <td>1</td>\n",
              "      <td>0</td>\n",
              "      <td>1</td>\n",
              "      <td>1</td>\n",
              "      <td>0</td>\n",
              "      <td>1</td>\n",
              "      <td>0</td>\n",
              "      <td>2</td>\n",
              "    </tr>\n",
              "    <tr>\n",
              "      <th>69</th>\n",
              "      <td>0</td>\n",
              "      <td>0</td>\n",
              "      <td>0</td>\n",
              "      <td>1</td>\n",
              "      <td>1</td>\n",
              "      <td>1</td>\n",
              "      <td>1</td>\n",
              "      <td>1</td>\n",
              "      <td>0</td>\n",
              "      <td>2</td>\n",
              "    </tr>\n",
              "    <tr>\n",
              "      <th>10</th>\n",
              "      <td>1</td>\n",
              "      <td>0</td>\n",
              "      <td>1</td>\n",
              "      <td>0</td>\n",
              "      <td>1</td>\n",
              "      <td>0</td>\n",
              "      <td>0</td>\n",
              "      <td>0</td>\n",
              "      <td>0</td>\n",
              "      <td>1</td>\n",
              "    </tr>\n",
              "  </tbody>\n",
              "</table>\n",
              "</div>\n",
              "      <button class=\"colab-df-convert\" onclick=\"convertToInteractive('df-c4ae0a11-b7f3-4190-860a-8d8e3de83abf')\"\n",
              "              title=\"Convert this dataframe to an interactive table.\"\n",
              "              style=\"display:none;\">\n",
              "        \n",
              "  <svg xmlns=\"http://www.w3.org/2000/svg\" height=\"24px\"viewBox=\"0 0 24 24\"\n",
              "       width=\"24px\">\n",
              "    <path d=\"M0 0h24v24H0V0z\" fill=\"none\"/>\n",
              "    <path d=\"M18.56 5.44l.94 2.06.94-2.06 2.06-.94-2.06-.94-.94-2.06-.94 2.06-2.06.94zm-11 1L8.5 8.5l.94-2.06 2.06-.94-2.06-.94L8.5 2.5l-.94 2.06-2.06.94zm10 10l.94 2.06.94-2.06 2.06-.94-2.06-.94-.94-2.06-.94 2.06-2.06.94z\"/><path d=\"M17.41 7.96l-1.37-1.37c-.4-.4-.92-.59-1.43-.59-.52 0-1.04.2-1.43.59L10.3 9.45l-7.72 7.72c-.78.78-.78 2.05 0 2.83L4 21.41c.39.39.9.59 1.41.59.51 0 1.02-.2 1.41-.59l7.78-7.78 2.81-2.81c.8-.78.8-2.07 0-2.86zM5.41 20L4 18.59l7.72-7.72 1.47 1.35L5.41 20z\"/>\n",
              "  </svg>\n",
              "      </button>\n",
              "      \n",
              "  <style>\n",
              "    .colab-df-container {\n",
              "      display:flex;\n",
              "      flex-wrap:wrap;\n",
              "      gap: 12px;\n",
              "    }\n",
              "\n",
              "    .colab-df-convert {\n",
              "      background-color: #E8F0FE;\n",
              "      border: none;\n",
              "      border-radius: 50%;\n",
              "      cursor: pointer;\n",
              "      display: none;\n",
              "      fill: #1967D2;\n",
              "      height: 32px;\n",
              "      padding: 0 0 0 0;\n",
              "      width: 32px;\n",
              "    }\n",
              "\n",
              "    .colab-df-convert:hover {\n",
              "      background-color: #E2EBFA;\n",
              "      box-shadow: 0px 1px 2px rgba(60, 64, 67, 0.3), 0px 1px 3px 1px rgba(60, 64, 67, 0.15);\n",
              "      fill: #174EA6;\n",
              "    }\n",
              "\n",
              "    [theme=dark] .colab-df-convert {\n",
              "      background-color: #3B4455;\n",
              "      fill: #D2E3FC;\n",
              "    }\n",
              "\n",
              "    [theme=dark] .colab-df-convert:hover {\n",
              "      background-color: #434B5C;\n",
              "      box-shadow: 0px 1px 3px 1px rgba(0, 0, 0, 0.15);\n",
              "      filter: drop-shadow(0px 1px 2px rgba(0, 0, 0, 0.3));\n",
              "      fill: #FFFFFF;\n",
              "    }\n",
              "  </style>\n",
              "\n",
              "      <script>\n",
              "        const buttonEl =\n",
              "          document.querySelector('#df-c4ae0a11-b7f3-4190-860a-8d8e3de83abf button.colab-df-convert');\n",
              "        buttonEl.style.display =\n",
              "          google.colab.kernel.accessAllowed ? 'block' : 'none';\n",
              "\n",
              "        async function convertToInteractive(key) {\n",
              "          const element = document.querySelector('#df-c4ae0a11-b7f3-4190-860a-8d8e3de83abf');\n",
              "          const dataTable =\n",
              "            await google.colab.kernel.invokeFunction('convertToInteractive',\n",
              "                                                     [key], {});\n",
              "          if (!dataTable) return;\n",
              "\n",
              "          const docLinkHtml = 'Like what you see? Visit the ' +\n",
              "            '<a target=\"_blank\" href=https://colab.research.google.com/notebooks/data_table.ipynb>data table notebook</a>'\n",
              "            + ' to learn more about interactive tables.';\n",
              "          element.innerHTML = '';\n",
              "          dataTable['output_type'] = 'display_data';\n",
              "          await google.colab.output.renderOutput(dataTable, element);\n",
              "          const docLink = document.createElement('div');\n",
              "          docLink.innerHTML = docLinkHtml;\n",
              "          element.appendChild(docLink);\n",
              "        }\n",
              "      </script>\n",
              "    </div>\n",
              "  </div>\n",
              "  "
            ]
          },
          "metadata": {},
          "execution_count": 18
        }
      ]
    },
    {
      "cell_type": "code",
      "source": [
        "# Save the developed model into a folder\n",
        "import pickle\n",
        "with open(\"NN_Model_pickle_2\", \"wb\") as n:\n",
        "    pickle.dump(nnmodel, n)"
      ],
      "metadata": {
        "id": "eV2Pzn-Ly5iQ"
      },
      "execution_count": null,
      "outputs": []
    },
    {
      "cell_type": "code",
      "source": [
        "NN_model_pickle_in = open(\"NN_Model_pickle_2\", \"rb\")\n",
        "NNmodel_deploy = pickle.load(NN_model_pickle_in)\n",
        "with open(\"NN_Model_pickle_2\", \"rb\") as n:\n",
        "    NNmodel_deploy = pickle.load(n)"
      ],
      "metadata": {
        "id": "jMlZfIMQzGxp"
      },
      "execution_count": null,
      "outputs": []
    },
    {
      "cell_type": "markdown",
      "source": [
        "Content and body of the web application ( or artefact )"
      ],
      "metadata": {
        "id": "0chCxqwFMmxo"
      }
    },
    {
      "cell_type": "code",
      "source": [
        "%%writefile app.py\n",
        "import streamlit as st\n",
        "import pickle\n",
        "import numpy as np\n",
        "import pandas as pd\n",
        "\n",
        "NN_model_pickle_in = open(\"NN_Model_pickle_2\", \"rb\")\n",
        "NNmodel_deploy = pickle.load(NN_model_pickle_in)\n",
        "with open(\"NN_Model_pickle_2\", \"rb\") as n:\n",
        "    NNmodel_deploy = pickle.load(n)\n",
        "\n",
        "def main():\n",
        "  import numpy as np\n",
        "\n",
        "  # Give title\n",
        "  st.title('Travel Agency Operator Application')\n",
        "\n",
        "  # Provide Content\n",
        "  st.header('Web Application Detail')\n",
        "  st.write('This application is strictly for tourist agent only :rotating_light:')\n",
        "  st.write('The model implemented for classification is Artificial Neural Network')\n",
        "  st.write('Kindly fill in the tourist detail for each section to compute the predictions.')\n",
        "  st.write('The final result should show which cluster does this potential traveller falls under.')\n",
        "  st.write('Kindly suggest the appropriate tour package to respective customers.')\n",
        "\n",
        "  # Provide cluster details\n",
        "  st.header('Cluster Category')\n",
        "  st.write('At the current stage, there are only 3 clusters.')\n",
        "  st.write('Cluster 0: Economic Family Package')\n",
        "  st.write('Cluster 1: Holiday Adventure Package')\n",
        "  st.write('Cluster 2: Premium Holiday Package')\n",
        "\n",
        "  # Information to fill in\n",
        "  st.header('Potential Traveller Information')\n",
        "  st.write('Gender: Female = \"0\", Male = \"1\"')\n",
        "  st.write('Age: 18 - 25 years old = \"0\", 26 years and above = \"1\"')\n",
        "  st.write('Household Income: More than RM 4,851 = \"0\", Less than RM 4,850 = \"1\"')\n",
        "  st.write('Occupation: Employed = \"0\", Student = \"1\"')\n",
        "  st.write('Travel Purpose: Family Trip / Entertainment / Others = \"0\", Holiday & Leisure = \"1\"')\n",
        "  st.write('Preferred Mode of Transport: Non_Flight = \"0\", Flight = \"1\"')\n",
        "  st.write('Preferred Length Of Stay: Less than 3 days = \"0\", 3 Days = \"1\",4 days and above = \"2\"')\n",
        "  st.write('Amount Willing to Pay for Travel: Less than RM 300 = \"0\", More than RM 300 = \"1\"')\n",
        "  st.write('Preferred POI: Shopping Malls & Historical Site = \"0\", Beaches and waterfall = \"1\", Adventure and Activity = \"2\"')\n",
        "  st.write('Preferred Travel Destination: Central Region = \"0\", East Coast Region  = \"1\", East Malaysia = \"2\", Northern Region = \"3\", Southern Region = \"4\"')\n",
        "\n",
        "\n",
        "  # Receive inputs\n",
        "  gender = st.text_input('Gender')\n",
        "  age = st.text_input('Age')\n",
        "  household_income = st.text_input('Household Income')\n",
        "  occupation = st.text_input('Occupation')\n",
        "  travel_purpose = st.text_input('Travel Purpose')\n",
        "  pref_transport_mode = st.text_input('Preferred Mode of Transport')\n",
        "  pref_length_stay = st.text_input('Preferred Length Of Stay')\n",
        "  travel_pay_willingness = st.text_input('Amount Willing to Pay for Travel')\n",
        "  pref_poi = st.text_input('Preferred POI')\n",
        "  pref_travel_destination = st.text_input('Preferred Travel Destination')\n",
        "\n",
        "  input_data = (gender,age,household_income,occupation,travel_purpose,pref_transport_mode,pref_length_stay,travel_pay_willingness,pref_poi,pref_travel_destination)\n",
        "  input_data_as_numpy_array = np.asarray(input_data)\n",
        "  input_data_reshaped = input_data_as_numpy_array.reshape(1,-1) \n",
        "\n",
        "  # code for prediction\n",
        "  travel = ''\n",
        "\n",
        "  # create button for prediction\n",
        "\n",
        "  if st.button('Traveller Cluster Results'):\n",
        "    travel = NNmodel_deploy.predict(input_data_reshaped) \n",
        "\n",
        "    if (travel[0] == 0):\n",
        "        travel = 'This traveller is classified under cluster 0'\n",
        "    elif (travel[0] == 1):\n",
        "        travel = 'This traveller is classified under cluster 1'\n",
        "    else:\n",
        "        travel = 'This traveller is classified under cluster 2'\n",
        "\n",
        "    st.success(travel)\n",
        "\n",
        "if __name__ == '__main__':\n",
        "  main()"
      ],
      "metadata": {
        "colab": {
          "base_uri": "https://localhost:8080/"
        },
        "id": "9BMSbEaOzJ6W",
        "outputId": "0311924b-0845-4660-968d-83682c9233d3"
      },
      "execution_count": null,
      "outputs": [
        {
          "output_type": "stream",
          "name": "stdout",
          "text": [
            "Writing app.py\n"
          ]
        }
      ]
    },
    {
      "cell_type": "code",
      "source": [
        "# Install and load PYNGROK to create the temporary web application"
      ],
      "metadata": {
        "id": "v200m9T6zMLf"
      },
      "execution_count": null,
      "outputs": []
    },
    {
      "cell_type": "code",
      "source": [
        "! pip install pyngrok"
      ],
      "metadata": {
        "colab": {
          "base_uri": "https://localhost:8080/"
        },
        "id": "aRGmdBiBzWVD",
        "outputId": "50c67211-46aa-40a1-8808-cf6d46ad2802"
      },
      "execution_count": null,
      "outputs": [
        {
          "output_type": "stream",
          "name": "stdout",
          "text": [
            "Looking in indexes: https://pypi.org/simple, https://us-python.pkg.dev/colab-wheels/public/simple/\n",
            "Collecting pyngrok\n",
            "  Downloading pyngrok-5.1.0.tar.gz (745 kB)\n",
            "\u001b[K     |████████████████████████████████| 745 kB 5.2 MB/s \n",
            "\u001b[?25hRequirement already satisfied: PyYAML in /usr/local/lib/python3.7/dist-packages (from pyngrok) (3.13)\n",
            "Building wheels for collected packages: pyngrok\n",
            "  Building wheel for pyngrok (setup.py) ... \u001b[?25l\u001b[?25hdone\n",
            "  Created wheel for pyngrok: filename=pyngrok-5.1.0-py3-none-any.whl size=19007 sha256=71a6dcb3282db0243293b7dd3b0d704fa7266507d927b767b78dd5843a036656\n",
            "  Stored in directory: /root/.cache/pip/wheels/bf/e6/af/ccf6598ecefecd44104069371795cb9b3afbcd16987f6ccfb3\n",
            "Successfully built pyngrok\n",
            "Installing collected packages: pyngrok\n",
            "Successfully installed pyngrok-5.1.0\n"
          ]
        }
      ]
    },
    {
      "cell_type": "code",
      "source": [
        "from pyngrok import ngrok"
      ],
      "metadata": {
        "id": "ZcAUxEHSzWry"
      },
      "execution_count": null,
      "outputs": []
    },
    {
      "cell_type": "code",
      "source": [
        "ngrok.set_auth_token(\"NGROK_AUTH_TOKEN\") \n",
        "# https://dashboard.ngrok.com/cloud-edge/endpoints"
      ],
      "metadata": {
        "colab": {
          "base_uri": "https://localhost:8080/"
        },
        "id": "_LUxIg_GzX2c",
        "outputId": "352c686a-c85c-4be2-908f-c938879db5fe"
      },
      "execution_count": null,
      "outputs": [
        {
          "output_type": "stream",
          "name": "stdout",
          "text": [
            ""
          ]
        },
        {
          "output_type": "stream",
          "name": "stderr",
          "text": [
            "INFO:pyngrok.process:Updating authtoken for default \"config_path\" of \"ngrok_path\": /usr/local/lib/python3.7/dist-packages/pyngrok/bin/ngrok\n",
            "2022-08-18 01:53:20.860 INFO    pyngrok.process: Updating authtoken for default \"config_path\" of \"ngrok_path\": /usr/local/lib/python3.7/dist-packages/pyngrok/bin/ngrok\n"
          ]
        }
      ]
    },
    {
      "cell_type": "code",
      "source": [
        "!nohup streamlit run app.py --server.port 80 & # to generate one external links\n",
        "url = ngrok.connect(port = '80')\n",
        "print(url)"
      ],
      "metadata": {
        "colab": {
          "base_uri": "https://localhost:8080/"
        },
        "id": "iGcACZOH1JDP",
        "outputId": "c0e0c915-7c44-4add-bdb9-c2dc8f5be408"
      },
      "execution_count": null,
      "outputs": [
        {
          "output_type": "stream",
          "name": "stdout",
          "text": [
            "nohup: appending output to 'nohup.out'\n"
          ]
        },
        {
          "output_type": "stream",
          "name": "stderr",
          "text": [
            "INFO:pyngrok.ngrok:Opening tunnel named: http-80-5ba2a512-1198-4d94-98ef-32257627b2ac\n",
            "2022-08-18 01:53:36.203 INFO    pyngrok.ngrok: Opening tunnel named: http-80-5ba2a512-1198-4d94-98ef-32257627b2ac\n",
            "INFO:pyngrok.process.ngrok:t=2022-08-18T01:53:36+0000 lvl=info msg=\"no configuration paths supplied\"\n",
            "2022-08-18 01:53:36.253 INFO    pyngrok.process.ngrok: t=2022-08-18T01:53:36+0000 lvl=info msg=\"no configuration paths supplied\"\n",
            "INFO:pyngrok.process.ngrok:t=2022-08-18T01:53:36+0000 lvl=info msg=\"using configuration at default config path\" path=/root/.ngrok2/ngrok.yml\n",
            "2022-08-18 01:53:36.262 INFO    pyngrok.process.ngrok: t=2022-08-18T01:53:36+0000 lvl=info msg=\"using configuration at default config path\" path=/root/.ngrok2/ngrok.yml\n",
            "INFO:pyngrok.process.ngrok:t=2022-08-18T01:53:36+0000 lvl=info msg=\"open config file\" path=/root/.ngrok2/ngrok.yml err=nil\n",
            "2022-08-18 01:53:36.273 INFO    pyngrok.process.ngrok: t=2022-08-18T01:53:36+0000 lvl=info msg=\"open config file\" path=/root/.ngrok2/ngrok.yml err=nil\n",
            "INFO:pyngrok.process.ngrok:t=2022-08-18T01:53:36+0000 lvl=info msg=\"starting web service\" obj=web addr=127.0.0.1:4040\n",
            "2022-08-18 01:53:36.283 INFO    pyngrok.process.ngrok: t=2022-08-18T01:53:36+0000 lvl=info msg=\"starting web service\" obj=web addr=127.0.0.1:4040\n",
            "INFO:pyngrok.process.ngrok:t=2022-08-18T01:53:36+0000 lvl=info msg=\"tunnel session started\" obj=tunnels.session\n",
            "2022-08-18 01:53:36.503 INFO    pyngrok.process.ngrok: t=2022-08-18T01:53:36+0000 lvl=info msg=\"tunnel session started\" obj=tunnels.session\n",
            "INFO:pyngrok.process.ngrok:t=2022-08-18T01:53:36+0000 lvl=info msg=\"client session established\" obj=csess id=1b86da959a5c\n",
            "2022-08-18 01:53:36.511 INFO    pyngrok.process.ngrok: t=2022-08-18T01:53:36+0000 lvl=info msg=\"client session established\" obj=csess id=1b86da959a5c\n",
            "INFO:pyngrok.process.ngrok:t=2022-08-18T01:53:36+0000 lvl=info msg=start pg=/api/tunnels id=a46396370b652db9\n",
            "2022-08-18 01:53:36.532 INFO    pyngrok.process.ngrok: t=2022-08-18T01:53:36+0000 lvl=info msg=start pg=/api/tunnels id=a46396370b652db9\n",
            "INFO:pyngrok.process.ngrok:t=2022-08-18T01:53:36+0000 lvl=info msg=end pg=/api/tunnels id=a46396370b652db9 status=200 dur=417.07µs\n",
            "2022-08-18 01:53:36.540 INFO    pyngrok.process.ngrok: t=2022-08-18T01:53:36+0000 lvl=info msg=end pg=/api/tunnels id=a46396370b652db9 status=200 dur=417.07µs\n",
            "INFO:pyngrok.process.ngrok:t=2022-08-18T01:53:36+0000 lvl=info msg=start pg=/api/tunnels id=ca46eadc956b0748\n",
            "2022-08-18 01:53:36.549 INFO    pyngrok.process.ngrok: t=2022-08-18T01:53:36+0000 lvl=info msg=start pg=/api/tunnels id=ca46eadc956b0748\n",
            "INFO:pyngrok.process.ngrok:t=2022-08-18T01:53:36+0000 lvl=info msg=end pg=/api/tunnels id=ca46eadc956b0748 status=200 dur=121.269µs\n",
            "2022-08-18 01:53:36.559 INFO    pyngrok.process.ngrok: t=2022-08-18T01:53:36+0000 lvl=info msg=end pg=/api/tunnels id=ca46eadc956b0748 status=200 dur=121.269µs\n",
            "INFO:pyngrok.process.ngrok:t=2022-08-18T01:53:36+0000 lvl=info msg=start pg=/api/tunnels id=e265ad3d6e2d6b55\n",
            "2022-08-18 01:53:36.568 INFO    pyngrok.process.ngrok: t=2022-08-18T01:53:36+0000 lvl=info msg=start pg=/api/tunnels id=e265ad3d6e2d6b55\n",
            "INFO:pyngrok.process.ngrok:t=2022-08-18T01:53:36+0000 lvl=info msg=\"started tunnel\" obj=tunnels name=\"http-80-5ba2a512-1198-4d94-98ef-32257627b2ac (http)\" addr=http://localhost:80 url=http://cc22-34-125-58-171.ngrok.io\n",
            "2022-08-18 01:53:36.693 INFO    pyngrok.process.ngrok: t=2022-08-18T01:53:36+0000 lvl=info msg=\"started tunnel\" obj=tunnels name=\"http-80-5ba2a512-1198-4d94-98ef-32257627b2ac (http)\" addr=http://localhost:80 url=http://cc22-34-125-58-171.ngrok.io\n",
            "INFO:pyngrok.process.ngrok:t=2022-08-18T01:53:36+0000 lvl=info msg=\"started tunnel\" obj=tunnels name=http-80-5ba2a512-1198-4d94-98ef-32257627b2ac addr=http://localhost:80 url=https://cc22-34-125-58-171.ngrok.io\n",
            "2022-08-18 01:53:36.702 INFO    pyngrok.process.ngrok: t=2022-08-18T01:53:36+0000 lvl=info msg=\"started tunnel\" obj=tunnels name=http-80-5ba2a512-1198-4d94-98ef-32257627b2ac addr=http://localhost:80 url=https://cc22-34-125-58-171.ngrok.io\n",
            "INFO:pyngrok.process.ngrok:t=2022-08-18T01:53:36+0000 lvl=info msg=end pg=/api/tunnels id=e265ad3d6e2d6b55 status=201 dur=165.932097ms\n",
            "2022-08-18 01:53:36.705 INFO    pyngrok.process.ngrok: t=2022-08-18T01:53:36+0000 lvl=info msg=end pg=/api/tunnels id=e265ad3d6e2d6b55 status=201 dur=165.932097ms\n"
          ]
        },
        {
          "output_type": "stream",
          "name": "stdout",
          "text": [
            "NgrokTunnel: \"http://cc22-34-125-58-171.ngrok.io\" -> \"http://localhost:80\"\n"
          ]
        },
        {
          "output_type": "stream",
          "name": "stderr",
          "text": [
            "INFO:pyngrok.process.ngrok:t=2022-08-18T01:53:36+0000 lvl=info msg=start pg=\"/api/tunnels/http-80-5ba2a512-1198-4d94-98ef-32257627b2ac (http)\" id=88df667b80a6ae61\n",
            "2022-08-18 01:53:36.711 INFO    pyngrok.process.ngrok: t=2022-08-18T01:53:36+0000 lvl=info msg=start pg=\"/api/tunnels/http-80-5ba2a512-1198-4d94-98ef-32257627b2ac (http)\" id=88df667b80a6ae61\n",
            "INFO:pyngrok.process.ngrok:t=2022-08-18T01:53:36+0000 lvl=info msg=end pg=\"/api/tunnels/http-80-5ba2a512-1198-4d94-98ef-32257627b2ac (http)\" id=88df667b80a6ae61 status=200 dur=185.794µs\n",
            "2022-08-18 01:53:36.717 INFO    pyngrok.process.ngrok: t=2022-08-18T01:53:36+0000 lvl=info msg=end pg=\"/api/tunnels/http-80-5ba2a512-1198-4d94-98ef-32257627b2ac (http)\" id=88df667b80a6ae61 status=200 dur=185.794µs\n"
          ]
        }
      ]
    },
    {
      "cell_type": "code",
      "source": [
        "tunnels = ngrok.get_tunnels() # to generate multiple available external links\n",
        "tunnels"
      ],
      "metadata": {
        "colab": {
          "base_uri": "https://localhost:8080/"
        },
        "id": "huYIqzqgz4e5",
        "outputId": "0728701a-f5f4-4a73-cf37-712679676af3"
      },
      "execution_count": null,
      "outputs": [
        {
          "output_type": "stream",
          "name": "stderr",
          "text": [
            "INFO:pyngrok.process.ngrok:t=2022-08-18T01:53:41+0000 lvl=info msg=start pg=/api/tunnels id=a43291eb8b5676b1\n",
            "2022-08-18 01:53:41.529 INFO    pyngrok.process.ngrok: t=2022-08-18T01:53:41+0000 lvl=info msg=start pg=/api/tunnels id=a43291eb8b5676b1\n",
            "INFO:pyngrok.process.ngrok:t=2022-08-18T01:53:41+0000 lvl=info msg=end pg=/api/tunnels id=a43291eb8b5676b1 status=200 dur=194.358µs\n",
            "2022-08-18 01:53:41.534 INFO    pyngrok.process.ngrok: t=2022-08-18T01:53:41+0000 lvl=info msg=end pg=/api/tunnels id=a43291eb8b5676b1 status=200 dur=194.358µs\n"
          ]
        },
        {
          "output_type": "execute_result",
          "data": {
            "text/plain": [
              "[<NgrokTunnel: \"https://cc22-34-125-58-171.ngrok.io\" -> \"http://localhost:80\">,\n",
              " <NgrokTunnel: \"http://cc22-34-125-58-171.ngrok.io\" -> \"http://localhost:80\">]"
            ]
          },
          "metadata": {},
          "execution_count": 24
        }
      ]
    }
  ]
}