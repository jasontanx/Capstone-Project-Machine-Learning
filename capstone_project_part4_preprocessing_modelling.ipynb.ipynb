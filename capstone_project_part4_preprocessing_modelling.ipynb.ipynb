{
  "nbformat": 4,
  "nbformat_minor": 0,
  "metadata": {
    "colab": {
      "provenance": []
    },
    "kernelspec": {
      "name": "python3",
      "display_name": "Python 3"
    },
    "language_info": {
      "name": "python"
    }
  },
  "cells": [
    {
      "cell_type": "markdown",
      "source": [
        "Capstone - Part 4\n",
        "\n",
        "Topic: Data Pre-Processing Part 2 & Classification Modelling\n",
        "\n",
        "Created By: Jason"
      ],
      "metadata": {
        "id": "MLcgZfeRp-b-"
      }
    },
    {
      "cell_type": "code",
      "execution_count": 1,
      "metadata": {
        "colab": {
          "base_uri": "https://localhost:8080/"
        },
        "id": "oA_JGZVNp6IQ",
        "outputId": "e27d6230-633e-4fcf-993f-05c83a060e1b"
      },
      "outputs": [
        {
          "output_type": "stream",
          "name": "stdout",
          "text": [
            "Mounted at /drive\n"
          ]
        }
      ],
      "source": [
        "#Mounting our Drive to Google Colab\n",
        "from google.colab import drive\n",
        "drive.mount('/drive')"
      ]
    },
    {
      "cell_type": "code",
      "source": [
        "# Import necessary libraries\n",
        "\n",
        "import pandas as pd # data analysis\n",
        "import numpy as np # arrays"
      ],
      "metadata": {
        "id": "iIFsln0NrvPo"
      },
      "execution_count": 3,
      "outputs": []
    },
    {
      "cell_type": "code",
      "source": [
        "path = '/drive/MyDrive/Colab Notebooks/data_tour_cluster.csv' # load new dataset (with \"cluster\" as the target variable)\n",
        "data = pd.read_csv(path)"
      ],
      "metadata": {
        "id": "kZDozqNnrsYB"
      },
      "execution_count": 4,
      "outputs": []
    },
    {
      "cell_type": "code",
      "source": [
        "# Check the variable information (Data type etc.)\n",
        "data.info()"
      ],
      "metadata": {
        "colab": {
          "base_uri": "https://localhost:8080/"
        },
        "id": "oi0990PDrxHf",
        "outputId": "30371890-3349-4af2-90b0-f9709cec9e58"
      },
      "execution_count": 5,
      "outputs": [
        {
          "output_type": "stream",
          "name": "stdout",
          "text": [
            "<class 'pandas.core.frame.DataFrame'>\n",
            "RangeIndex: 115 entries, 0 to 114\n",
            "Data columns (total 14 columns):\n",
            " #   Column                   Non-Null Count  Dtype \n",
            "---  ------                   --------------  ----- \n",
            " 0   Unnamed: 0               115 non-null    int64 \n",
            " 1   Cluster                  115 non-null    int64 \n",
            " 2   gender                   115 non-null    object\n",
            " 3   age                      115 non-null    object\n",
            " 4   household_income         115 non-null    object\n",
            " 5   education_level          115 non-null    object\n",
            " 6   occupation               115 non-null    object\n",
            " 7   travel_purpose           115 non-null    object\n",
            " 8   pref_transport_mode      115 non-null    object\n",
            " 9   pref_length_stay         115 non-null    object\n",
            " 10  travel_pay_willingness   115 non-null    object\n",
            " 11  pref_poi                 115 non-null    object\n",
            " 12  pref_group_size          115 non-null    object\n",
            " 13  pref_travel_destination  115 non-null    object\n",
            "dtypes: int64(2), object(12)\n",
            "memory usage: 12.7+ KB\n"
          ]
        }
      ]
    },
    {
      "cell_type": "code",
      "source": [
        "# variable 'cluster' type is classified as 'numeric' - hence, changes needed to change\n",
        "# creating a dictionary with column name and data type\n",
        "data_types_dict = {'Cluster': str}\n",
        "  \n",
        "# we will change the data type \n",
        "# of id column to str by giving\n",
        "# the dict to the astype method\n",
        "data = data.astype(data_types_dict)\n",
        "  \n",
        "# checking the data types\n",
        "# using df.dtypes method\n",
        "data.dtypes"
      ],
      "metadata": {
        "colab": {
          "base_uri": "https://localhost:8080/"
        },
        "id": "AFR6hSsKr1fh",
        "outputId": "bae90e1d-8425-4d7e-8f7f-4d30140ba38e"
      },
      "execution_count": 6,
      "outputs": [
        {
          "output_type": "execute_result",
          "data": {
            "text/plain": [
              "Unnamed: 0                  int64\n",
              "Cluster                    object\n",
              "gender                     object\n",
              "age                        object\n",
              "household_income           object\n",
              "education_level            object\n",
              "occupation                 object\n",
              "travel_purpose             object\n",
              "pref_transport_mode        object\n",
              "pref_length_stay           object\n",
              "travel_pay_willingness     object\n",
              "pref_poi                   object\n",
              "pref_group_size            object\n",
              "pref_travel_destination    object\n",
              "dtype: object"
            ]
          },
          "metadata": {},
          "execution_count": 6
        }
      ]
    },
    {
      "cell_type": "code",
      "source": [
        "# Remove irrelavant columns \n",
        "# First variable is not be useful for further analysis\n",
        "\n",
        "data = data.drop(['Unnamed: 0'], axis=1)\n",
        "data.dtypes"
      ],
      "metadata": {
        "colab": {
          "base_uri": "https://localhost:8080/"
        },
        "id": "CTHabL76sA-K",
        "outputId": "305127b9-8939-4d72-840d-ebd5a136444e"
      },
      "execution_count": 7,
      "outputs": [
        {
          "output_type": "execute_result",
          "data": {
            "text/plain": [
              "Cluster                    object\n",
              "gender                     object\n",
              "age                        object\n",
              "household_income           object\n",
              "education_level            object\n",
              "occupation                 object\n",
              "travel_purpose             object\n",
              "pref_transport_mode        object\n",
              "pref_length_stay           object\n",
              "travel_pay_willingness     object\n",
              "pref_poi                   object\n",
              "pref_group_size            object\n",
              "pref_travel_destination    object\n",
              "dtype: object"
            ]
          },
          "metadata": {},
          "execution_count": 7
        }
      ]
    },
    {
      "cell_type": "markdown",
      "source": [
        "Data Pre-Processing: Label Encoding"
      ],
      "metadata": {
        "id": "okVYOPojsHEK"
      }
    },
    {
      "cell_type": "code",
      "source": [
        "# Label Encoding\n",
        "from sklearn.preprocessing import LabelEncoder\n",
        "# Label encode categorical variables\n",
        "# gender # age # household income # education level # occupation\n",
        "\n",
        "data_encoded = data.copy() # To serve as backup incase there is Pandas error\n",
        "data_encoded[['gender', 'age', 'household_income','education_level', 'occupation', 'pref_transport_mode', 'travel_pay_willingness', 'pref_group_size', 'travel_purpose']] = data_encoded[['gender', 'age', 'household_income','education_level', 'occupation', 'pref_transport_mode', 'travel_pay_willingness', 'pref_group_size','travel_purpose']].apply(LabelEncoder().fit_transform)\n"
      ],
      "metadata": {
        "id": "Gk76M9NIsGD0"
      },
      "execution_count": 8,
      "outputs": []
    },
    {
      "cell_type": "code",
      "source": [
        "# Simple view on the dataset to double-confirm\n",
        "data_encoded.head()"
      ],
      "metadata": {
        "colab": {
          "base_uri": "https://localhost:8080/",
          "height": 548
        },
        "id": "xNHyjpBusOie",
        "outputId": "893266a9-2a56-451c-dcb5-56c76bbb5db3"
      },
      "execution_count": 9,
      "outputs": [
        {
          "output_type": "execute_result",
          "data": {
            "text/plain": [
              "  Cluster  gender  age  household_income  education_level  occupation  \\\n",
              "0       0       0    0                 1                1           1   \n",
              "1       1       1    0                 1                2           0   \n",
              "2       2       0    0                 0                2           0   \n",
              "3       2       1    0                 0                1           0   \n",
              "4       2       0    0                 0                1           0   \n",
              "\n",
              "   travel_purpose  pref_transport_mode  pref_length_stay  \\\n",
              "0               0                    0  Less than 3 days   \n",
              "1               1                    0            3 Days   \n",
              "2               1                    0            3 Days   \n",
              "3               1                    1  Less than 3 days   \n",
              "4               1                    0            3 Days   \n",
              "\n",
              "   travel_pay_willingness                                           pref_poi  \\\n",
              "0                       0                   Shopping Malls & Historical Site   \n",
              "1                       0                   Shopping Malls & Historical Site   \n",
              "2                       1                              Beaches and waterfall   \n",
              "3                       0                              Beaches and waterfall   \n",
              "4                       1  Adventure and Activity (Ex: Hiking, Mountain C...   \n",
              "\n",
              "   pref_group_size                            pref_travel_destination  \n",
              "0                0                  East Malaysia (Sabah and Sarawak)  \n",
              "1                0  Southern Region (Malacca, Johor and Negeri Sem...  \n",
              "2                1  East Coast Region (Kelantan, Terengganu and Pa...  \n",
              "3                0  East Coast Region (Kelantan, Terengganu and Pa...  \n",
              "4                0  East Coast Region (Kelantan, Terengganu and Pa...  "
            ],
            "text/html": [
              "\n",
              "  <div id=\"df-faab24e1-03c2-4753-be29-85e497c73116\">\n",
              "    <div class=\"colab-df-container\">\n",
              "      <div>\n",
              "<style scoped>\n",
              "    .dataframe tbody tr th:only-of-type {\n",
              "        vertical-align: middle;\n",
              "    }\n",
              "\n",
              "    .dataframe tbody tr th {\n",
              "        vertical-align: top;\n",
              "    }\n",
              "\n",
              "    .dataframe thead th {\n",
              "        text-align: right;\n",
              "    }\n",
              "</style>\n",
              "<table border=\"1\" class=\"dataframe\">\n",
              "  <thead>\n",
              "    <tr style=\"text-align: right;\">\n",
              "      <th></th>\n",
              "      <th>Cluster</th>\n",
              "      <th>gender</th>\n",
              "      <th>age</th>\n",
              "      <th>household_income</th>\n",
              "      <th>education_level</th>\n",
              "      <th>occupation</th>\n",
              "      <th>travel_purpose</th>\n",
              "      <th>pref_transport_mode</th>\n",
              "      <th>pref_length_stay</th>\n",
              "      <th>travel_pay_willingness</th>\n",
              "      <th>pref_poi</th>\n",
              "      <th>pref_group_size</th>\n",
              "      <th>pref_travel_destination</th>\n",
              "    </tr>\n",
              "  </thead>\n",
              "  <tbody>\n",
              "    <tr>\n",
              "      <th>0</th>\n",
              "      <td>0</td>\n",
              "      <td>0</td>\n",
              "      <td>0</td>\n",
              "      <td>1</td>\n",
              "      <td>1</td>\n",
              "      <td>1</td>\n",
              "      <td>0</td>\n",
              "      <td>0</td>\n",
              "      <td>Less than 3 days</td>\n",
              "      <td>0</td>\n",
              "      <td>Shopping Malls &amp; Historical Site</td>\n",
              "      <td>0</td>\n",
              "      <td>East Malaysia (Sabah and Sarawak)</td>\n",
              "    </tr>\n",
              "    <tr>\n",
              "      <th>1</th>\n",
              "      <td>1</td>\n",
              "      <td>1</td>\n",
              "      <td>0</td>\n",
              "      <td>1</td>\n",
              "      <td>2</td>\n",
              "      <td>0</td>\n",
              "      <td>1</td>\n",
              "      <td>0</td>\n",
              "      <td>3 Days</td>\n",
              "      <td>0</td>\n",
              "      <td>Shopping Malls &amp; Historical Site</td>\n",
              "      <td>0</td>\n",
              "      <td>Southern Region (Malacca, Johor and Negeri Sem...</td>\n",
              "    </tr>\n",
              "    <tr>\n",
              "      <th>2</th>\n",
              "      <td>2</td>\n",
              "      <td>0</td>\n",
              "      <td>0</td>\n",
              "      <td>0</td>\n",
              "      <td>2</td>\n",
              "      <td>0</td>\n",
              "      <td>1</td>\n",
              "      <td>0</td>\n",
              "      <td>3 Days</td>\n",
              "      <td>1</td>\n",
              "      <td>Beaches and waterfall</td>\n",
              "      <td>1</td>\n",
              "      <td>East Coast Region (Kelantan, Terengganu and Pa...</td>\n",
              "    </tr>\n",
              "    <tr>\n",
              "      <th>3</th>\n",
              "      <td>2</td>\n",
              "      <td>1</td>\n",
              "      <td>0</td>\n",
              "      <td>0</td>\n",
              "      <td>1</td>\n",
              "      <td>0</td>\n",
              "      <td>1</td>\n",
              "      <td>1</td>\n",
              "      <td>Less than 3 days</td>\n",
              "      <td>0</td>\n",
              "      <td>Beaches and waterfall</td>\n",
              "      <td>0</td>\n",
              "      <td>East Coast Region (Kelantan, Terengganu and Pa...</td>\n",
              "    </tr>\n",
              "    <tr>\n",
              "      <th>4</th>\n",
              "      <td>2</td>\n",
              "      <td>0</td>\n",
              "      <td>0</td>\n",
              "      <td>0</td>\n",
              "      <td>1</td>\n",
              "      <td>0</td>\n",
              "      <td>1</td>\n",
              "      <td>0</td>\n",
              "      <td>3 Days</td>\n",
              "      <td>1</td>\n",
              "      <td>Adventure and Activity (Ex: Hiking, Mountain C...</td>\n",
              "      <td>0</td>\n",
              "      <td>East Coast Region (Kelantan, Terengganu and Pa...</td>\n",
              "    </tr>\n",
              "  </tbody>\n",
              "</table>\n",
              "</div>\n",
              "      <button class=\"colab-df-convert\" onclick=\"convertToInteractive('df-faab24e1-03c2-4753-be29-85e497c73116')\"\n",
              "              title=\"Convert this dataframe to an interactive table.\"\n",
              "              style=\"display:none;\">\n",
              "        \n",
              "  <svg xmlns=\"http://www.w3.org/2000/svg\" height=\"24px\"viewBox=\"0 0 24 24\"\n",
              "       width=\"24px\">\n",
              "    <path d=\"M0 0h24v24H0V0z\" fill=\"none\"/>\n",
              "    <path d=\"M18.56 5.44l.94 2.06.94-2.06 2.06-.94-2.06-.94-.94-2.06-.94 2.06-2.06.94zm-11 1L8.5 8.5l.94-2.06 2.06-.94-2.06-.94L8.5 2.5l-.94 2.06-2.06.94zm10 10l.94 2.06.94-2.06 2.06-.94-2.06-.94-.94-2.06-.94 2.06-2.06.94z\"/><path d=\"M17.41 7.96l-1.37-1.37c-.4-.4-.92-.59-1.43-.59-.52 0-1.04.2-1.43.59L10.3 9.45l-7.72 7.72c-.78.78-.78 2.05 0 2.83L4 21.41c.39.39.9.59 1.41.59.51 0 1.02-.2 1.41-.59l7.78-7.78 2.81-2.81c.8-.78.8-2.07 0-2.86zM5.41 20L4 18.59l7.72-7.72 1.47 1.35L5.41 20z\"/>\n",
              "  </svg>\n",
              "      </button>\n",
              "      \n",
              "  <style>\n",
              "    .colab-df-container {\n",
              "      display:flex;\n",
              "      flex-wrap:wrap;\n",
              "      gap: 12px;\n",
              "    }\n",
              "\n",
              "    .colab-df-convert {\n",
              "      background-color: #E8F0FE;\n",
              "      border: none;\n",
              "      border-radius: 50%;\n",
              "      cursor: pointer;\n",
              "      display: none;\n",
              "      fill: #1967D2;\n",
              "      height: 32px;\n",
              "      padding: 0 0 0 0;\n",
              "      width: 32px;\n",
              "    }\n",
              "\n",
              "    .colab-df-convert:hover {\n",
              "      background-color: #E2EBFA;\n",
              "      box-shadow: 0px 1px 2px rgba(60, 64, 67, 0.3), 0px 1px 3px 1px rgba(60, 64, 67, 0.15);\n",
              "      fill: #174EA6;\n",
              "    }\n",
              "\n",
              "    [theme=dark] .colab-df-convert {\n",
              "      background-color: #3B4455;\n",
              "      fill: #D2E3FC;\n",
              "    }\n",
              "\n",
              "    [theme=dark] .colab-df-convert:hover {\n",
              "      background-color: #434B5C;\n",
              "      box-shadow: 0px 1px 3px 1px rgba(0, 0, 0, 0.15);\n",
              "      filter: drop-shadow(0px 1px 2px rgba(0, 0, 0, 0.3));\n",
              "      fill: #FFFFFF;\n",
              "    }\n",
              "  </style>\n",
              "\n",
              "      <script>\n",
              "        const buttonEl =\n",
              "          document.querySelector('#df-faab24e1-03c2-4753-be29-85e497c73116 button.colab-df-convert');\n",
              "        buttonEl.style.display =\n",
              "          google.colab.kernel.accessAllowed ? 'block' : 'none';\n",
              "\n",
              "        async function convertToInteractive(key) {\n",
              "          const element = document.querySelector('#df-faab24e1-03c2-4753-be29-85e497c73116');\n",
              "          const dataTable =\n",
              "            await google.colab.kernel.invokeFunction('convertToInteractive',\n",
              "                                                     [key], {});\n",
              "          if (!dataTable) return;\n",
              "\n",
              "          const docLinkHtml = 'Like what you see? Visit the ' +\n",
              "            '<a target=\"_blank\" href=https://colab.research.google.com/notebooks/data_table.ipynb>data table notebook</a>'\n",
              "            + ' to learn more about interactive tables.';\n",
              "          element.innerHTML = '';\n",
              "          dataTable['output_type'] = 'display_data';\n",
              "          await google.colab.output.renderOutput(dataTable, element);\n",
              "          const docLink = document.createElement('div');\n",
              "          docLink.innerHTML = docLinkHtml;\n",
              "          element.appendChild(docLink);\n",
              "        }\n",
              "      </script>\n",
              "    </div>\n",
              "  </div>\n",
              "  "
            ]
          },
          "metadata": {},
          "execution_count": 9
        }
      ]
    },
    {
      "cell_type": "code",
      "source": [
        "# Feature Selection -> Based on Boruta Algorithm carried out in R Programming\n",
        "# pref group size and education level will be dropped as they are not important\n",
        "# to predict the dependent variable 'clulster'\n",
        "data_encoded = data_encoded.drop(['pref_group_size', 'education_level'], axis=1)"
      ],
      "metadata": {
        "id": "m-SPz0wlsQyQ"
      },
      "execution_count": null,
      "outputs": []
    },
    {
      "cell_type": "markdown",
      "source": [
        "Data Pre-Processing: One-Hot Encoding"
      ],
      "metadata": {
        "id": "226PmijRshI8"
      }
    },
    {
      "cell_type": "code",
      "source": [
        "# One Hot Encoding\n",
        "# pref length stay\n",
        "# pref travel destination\n",
        "# poi\n",
        "from sklearn.compose import make_column_transformer\n",
        "from sklearn.preprocessing import OneHotEncoder\n",
        "\n",
        "column_transform_ohe = make_column_transformer(\n",
        "               (OneHotEncoder(), ['pref_length_stay','pref_poi','pref_travel_destination']), \n",
        "               remainder = 'passthrough')\n",
        "\n",
        "data_encoded_2 = column_transform_ohe.fit_transform(data_encoded)"
      ],
      "metadata": {
        "id": "wbCth2kgseti"
      },
      "execution_count": 10,
      "outputs": []
    },
    {
      "cell_type": "code",
      "source": [
        "data_encoded_2"
      ],
      "metadata": {
        "colab": {
          "base_uri": "https://localhost:8080/"
        },
        "id": "8dHKEy2pskw1",
        "outputId": "3ed8834e-b9f9-462e-92d8-7e82b5589d2c"
      },
      "execution_count": 11,
      "outputs": [
        {
          "output_type": "execute_result",
          "data": {
            "text/plain": [
              "array([[0.0, 0.0, 1.0, ..., 0, 0, 0],\n",
              "       [1.0, 0.0, 0.0, ..., 0, 0, 0],\n",
              "       [1.0, 0.0, 0.0, ..., 0, 1, 1],\n",
              "       ...,\n",
              "       [0.0, 1.0, 0.0, ..., 0, 1, 1],\n",
              "       [0.0, 0.0, 1.0, ..., 0, 0, 0],\n",
              "       [0.0, 1.0, 0.0, ..., 0, 0, 0]], dtype=object)"
            ]
          },
          "metadata": {},
          "execution_count": 11
        }
      ]
    },
    {
      "cell_type": "markdown",
      "source": [
        "Modelling - Supervised Machine Learning / Classification (Phase 2)"
      ],
      "metadata": {
        "id": "W1Yq2RNbtEAp"
      }
    },
    {
      "cell_type": "markdown",
      "source": [
        "Data Partitioning / Data Splitting"
      ],
      "metadata": {
        "id": "4ENz2x-ptItg"
      }
    },
    {
      "cell_type": "code",
      "source": [
        "# Identify target variable \n",
        "Y = data_encoded[\"Cluster\"]\n",
        "X = data_encoded.drop(\"Cluster\", axis = 1)"
      ],
      "metadata": {
        "id": "Slc-5tR3tJL9"
      },
      "execution_count": 12,
      "outputs": []
    },
    {
      "cell_type": "code",
      "source": [
        "# Data Partitioning \n",
        "# Split the data\n",
        "# 70% train & 30% test set\n",
        "\n",
        "from sklearn.model_selection import train_test_split\n",
        "X_train, X_test, y_train, y_test = train_test_split(X, Y, test_size = 0.30, random_state = 42)\n",
        "print(X_train.shape, X_test.shape, y_train.shape, y_test.shape)  "
      ],
      "metadata": {
        "colab": {
          "base_uri": "https://localhost:8080/"
        },
        "id": "GeHTg3UWtX_A",
        "outputId": "5c976dbd-b161-42bd-9111-415fb1565acf"
      },
      "execution_count": 13,
      "outputs": [
        {
          "output_type": "stream",
          "name": "stdout",
          "text": [
            "(80, 12) (35, 12) (80,) (35,)\n"
          ]
        }
      ]
    },
    {
      "cell_type": "markdown",
      "source": [
        "Model 1: LOGISTIC REGRESSION - Multinomial (Multi-class)"
      ],
      "metadata": {
        "id": "Mbf6M76ktasx"
      }
    },
    {
      "cell_type": "code",
      "source": [
        "# Build Logistic Regression classifier \n",
        "from sklearn.linear_model import LogisticRegression\n",
        "lrmodel = LogisticRegression(multi_class='multinomial', solver='lbfgs') \n",
        "# 'multinomial' is selected as there are 3 categories in the target variable"
      ],
      "metadata": {
        "id": "2B9C6NEgtcl4"
      },
      "execution_count": 14,
      "outputs": []
    },
    {
      "cell_type": "code",
      "source": [
        "from sklearn.pipeline import make_pipeline\n",
        "# pipe library was loaded to streamline the workflow \n",
        "# The code below will execute the one hot encoding process before training\n",
        "# pipeline creation\n",
        "# 1. Data Pre-processing -> One hot encode \n",
        "# 2. Apply LR classifier \n",
        "\n",
        "lrpipe = make_pipeline(column_transform_ohe, lrmodel)"
      ],
      "metadata": {
        "id": "KBQ4sXoWteVb"
      },
      "execution_count": 15,
      "outputs": []
    },
    {
      "cell_type": "code",
      "source": [
        "lrpipe.fit(X_train, y_train)"
      ],
      "metadata": {
        "colab": {
          "base_uri": "https://localhost:8080/"
        },
        "id": "aWPlo9bktg-K",
        "outputId": "41605cc0-7e02-4801-dc66-df8de1aff7ca"
      },
      "execution_count": 16,
      "outputs": [
        {
          "output_type": "execute_result",
          "data": {
            "text/plain": [
              "Pipeline(steps=[('columntransformer',\n",
              "                 ColumnTransformer(remainder='passthrough',\n",
              "                                   transformers=[('onehotencoder',\n",
              "                                                  OneHotEncoder(),\n",
              "                                                  ['pref_length_stay',\n",
              "                                                   'pref_poi',\n",
              "                                                   'pref_travel_destination'])])),\n",
              "                ('logisticregression',\n",
              "                 LogisticRegression(multi_class='multinomial'))])"
            ]
          },
          "metadata": {},
          "execution_count": 16
        }
      ]
    },
    {
      "cell_type": "code",
      "source": [
        "y_pred = lrpipe.predict(X_test)\n",
        "y_pred"
      ],
      "metadata": {
        "colab": {
          "base_uri": "https://localhost:8080/"
        },
        "id": "RIeh_K-MtjHq",
        "outputId": "8e45ef4d-e6c0-47bb-bec5-2eeeb19549b2"
      },
      "execution_count": 17,
      "outputs": [
        {
          "output_type": "execute_result",
          "data": {
            "text/plain": [
              "array(['1', '2', '2', '1', '1', '1', '0', '2', '0', '2', '0', '2', '1',\n",
              "       '2', '2', '0', '1', '1', '0', '1', '0', '0', '2', '2', '0', '0',\n",
              "       '1', '1', '1', '0', '1', '0', '2', '1', '2'], dtype=object)"
            ]
          },
          "metadata": {},
          "execution_count": 17
        }
      ]
    },
    {
      "cell_type": "code",
      "source": [
        "# Model performance - LR (Accuracy)\n",
        "accuracy = lrpipe.score(X_test, y_test)\n",
        "print(\"Accuracy: %.4f\" % accuracy)"
      ],
      "metadata": {
        "colab": {
          "base_uri": "https://localhost:8080/"
        },
        "id": "jlzEGn9Qtni5",
        "outputId": "092d1641-96f9-42df-982a-b05aae7c0db2"
      },
      "execution_count": 18,
      "outputs": [
        {
          "output_type": "stream",
          "name": "stdout",
          "text": [
            "Accuracy: 0.8571\n"
          ]
        }
      ]
    },
    {
      "cell_type": "code",
      "source": [
        "# Compute Confusion Matrix (Prediction of LR model)\n",
        "from sklearn.metrics import classification_report, confusion_matrix\n",
        "print(confusion_matrix(y_test,y_pred))\n",
        "print(classification_report(y_test,y_pred))"
      ],
      "metadata": {
        "colab": {
          "base_uri": "https://localhost:8080/"
        },
        "id": "KXSltwhRtp8z",
        "outputId": "c01bf3f9-9bf0-41f0-d9c7-3dcf094cc299"
      },
      "execution_count": 19,
      "outputs": [
        {
          "output_type": "stream",
          "name": "stdout",
          "text": [
            "[[ 9  0  2]\n",
            " [ 0 12  0]\n",
            " [ 2  1  9]]\n",
            "              precision    recall  f1-score   support\n",
            "\n",
            "           0       0.82      0.82      0.82        11\n",
            "           1       0.92      1.00      0.96        12\n",
            "           2       0.82      0.75      0.78        12\n",
            "\n",
            "    accuracy                           0.86        35\n",
            "   macro avg       0.85      0.86      0.85        35\n",
            "weighted avg       0.85      0.86      0.85        35\n",
            "\n"
          ]
        }
      ]
    },
    {
      "cell_type": "markdown",
      "source": [
        "Model 2: ARTIFICIAL NEURAL NETWORK (ANN)"
      ],
      "metadata": {
        "id": "OR_imKnKtwC0"
      }
    },
    {
      "cell_type": "code",
      "source": [
        "from sklearn.neural_network import MLPClassifier \n",
        "# 2 Hidden layers\n",
        "# Each Hidden layers has 100 neurons\n",
        "nnmodel = MLPClassifier(hidden_layer_sizes = [100,100], alpha = 5.0, random_state = 42, solver = 'lbfgs')"
      ],
      "metadata": {
        "id": "eAwu3agjtsTT"
      },
      "execution_count": 20,
      "outputs": []
    },
    {
      "cell_type": "code",
      "source": [
        "from sklearn.pipeline import make_pipeline\n",
        "# pipe library was loaded to streamline the workflow \n",
        "# The code below will execute the one hot encoding process before training\n",
        "# pipeline creation\n",
        "# 1. Data Pre-processing -> One hot encode \n",
        "# 2. Apply Neural Network (ANN) \n",
        "\n",
        "nnpipe = make_pipeline(column_transform_ohe, nnmodel)"
      ],
      "metadata": {
        "id": "NrLuyQkZt0dJ"
      },
      "execution_count": 21,
      "outputs": []
    },
    {
      "cell_type": "code",
      "source": [
        "nnpipe.fit(X_train, y_train) #train the ANN"
      ],
      "metadata": {
        "colab": {
          "base_uri": "https://localhost:8080/"
        },
        "id": "UcRWx409t3Dj",
        "outputId": "f41f0f1c-2a11-4cdd-a7e1-e02b0c0d37c1"
      },
      "execution_count": 22,
      "outputs": [
        {
          "output_type": "stream",
          "name": "stderr",
          "text": [
            "/usr/local/lib/python3.8/dist-packages/sklearn/neural_network/_multilayer_perceptron.py:549: ConvergenceWarning: lbfgs failed to converge (status=1):\n",
            "STOP: TOTAL NO. of ITERATIONS REACHED LIMIT.\n",
            "\n",
            "Increase the number of iterations (max_iter) or scale the data as shown in:\n",
            "    https://scikit-learn.org/stable/modules/preprocessing.html\n",
            "  self.n_iter_ = _check_optimize_result(\"lbfgs\", opt_res, self.max_iter)\n"
          ]
        },
        {
          "output_type": "execute_result",
          "data": {
            "text/plain": [
              "Pipeline(steps=[('columntransformer',\n",
              "                 ColumnTransformer(remainder='passthrough',\n",
              "                                   transformers=[('onehotencoder',\n",
              "                                                  OneHotEncoder(),\n",
              "                                                  ['pref_length_stay',\n",
              "                                                   'pref_poi',\n",
              "                                                   'pref_travel_destination'])])),\n",
              "                ('mlpclassifier',\n",
              "                 MLPClassifier(alpha=5.0, hidden_layer_sizes=[100, 100],\n",
              "                               random_state=42, solver='lbfgs'))])"
            ]
          },
          "metadata": {},
          "execution_count": 22
        }
      ]
    },
    {
      "cell_type": "code",
      "source": [
        "y_pred = nnpipe.predict(X_test)\n",
        "y_pred # view predicted results"
      ],
      "metadata": {
        "colab": {
          "base_uri": "https://localhost:8080/"
        },
        "id": "vbivNbq8t4xC",
        "outputId": "af668ac0-3e5a-4018-f777-c5575b1345da"
      },
      "execution_count": 23,
      "outputs": [
        {
          "output_type": "execute_result",
          "data": {
            "text/plain": [
              "array(['1', '2', '2', '1', '1', '1', '0', '2', '0', '2', '0', '2', '1',\n",
              "       '2', '2', '0', '1', '1', '0', '1', '0', '0', '2', '2', '0', '0',\n",
              "       '1', '1', '1', '0', '1', '0', '2', '1', '2'], dtype='<U1')"
            ]
          },
          "metadata": {},
          "execution_count": 23
        }
      ]
    },
    {
      "cell_type": "code",
      "source": [
        "# Model performance - ANN (Accuracy)\n",
        "accuracy = nnpipe.score(X_test, y_test)\n",
        "print(\"Accuracy: %.4f\" % accuracy)"
      ],
      "metadata": {
        "colab": {
          "base_uri": "https://localhost:8080/"
        },
        "id": "y1q8whqCt7gc",
        "outputId": "faa7196e-b9be-4769-e278-4d3d40072bb6"
      },
      "execution_count": 24,
      "outputs": [
        {
          "output_type": "stream",
          "name": "stdout",
          "text": [
            "Accuracy: 0.8571\n"
          ]
        }
      ]
    },
    {
      "cell_type": "code",
      "source": [
        "# Compute Confusion Matrix (Prediction of ANN model)\n",
        "from sklearn.metrics import classification_report, confusion_matrix\n",
        "print(confusion_matrix(y_test,y_pred))\n",
        "print(classification_report(y_test,y_pred))"
      ],
      "metadata": {
        "colab": {
          "base_uri": "https://localhost:8080/"
        },
        "id": "bPdfzK2-t8Wn",
        "outputId": "95af1974-f92c-45fe-b32c-ac731bb3072c"
      },
      "execution_count": 25,
      "outputs": [
        {
          "output_type": "stream",
          "name": "stdout",
          "text": [
            "[[ 9  0  2]\n",
            " [ 0 12  0]\n",
            " [ 2  1  9]]\n",
            "              precision    recall  f1-score   support\n",
            "\n",
            "           0       0.82      0.82      0.82        11\n",
            "           1       0.92      1.00      0.96        12\n",
            "           2       0.82      0.75      0.78        12\n",
            "\n",
            "    accuracy                           0.86        35\n",
            "   macro avg       0.85      0.86      0.85        35\n",
            "weighted avg       0.85      0.86      0.85        35\n",
            "\n"
          ]
        }
      ]
    },
    {
      "cell_type": "markdown",
      "source": [
        "Model 3: ENSEMBLE MODEL - RANDOM FOREST (RF)"
      ],
      "metadata": {
        "id": "iOSoEhM3uDMV"
      }
    },
    {
      "cell_type": "code",
      "source": [
        "from sklearn.ensemble import RandomForestClassifier\n",
        "rfmodel = RandomForestClassifier(n_estimators=20, random_state=42)"
      ],
      "metadata": {
        "id": "mBXV9Q1mt-X2"
      },
      "execution_count": 26,
      "outputs": []
    },
    {
      "cell_type": "code",
      "source": [
        "from sklearn.pipeline import make_pipeline\n",
        "# pipe library was loaded to streamline the workflow \n",
        "# The code below will execute the one hot encoding process before training\n",
        "# pipeline creation\n",
        "# 1. Data Pre-processing -> One hot encode \n",
        "# 2. Apply Random Forest (RF)\n",
        "\n",
        "rfpipe = make_pipeline(column_transform_ohe, rfmodel)"
      ],
      "metadata": {
        "id": "J89Rx7l9uNhj"
      },
      "execution_count": 27,
      "outputs": []
    },
    {
      "cell_type": "code",
      "source": [
        "rfpipe.fit(X_train, y_train) #train the RF"
      ],
      "metadata": {
        "colab": {
          "base_uri": "https://localhost:8080/"
        },
        "id": "9Qz0A327uPcN",
        "outputId": "0c16517b-7eef-4b82-e05f-8970a746b803"
      },
      "execution_count": 28,
      "outputs": [
        {
          "output_type": "execute_result",
          "data": {
            "text/plain": [
              "Pipeline(steps=[('columntransformer',\n",
              "                 ColumnTransformer(remainder='passthrough',\n",
              "                                   transformers=[('onehotencoder',\n",
              "                                                  OneHotEncoder(),\n",
              "                                                  ['pref_length_stay',\n",
              "                                                   'pref_poi',\n",
              "                                                   'pref_travel_destination'])])),\n",
              "                ('randomforestclassifier',\n",
              "                 RandomForestClassifier(n_estimators=20, random_state=42))])"
            ]
          },
          "metadata": {},
          "execution_count": 28
        }
      ]
    },
    {
      "cell_type": "code",
      "source": [
        "y_pred = rfpipe.predict(X_test)\n",
        "y_pred # view predicted results"
      ],
      "metadata": {
        "colab": {
          "base_uri": "https://localhost:8080/"
        },
        "id": "vkuoeOxwuRGM",
        "outputId": "02f1c73a-6ac6-435e-d310-c7a0391ba350"
      },
      "execution_count": 29,
      "outputs": [
        {
          "output_type": "execute_result",
          "data": {
            "text/plain": [
              "array(['2', '2', '1', '1', '2', '1', '2', '2', '0', '2', '2', '1', '1',\n",
              "       '2', '2', '0', '1', '1', '0', '1', '0', '0', '2', '2', '0', '2',\n",
              "       '1', '1', '1', '1', '1', '2', '1', '1', '0'], dtype=object)"
            ]
          },
          "metadata": {},
          "execution_count": 29
        }
      ]
    },
    {
      "cell_type": "code",
      "source": [
        "# Model performance - RF (Accuracy)\n",
        "accuracy = rfpipe.score(X_test, y_test)\n",
        "print(\"Accuracy: %.4f\" % accuracy)"
      ],
      "metadata": {
        "colab": {
          "base_uri": "https://localhost:8080/"
        },
        "id": "OHWBuM0DuSx6",
        "outputId": "453b8f61-f694-4e94-a444-cb640e587c5b"
      },
      "execution_count": 30,
      "outputs": [
        {
          "output_type": "stream",
          "name": "stdout",
          "text": [
            "Accuracy: 0.7143\n"
          ]
        }
      ]
    },
    {
      "cell_type": "code",
      "source": [
        "# Compute Confusion Matrix (Prediction of RF model)\n",
        "from sklearn.metrics import classification_report, confusion_matrix\n",
        "print(confusion_matrix(y_test,y_pred))\n",
        "print(classification_report(y_test,y_pred))"
      ],
      "metadata": {
        "colab": {
          "base_uri": "https://localhost:8080/"
        },
        "id": "oUy1kXwduUXb",
        "outputId": "673c236b-6aa7-4950-f9ca-49f3fd43c56e"
      },
      "execution_count": 31,
      "outputs": [
        {
          "output_type": "stream",
          "name": "stdout",
          "text": [
            "[[ 7  1  3]\n",
            " [ 0 10  2]\n",
            " [ 0  4  8]]\n",
            "              precision    recall  f1-score   support\n",
            "\n",
            "           0       1.00      0.64      0.78        11\n",
            "           1       0.67      0.83      0.74        12\n",
            "           2       0.62      0.67      0.64        12\n",
            "\n",
            "    accuracy                           0.71        35\n",
            "   macro avg       0.76      0.71      0.72        35\n",
            "weighted avg       0.75      0.71      0.72        35\n",
            "\n"
          ]
        }
      ]
    },
    {
      "cell_type": "markdown",
      "source": [
        "Experimentation: Cross Validation"
      ],
      "metadata": {
        "id": "mkVzJzMpu_sg"
      }
    },
    {
      "cell_type": "code",
      "source": [
        "# MODEL BUILDING (Separate X and Y)\n",
        "Y = data_encoded[\"Cluster\"]\n",
        "X = data_encoded.drop(\"Cluster\", axis = 1)"
      ],
      "metadata": {
        "id": "mOi0VToLvDeF"
      },
      "execution_count": 32,
      "outputs": []
    },
    {
      "cell_type": "code",
      "source": [
        "# Split the data\n",
        "\n",
        "from sklearn.model_selection import train_test_split\n",
        "X_train, X_test, y_train, y_test = train_test_split(X, Y, test_size = 0.50, random_state = 42)\n",
        "print(X_train.shape, X_test.shape, y_train.shape, y_test.shape)  "
      ],
      "metadata": {
        "colab": {
          "base_uri": "https://localhost:8080/"
        },
        "id": "9Huw78qUvGM3",
        "outputId": "56a96368-b770-4781-9960-fa9d94ce42da"
      },
      "execution_count": 33,
      "outputs": [
        {
          "output_type": "stream",
          "name": "stdout",
          "text": [
            "(57, 12) (58, 12) (57,) (58,)\n"
          ]
        }
      ]
    },
    {
      "cell_type": "code",
      "source": [
        "# ANN / MLP\n",
        "from sklearn.neural_network import MLPClassifier \n",
        "model = MLPClassifier(hidden_layer_sizes = [100,100], alpha = 5.0, random_state = 42, solver = 'lbfgs')"
      ],
      "metadata": {
        "id": "31754FVovLga"
      },
      "execution_count": 34,
      "outputs": []
    },
    {
      "cell_type": "code",
      "source": [
        "from sklearn.pipeline import make_pipeline\n",
        "pipe = make_pipeline(column_transform_ohe, model)"
      ],
      "metadata": {
        "id": "CT3QnfiZvNDn"
      },
      "execution_count": 35,
      "outputs": []
    },
    {
      "cell_type": "code",
      "source": [
        "from sklearn.model_selection import cross_val_score\n",
        "from sklearn.model_selection import GridSearchCV\n",
        "cross_val_score(pipe, X_train, y_train, cv=5, scoring = 'accuracy').mean()"
      ],
      "metadata": {
        "colab": {
          "base_uri": "https://localhost:8080/"
        },
        "id": "dd17ZLUnvO2s",
        "outputId": "393cdebd-9b95-4ef5-cf49-d1bd25c345c5"
      },
      "execution_count": 36,
      "outputs": [
        {
          "output_type": "execute_result",
          "data": {
            "text/plain": [
              "0.740909090909091"
            ]
          },
          "metadata": {},
          "execution_count": 36
        }
      ]
    },
    {
      "cell_type": "code",
      "source": [
        "cross_val_score(pipe, X_test, y_test, cv=5, scoring = 'accuracy').mean()"
      ],
      "metadata": {
        "colab": {
          "base_uri": "https://localhost:8080/"
        },
        "id": "_mJCE2UevSGd",
        "outputId": "9a07e85f-94e3-4b93-dd3d-17c382f10057"
      },
      "execution_count": 37,
      "outputs": [
        {
          "output_type": "stream",
          "name": "stderr",
          "text": [
            "/usr/local/lib/python3.8/dist-packages/sklearn/neural_network/_multilayer_perceptron.py:549: ConvergenceWarning: lbfgs failed to converge (status=1):\n",
            "STOP: TOTAL NO. of ITERATIONS REACHED LIMIT.\n",
            "\n",
            "Increase the number of iterations (max_iter) or scale the data as shown in:\n",
            "    https://scikit-learn.org/stable/modules/preprocessing.html\n",
            "  self.n_iter_ = _check_optimize_result(\"lbfgs\", opt_res, self.max_iter)\n",
            "/usr/local/lib/python3.8/dist-packages/sklearn/neural_network/_multilayer_perceptron.py:549: ConvergenceWarning: lbfgs failed to converge (status=1):\n",
            "STOP: TOTAL NO. of ITERATIONS REACHED LIMIT.\n",
            "\n",
            "Increase the number of iterations (max_iter) or scale the data as shown in:\n",
            "    https://scikit-learn.org/stable/modules/preprocessing.html\n",
            "  self.n_iter_ = _check_optimize_result(\"lbfgs\", opt_res, self.max_iter)\n",
            "/usr/local/lib/python3.8/dist-packages/sklearn/neural_network/_multilayer_perceptron.py:549: ConvergenceWarning: lbfgs failed to converge (status=1):\n",
            "STOP: TOTAL NO. of ITERATIONS REACHED LIMIT.\n",
            "\n",
            "Increase the number of iterations (max_iter) or scale the data as shown in:\n",
            "    https://scikit-learn.org/stable/modules/preprocessing.html\n",
            "  self.n_iter_ = _check_optimize_result(\"lbfgs\", opt_res, self.max_iter)\n",
            "/usr/local/lib/python3.8/dist-packages/sklearn/neural_network/_multilayer_perceptron.py:549: ConvergenceWarning: lbfgs failed to converge (status=1):\n",
            "STOP: TOTAL NO. of ITERATIONS REACHED LIMIT.\n",
            "\n",
            "Increase the number of iterations (max_iter) or scale the data as shown in:\n",
            "    https://scikit-learn.org/stable/modules/preprocessing.html\n",
            "  self.n_iter_ = _check_optimize_result(\"lbfgs\", opt_res, self.max_iter)\n"
          ]
        },
        {
          "output_type": "execute_result",
          "data": {
            "text/plain": [
              "0.8075757575757576"
            ]
          },
          "metadata": {},
          "execution_count": 37
        }
      ]
    }
  ]
}